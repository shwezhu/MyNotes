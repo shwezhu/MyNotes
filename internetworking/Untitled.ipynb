{
 "cells": [
  {
   "cell_type": "markdown",
   "id": "aa99b120",
   "metadata": {},
   "source": [
    "\n",
    "- **Data rate** is the number of bits transmitted from one device to another per second.\n",
    "\n",
    "- **Bandwidth** is the difference between the upper and lower frequencies in **a continuous band of frequencies**. Bandwidth is the difference between two frequency points. There are 100 MHz of bandwidth between 400 and 500 MHz.\n",
    "\n",
    "- **Nyquist Bandwidth**\n",
    "\n",
    "To begin, let us consider the case of a channel that is noise free. Given a bandwidth of B, the highest signal rate(not data rate) that can be carried is 2B. \n",
    "\n",
    "说到奈奎斯特带宽，我们首先必须明确它和香农定理之间的关系。奈奎斯特带宽，指的是在无噪声情况下的符号速率(signal rate)，单位是Baud/s。香农定理，指的是在有噪声情况下的信息传输速率(data rate)，单位是bit/s。这里尤其需要注意的是，前者指的是符号速率，后者指的是信息传输速率，所以一定不要认为香农定理违背了奈奎斯特带宽。(一个脉冲信号若被编码成4bits, 则每发出一个脉冲信号, 就是4bits数据. 所以signal rate和data rate是不一样的). 并不是你想发多快，接收方就能收多快。当你发送的速率大于某一个值时，接收方仍旧能接收到你发送的信号，但是它并不能恢复出你原先先要发送的信息，没有携带信息的信号就是垃圾！在通信里，这种情况叫码间干扰。那么第二个问题就来了，上一段中所说的发送速率大于某一个值，接收方会产生码间干扰，那么这个值时多大呢？答案就是奈奎斯特所给出的2B，当信道带宽为B时，你所能发送的**最大符号速率是2B**，超过2B，接收方就会产生码间干扰，不能恢复出你原来发送的信息。\n",
    "\n",
    "```\n",
    "// C 最大data rate, B 带宽, 2B就是带宽为B的信道能传输的最大signal rate\n",
    "C=2BlogM (log低为2)\n",
    "```\n",
    "\n",
    "- **channel capacity**\n",
    "\n",
    "The **maximum rate** at which data can be transmitted over a given communication path, or channel, under given conditions, is referred to as the channel capacity. \n",
    "\n",
    "```\n",
    "Maximum data rate = channel capacity. \n",
    "```\n",
    "\n",
    "---"
   ]
  },
  {
   "cell_type": "markdown",
   "id": "4ebeb23c",
   "metadata": {},
   "source": [
    "一个码元就是一个脉冲信号，一个脉冲信号有可能携带1bit数据，也有可能携带2bit数据、4bit数据！你发送一个脉冲信号，如果就可以携带4bit数据，肯定发送速率更快啊！那么怎么实现一个脉冲信号就能携带多个bit数据呢？就需要一定的技术了，比如设置模拟信号中信号的频率、相位、振幅啥的。举个例子：把振幅分成四种，低（00）、中（01）、高（10）、很高（11），这样我发一个脉冲信号，它的振幅是低，那就说明发送的是00（也就是2bit），它的振幅是中（01），发送的就是01（也就是2bit）……也就实现了一个脉冲信号，携带2bit的功能… \n",
    "\n",
    "**波特率指的就是1秒能发送多少个码元，也就是1秒能发送多少个脉冲信号.** \n",
    "\n",
    "一个码元能携带1bit数据，那么比特率 = 波特率. \n",
    "一个码元能携带2bit数据，那么比特率 = 2倍的波特率. \n",
    "一个码元能携4bit数据，那么比特率 =4倍的波特率. \n",
    "\n",
    "https://www.zhihu.com/question/280404107/answer/964379530\n",
    "\n",
    "---"
   ]
  },
  {
   "cell_type": "markdown",
   "id": "f099c2e5",
   "metadata": {},
   "source": []
  }
 ],
 "metadata": {
  "kernelspec": {
   "display_name": "Python 3 (ipykernel)",
   "language": "python",
   "name": "python3"
  },
  "language_info": {
   "codemirror_mode": {
    "name": "ipython",
    "version": 3
   },
   "file_extension": ".py",
   "mimetype": "text/x-python",
   "name": "python",
   "nbconvert_exporter": "python",
   "pygments_lexer": "ipython3",
   "version": "3.9.6"
  }
 },
 "nbformat": 4,
 "nbformat_minor": 5
}
