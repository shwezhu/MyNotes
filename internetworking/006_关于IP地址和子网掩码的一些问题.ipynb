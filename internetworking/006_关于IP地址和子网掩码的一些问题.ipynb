{
 "cells": [
  {
   "cell_type": "markdown",
   "id": "268170f3",
   "metadata": {},
   "source": [
    "我们知道在decimal进制下, 若ipv4第一段属于0~127则属于A类ip地址, 而A类ip地址的子网掩码貌似为`255.0.0.0`, 但是做实验的时候看到有个ip地址为`10.10.20.0/24`按理说这是不对的呀, 应该是`10.10.20.0/8`, 肯定是哪里出了问题. \n",
    "\n",
    "这里就是没有弄清楚概念, 首先ip地址分为public和private两类, \n",
    "\n",
    "私有IP地址范围(除了私有的ip地址, 其余的都是公共ip): \n",
    "```\n",
    "10.0.0.0 – 10.255.255.255, \n",
    "172.16.0.0 – 172.31.255.255, \n",
    "192.168.0.0 – 192.168.255.255 \n",
    "```\n",
    "所以呢, A, B, C类地址既有private也有public ip. 感觉说了一堆没用的, 就是把地址分类捋了一遍. \n",
    "\n",
    "---\n",
    "\n",
    "#### 为什么A类地址可以用`255.255.255.0`做子网掩码\n",
    "\n",
    "这里的话我就想问一下是谁告诉你, A类地址的子网掩码必须是`255.0.0.0`? \n",
    "\n",
    "No, an A class IP address doesn't have to use a subnet mask of 255.0.0.0. The default subnet mask for an A class IP address is 255.0.0.0, but it can be customized to create smaller subnets with more usable IP addresses.\n",
    "\n",
    "\n",
    "#### 对`10.10.20.0/24`而不是`10.10.20.0/8`的解释\n",
    "\n",
    "The IP address `10.10.20.0` actually belongs to the Class A private IP address range, which is defined as `10.0.0.0/8`.\n",
    "\n",
    "In the early days of the Internet, IP addresses were divided into classes based on the size of the network and the number of hosts they could support (为了避免浪费, 比如A类地址的网络部分为前8位 子网掩码为`255.0.0.0`, 也就是说这个世界只可以有255个A类网络, 但是因为A类地址的网络部分位数少, 又因为总位数不变32位, 那就意味着host部分位数多,也就是24位, 所以一个A类网络可以有上百万个主机,但如果把一个A类ip分给一个小县城, 那不就浪费很多吗). However, **with the introduction of Classless Inter-Domain Routing (CIDR), this distinction is no longer necessary**, and any IP address can be used with any subnet mask.\n",
    "\n",
    "So, in this case, the subnet mask \"255.255.255.0\" can be used with the IP address \"10.10.20.0\" to define a subnet that contains up to 256 hosts. This is a common practice in modern networking, regardless of the IP address class.\n",
    "\n",
    "---\n",
    "\n",
    "补充:\n",
    "\n",
    "```\n",
    "// A类的前8位要求以0开始\n",
    "A: 0000 0000 ~ 0111 1111 (decimal 0~127), subnet mask 255.0.0.0\n",
    "// B类前8位要求从10开始\n",
    "B: 1000 0000 ~ 1011 1111 (decimal 128~191) subnet mask 255.255.0.0\n",
    "C: 1100 0000 ~ 1101 1111 (decimal 192~223) subnet mask 255.255.255.0\n",
    "```"
   ]
  },
  {
   "cell_type": "code",
   "execution_count": null,
   "id": "f2e1eb09",
   "metadata": {},
   "outputs": [],
   "source": []
  }
 ],
 "metadata": {
  "kernelspec": {
   "display_name": "Python 3 (ipykernel)",
   "language": "python",
   "name": "python3"
  },
  "language_info": {
   "codemirror_mode": {
    "name": "ipython",
    "version": 3
   },
   "file_extension": ".py",
   "mimetype": "text/x-python",
   "name": "python",
   "nbconvert_exporter": "python",
   "pygments_lexer": "ipython3",
   "version": "3.9.6"
  }
 },
 "nbformat": 4,
 "nbformat_minor": 5
}
