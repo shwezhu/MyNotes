{
 "cells": [
  {
   "cell_type": "markdown",
   "id": "d468b86f",
   "metadata": {},
   "source": [
    "# 1. `@property`\n",
    "\n",
    "> it's just a shortcut for creating read-only properties.\n",
    "\n",
    "```python\n",
    "@property\n",
    "def x(self):\n",
    "    return self._x\n",
    "```\n",
    "\n",
    "is equivalent to\n",
    "\n",
    "```python\n",
    "def getx(self):\n",
    "    return self._x\n",
    "x = property(getx)\n",
    "```\n",
    "\n",
    "\n",
    "## 1.1. 与所定义的属性配合使用，防止属性被修改\n",
    "---\n",
    "\n",
    "由于python进行属性的定义时，没办法设置私有属性，因此要通过`@property`的方法来进行设置。这样可以隐藏属性名，让用户进行使用的时候无法随意修改。\n",
    "\n",
    "```python\n",
    "class DataSet(object):\n",
    "    def __init__(self):\n",
    "        self._images = 1\n",
    "        self._labels = 2  # 定义属性的名称\n",
    "\n",
    "    @property\n",
    "    def images(self):  # 方法加入@property后，这个方法相当于一个属性，这个属性可以让用户进行使用，而且用户有没办法随意修改。\n",
    "        return self._images\n",
    "\n",
    "    @property\n",
    "    def labels(self):\n",
    "        return self._labels\n",
    "\n",
    "\n",
    "data = DataSet()\n",
    "# 用户进行属性调用的时候，直接调用images即可，而不用知道属性名_images，因此用户无法更改属性，从而保护了类的属性。\n",
    "print(data.images)  # 加了@property后，可以用调用属性的形式来调用方法,后面不需要加（）。\n",
    "```\n",
    "\n"
   ]
  },
  {
   "cell_type": "code",
   "execution_count": null,
   "id": "3d679e9a",
   "metadata": {},
   "outputs": [],
   "source": []
  }
 ],
 "metadata": {
  "kernelspec": {
   "display_name": "Python 3 (ipykernel)",
   "language": "python",
   "name": "python3"
  },
  "language_info": {
   "codemirror_mode": {
    "name": "ipython",
    "version": 3
   },
   "file_extension": ".py",
   "mimetype": "text/x-python",
   "name": "python",
   "nbconvert_exporter": "python",
   "pygments_lexer": "ipython3",
   "version": "3.9.6"
  }
 },
 "nbformat": 4,
 "nbformat_minor": 5
}
