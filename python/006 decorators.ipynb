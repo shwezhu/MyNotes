{
 "cells": [
  {
   "cell_type": "markdown",
   "id": "4dddf66c",
   "metadata": {},
   "source": [
    "# Python Decorators\n",
    "---\n",
    "\n",
    "In Python, a decorator is a design pattern that allows you to modify the functionality of a function by wrapping it in another function.(感觉类似callback, 但好像又不是)\n",
    "\n",
    "The outer function is called the decorator, which takes the original function as an argument and returns a modified version of it.\n",
    "\n",
    "### Python Functions:\n",
    "\n",
    "- Pass Function as Argument\n",
    "- Return a Function as a Value\n",
    "- Assign functions to variables\n",
    "- Define functions inside other functions\n",
    "- Inner functions have access to the enclosing scope(more commonly known as a **closure**). \n",
    "\n",
    "### e.g.,\n",
    "\n",
    "```python\n",
    "def make_pretty(func):\n",
    "    # define the inner function \n",
    "    def inner():\n",
    "        # add some additional behavior to decorated function\n",
    "        print(\"I got decorated\")\n",
    "        # call original function\n",
    "        func()\n",
    "    # return the inner function\n",
    "    return inner\n",
    "\n",
    "\n",
    "@make_pretty\n",
    "def ordinary():\n",
    "    print(\"I am ordinary\")\n",
    "\n",
    "ordinary()  \n",
    "```\n",
    "\n",
    "另一个例子:\n",
    "\n",
    "```python\n",
    "def smart_divide(func):\n",
    "    def inner(a, b):\n",
    "        print(\"I am going to divide\", a, \"and\", b)\n",
    "        if b == 0:\n",
    "            print(\"Whoops! cannot divide\")\n",
    "            return\n",
    "\n",
    "        return func(a, b)\n",
    "    return inner\n",
    "\n",
    "@smart_divide\n",
    "def divide(a, b):\n",
    "    print(a/b)\n",
    "\n",
    "divide(2,0)\n",
    "```"
   ]
  },
  {
   "cell_type": "code",
   "execution_count": null,
   "id": "b77ec67d",
   "metadata": {},
   "outputs": [],
   "source": []
  }
 ],
 "metadata": {
  "kernelspec": {
   "display_name": "Python 3 (ipykernel)",
   "language": "python",
   "name": "python3"
  },
  "language_info": {
   "codemirror_mode": {
    "name": "ipython",
    "version": 3
   },
   "file_extension": ".py",
   "mimetype": "text/x-python",
   "name": "python",
   "nbconvert_exporter": "python",
   "pygments_lexer": "ipython3",
   "version": "3.9.6"
  }
 },
 "nbformat": 4,
 "nbformat_minor": 5
}
