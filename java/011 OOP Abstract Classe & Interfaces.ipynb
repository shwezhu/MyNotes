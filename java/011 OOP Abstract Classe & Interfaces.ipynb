{
 "cells": [
  {
   "cell_type": "markdown",
   "id": "53d8cece",
   "metadata": {},
   "source": [
    "## 1. IS-A Relationship\n",
    "---\n",
    "\n",
    "IS-A relationship in Java can be achieved by extending a class or interface by using the keyword `extends`.\n",
    "\n",
    "In OOPs, the IS-A relationship corresponds to the concept of **inheritance**. For instance, a mango is a fruit, a phone is a device.\n",
    "\n",
    "- Reducing redundancy\n",
    "- Code reusability\n",
    "\n",
    "\n",
    "The class `mango` inherits the class `fruit` therefore it can be said that mango has IS-A relationship with `fruit`."
   ]
  },
  {
   "cell_type": "markdown",
   "id": "f930656e",
   "metadata": {},
   "source": [
    "## 2. OOP\n",
    "---\n",
    "\n",
    "There are three major pillars on which object-oriented programming relies: encapsulation, inheritance, and polymorphism.\n",
    "\n",
    "Encapsulation can hide some of the private details of a class from other objects."
   ]
  },
  {
   "cell_type": "markdown",
   "id": "2f8e3b8a",
   "metadata": {},
   "source": [
    "## 3. Interface vs. Abstract Class\n",
    "---\n",
    "\n",
    "An abstract class is nothing but a class that is declared using the abstract keyword. It also allows us to declare method signatures using the abstract keyword (abstract method) and forces its subclasses to implement all the declared methods. Suppose if a class has a method that is abstract, then the class itself must be abstract.\n",
    "\n",
    "\n",
    "抽象类就是含有抽象方法的类, 和普通类很容易区分, 但是接口限制就很多, 这里着重说一下:\n",
    "\n",
    "- An interface cannot contain any constructors.不能有构造函数\n",
    "- All of the methods in an interface are abstract. 不能有函数体\n",
    "- An interface cannot contain instance fields. 不能有对象的status, 如果你在接口中写`int a = 0;`那么编译器会给这个变量自动添加两个修饰符`final staic`\n"
   ]
  },
  {
   "cell_type": "markdown",
   "id": "02d55d58",
   "metadata": {},
   "source": [
    "## 4. Open/Closed Principle\n",
    "---\n",
    "\n",
    "> Software entities (classes, modules, functions, etc.) should be open for extension, but closed for modification. \n",
    "\n",
    "即, 客户需求增加了, 那么不用修改已经存在的类, 函数或模块, 只增加新的类和函数就行了. 单一职责(函数, 类)也是实现OCP重要手段之一. "
   ]
  },
  {
   "cell_type": "code",
   "execution_count": null,
   "id": "b5a0fb0c",
   "metadata": {},
   "outputs": [],
   "source": []
  }
 ],
 "metadata": {
  "kernelspec": {
   "display_name": "Python 3 (ipykernel)",
   "language": "python",
   "name": "python3"
  },
  "language_info": {
   "codemirror_mode": {
    "name": "ipython",
    "version": 3
   },
   "file_extension": ".py",
   "mimetype": "text/x-python",
   "name": "python",
   "nbconvert_exporter": "python",
   "pygments_lexer": "ipython3",
   "version": "3.9.6"
  }
 },
 "nbformat": 4,
 "nbformat_minor": 5
}
