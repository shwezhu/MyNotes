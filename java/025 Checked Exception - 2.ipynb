{
 "cells": [
  {
   "cell_type": "markdown",
   "id": "4a5e8ee3",
   "metadata": {},
   "source": [
    "记得有一次，觉得处理异常太麻烦，直接 catch 后包装一个 RuntimeException 一路抛了上去。结果被小伙伴 CR 时喷了一顿～\n",
    "\n",
    "这篇文章将简单介绍 Java 中异常的分类，使用 checked exceptions 的最佳时机，以及为什么无脑抛 RuntimeException 不是一个好习惯。最后分享如何在 lambda 表达式中，更加优雅的处理 checked exceptions。\n",
    "\n",
    "https://changchen.me/blog/20210920/java-checked-exception/"
   ]
  },
  {
   "cell_type": "markdown",
   "id": "72f3a67d",
   "metadata": {},
   "source": [
    "# 使用 Checked Exceptions 的最佳时机\n",
    "---\n",
    "\n",
    "参考《Effective Java》中 Item 70:\n",
    "\n",
    "> Use **checked exceptions for** recoverable conditions and **runtime exceptions for** programming errors. By throwing a checked exception, you force the caller to handle the exception in a catch clause or to propagate it outward. \n",
    "\n",
    "使用 checked exception 简单的指导原则：**异常是否可恢复**，简而言之即调用方是否有能力处理异常，并做出积极的响应，最终从异常中恢复。例如尝试打开一个不存在的文件，异常被调用方捕捉后，提示用户重新输入文件路径，也是一种所谓的 recoverable conditions。否则如果因为编程错误等，无法恢复的情况，**则使用 runtime exceptions** 尽早让程序结束掉更为合适。\n",
    "\n"
   ]
  },
  {
   "cell_type": "code",
   "execution_count": null,
   "id": "b571c823",
   "metadata": {},
   "outputs": [],
   "source": []
  }
 ],
 "metadata": {
  "kernelspec": {
   "display_name": "Python 3 (ipykernel)",
   "language": "python",
   "name": "python3"
  },
  "language_info": {
   "codemirror_mode": {
    "name": "ipython",
    "version": 3
   },
   "file_extension": ".py",
   "mimetype": "text/x-python",
   "name": "python",
   "nbconvert_exporter": "python",
   "pygments_lexer": "ipython3",
   "version": "3.9.6"
  }
 },
 "nbformat": 4,
 "nbformat_minor": 5
}
