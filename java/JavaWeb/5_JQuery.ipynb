{
 "cells": [
  {
   "cell_type": "markdown",
   "metadata": {},
   "source": [
    "# JQuery\n",
    "---\n",
    "jQuery is a lightweight, \"write less, do more\", JavaScript library.\n",
    "\n",
    "The purpose of jQuery is to make it much easier to use JavaScript on your website.\n",
    "\n",
    "jQuery also simplifies a lot of the complicated things from JavaScript, like AJAX calls and DOM manipulation."
   ]
  },
  {
   "cell_type": "markdown",
   "metadata": {},
   "source": [
    "### 1. jQuery Syntax\n",
    "---\n",
    "\n",
    "You might have noticed that all jQuery methods in our examples, are inside a document ready event:\n",
    "\n",
    "```js\n",
    "$(document).ready(function(){\n",
    "\n",
    "  // jQuery methods go here...\n",
    "\n",
    "});\n",
    "```\n",
    "This is to prevent any jQuery code from running before the document is finished loading (is ready).\n",
    "\n",
    "It is good practice to wait for the document to be fully loaded and ready before working with it. This also allows you to have your JavaScript code before the body of your document, in the head section.\n",
    "\n",
    "> synatx: https://www.w3schools.com/jquERy/jquery_syntax.asp"
   ]
  },
  {
   "cell_type": "markdown",
   "metadata": {},
   "source": [
    "### 2. jQuery Event Methods\n",
    "---\n",
    "Examples:\n",
    "+ moving a mouse over an element\n",
    "\n",
    "+ selecting a radio button\n",
    "\n",
    "+ clicking on an element\n",
    "\n",
    "The term \"fires/fired\" is often used with events. Example: \"The keypress event is fired, the moment you press a key\".\n",
    "\n",
    "Here are some common DOM events:\n",
    "+ Mouse Events\tclick, dblclick, mouseleave\n",
    "\n",
    "+ Keyboard Events\tkeydown, keypress\n",
    "\n",
    "+ Form Events\tsubmit, \n",
    "\n",
    "+ Document/Window Events    load, resize\n",
    "\n",
    "\n",
    "#### 2.1. jQuery Syntax For Event Methods\n",
    "In jQuery, most DOM events have an equivalent jQuery method.\n",
    "\n",
    "To assign a click event to all paragraphs on a page, you can do this:\n",
    "```js\n",
    "$(\"p\").click();\n",
    "```\n",
    "\n",
    "The next step is to define what should happen when the event fires. You must pass a function to the event:\n",
    "\n",
    "```js\n",
    "$(\"p\").click(function(){\n",
    "  // action goes here!!\n",
    "});\n",
    "```"
   ]
  },
  {
   "cell_type": "markdown",
   "metadata": {},
   "source": [
    "### 3. jQuery - AJAX  Methods\n",
    "---\n",
    "\n",
    "#### 3.1. AJAX load() Method\n",
    "The jQuery load() method is a simple, but powerful AJAX method.\n",
    "\n",
    "The load() method loads data from a server and puts the returned data into the selected element.\n",
    "\n",
    "```js\n",
    "$(selector).load(URL,data,callback);\n",
    "```\n",
    "\n",
    "#### 3.2. jQuery `$.get()` Method\n",
    "The $.get() method requests data from the server with an HTTP GET request.\n",
    "Syntax:\n",
    "```js\n",
    "$.get(URL,callback);\n",
    "```"
   ]
  }
 ],
 "metadata": {
  "kernelspec": {
   "display_name": "Python 3 (ipykernel)",
   "language": "python",
   "name": "python3"
  },
  "language_info": {
   "codemirror_mode": {
    "name": "ipython",
    "version": 3
   },
   "file_extension": ".py",
   "mimetype": "text/x-python",
   "name": "python",
   "nbconvert_exporter": "python",
   "pygments_lexer": "ipython3",
   "version": "3.8.9"
  }
 },
 "nbformat": 4,
 "nbformat_minor": 4
}
