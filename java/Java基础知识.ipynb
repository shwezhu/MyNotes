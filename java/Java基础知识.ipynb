{
 "cells": [
  {
   "cell_type": "markdown",
   "metadata": {},
   "source": [
    "# Java 基础知识\n",
    "---\n",
    "\n",
    "## 1 Data Types in Java\n",
    "---\n",
    "\n",
    "Data types specify the different sizes and values that can be stored in the variable. There are two types of data types in Java:\n",
    "+ Primitive data types: The primitive data types include boolean, char, byte, short, int, long, float and double.\n",
    "\n",
    "+ Non-primitive data types: The non-primitive data types include Classe, Interface, and Array."
   ]
  },
  {
   "cell_type": "markdown",
   "metadata": {},
   "source": [
    "### 1.1 Primitive data types\n",
    "\n",
    "There are 8: boolean, byte, char, short, int, long, float and double.\n",
    "\n",
    "> Unlike C, C++ and similar languages, Java can't represent false as 0 or null and can't represent true as non-zero. Java can't cast from boolean to a non-boolean primitive data type, or vice versa.\n",
    "\n",
    "### 1.2 Non-primitive data types\n",
    "\n",
    "Non-Primitive data types in java are also called reference types because they refer to objects. Non-primitive data types are created by the programmer and they are not predefined. Since non-primitives are referred to as objects they can be assigned with null, which is not a case in primitive type.\n",
    "\n",
    "Unlike primitive data types, a non-primitive data type must start with an upper case letter. All the non-primitive data types are of equal size and consume equal memory on disk which is different in the case of primitive data types.\n",
    "\n",
    "\n",
    "### 1.3 String\n",
    "\n",
    "A string is a special data type in java, where it contradicts the fact that non-primitive types are defined by programmers. The string data type is a non-primitive data type but it is predefined in java, some people also call it a special ninth primitive data type.\n"
   ]
  },
  {
   "cell_type": "markdown",
   "metadata": {},
   "source": [
    "## 2\n",
    "---"
   ]
  }
 ],
 "metadata": {
  "kernelspec": {
   "display_name": "Python 3",
   "language": "python",
   "name": "python3"
  },
  "language_info": {
   "codemirror_mode": {
    "name": "ipython",
    "version": 3
   },
   "file_extension": ".py",
   "mimetype": "text/x-python",
   "name": "python",
   "nbconvert_exporter": "python",
   "pygments_lexer": "ipython3",
   "version": "3.8.10"
  }
 },
 "nbformat": 4,
 "nbformat_minor": 4
}
