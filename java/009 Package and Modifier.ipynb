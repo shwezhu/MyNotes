{
 "cells": [
  {
   "cell_type": "markdown",
   "id": "fcdcb434",
   "metadata": {},
   "source": [
    "# Package\n",
    "---\n",
    "\n",
    "**一个calss总是属于某个package**，类名（比如`Person`）只是一个简写，真正的完整类名是`包名.类名`。\n",
    "\n",
    "小明的Person类存放在包ming下面，因此，完整类名是`ming.Person`；\n",
    "\n",
    "小红的Person类存放在包hong下面，因此，完整类名是`hong.Person`；\n",
    "\n",
    "小军的Arrays类存放在包mr.jun下面，因此，完整类名是`mr.jun.Arrays`；\n",
    "\n",
    "JDK 的Arrays类存放在包java.util下面，因此，完整类名是`java.util.Arrays`。\n",
    "\n",
    "**在定义class的时候，我们需要在第一行声明这个class属于哪个包**:\n",
    "\n",
    "小军的`Arrays.java`文件：\n",
    "```java\n",
    "package mr.jun; // 申明包名mr.jun\n",
    "\n",
    "public class Arrays {\n",
    "//...\n",
    "}\n",
    "```\n",
    "\n",
    "小明的`Person.java`文件：\n",
    "```java\n",
    "package ming; // 申明包名ming\n",
    "\n",
    "public class Person {\n",
    "}\n",
    "```\n",
    "\n",
    "一个`.java`文件被编译成一个`.class`文件, 一个java文件定义一个类才是好习惯.\n",
    "\n",
    "---\n",
    "\n",
    "在 Java 虚拟机执行的时候，JVM 只看完整类名，因此，只要包名不同，类就不同。\n",
    "\n",
    "> 要特别注意：包没有父子关系。`java.util`和`java.util.zip`是不同的包，两者没有任何继承关系。\n",
    "\n",
    "没有定义包名的`class`使用的是默认包，非常容易引起名字冲突，因此，不推荐不写包名的做法。\n",
    "\n",
    "\n",
    "我们还需要按照包结构把上面的 Java 文件组织起来。假设以`package_sample`作为根目录，`src`作为源码目录，那么所有文件结构就是：\n",
    "\n",
    "```\n",
    "package_sample\n",
    "└─ src\n",
    "    ├─ hong\n",
    "    │  └─ Person.java\n",
    "    │  ming\n",
    "    │  └─ Person.java\n",
    "    └─ mr\n",
    "       └─ jun\n",
    "          └─ Arrays.java\n",
    "```"
   ]
  },
  {
   "cell_type": "markdown",
   "id": "44c993f7",
   "metadata": {},
   "source": [
    "# Controlling Access to Members of a Class\n",
    "---\n",
    "\n",
    "A `class` may be declared with the modifier `public`, in which case that class is visible to all classes everywhere. If a class has no modifier (the default, also known as ***package-private***), it is visible only within its own package.\n",
    "\n",
    "Access level ***modifiers*** determine whether other classes can use a particular field or invoke a particular method. There are two levels of access control:\n",
    "\n",
    "- At the top level—public, or package-private (no explicit modifier).\n",
    "- At the member level—public, private, protected, or package-private (no explicit modifier).\n",
    "\n",
    "**At the member level**, you can also use the `public` modifier or no modifier (package-private) just as with top-level classes, and with the same meaning. For members, there are two additional ***access modifiers***: `private` and `protected`. The `private` modifier specifies that the member can only be accessed in its own class. The `protected modifier` specifies that the member can only be accessed within its own package (as with ***package-private***) and, in addition, by a subclass of its class in another package.\n",
    "\n",
    "> 总结: class有两个modifiers: public或者不用modifier(default). 而class的member有四个modifiers: public, default(package-private), protected, private. \n",
    "\n"
   ]
  },
  {
   "cell_type": "code",
   "execution_count": null,
   "id": "b8207232",
   "metadata": {},
   "outputs": [],
   "source": []
  },
  {
   "cell_type": "code",
   "execution_count": null,
   "id": "c646f0cb",
   "metadata": {},
   "outputs": [],
   "source": []
  }
 ],
 "metadata": {
  "kernelspec": {
   "display_name": "Python 3 (ipykernel)",
   "language": "python",
   "name": "python3"
  },
  "language_info": {
   "codemirror_mode": {
    "name": "ipython",
    "version": 3
   },
   "file_extension": ".py",
   "mimetype": "text/x-python",
   "name": "python",
   "nbconvert_exporter": "python",
   "pygments_lexer": "ipython3",
   "version": "3.9.6"
  }
 },
 "nbformat": 4,
 "nbformat_minor": 5
}
