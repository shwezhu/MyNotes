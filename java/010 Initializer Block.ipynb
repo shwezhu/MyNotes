{
 "cells": [
  {
   "cell_type": "markdown",
   "id": "ed53f781",
   "metadata": {},
   "source": [
    "## Static vs Instance Initializer Block\n",
    "\n",
    "#### Static Block\n",
    "\n",
    "- It executes only once during the entire execution of the program when the class loads into the memory.  \n",
    "- Static blocks of parent class execute first because the compiler loads parent class before child class.\n",
    "\n",
    "#### Instance Initializer Block\n",
    "\n",
    "- It can run many times whenever there is a call to the constructor. \n",
    "\n",
    "The Java compiler copies initializer blocks into every constructor. Therefore, multiple constructors can use this approach to share a block of code:\n",
    "\n",
    "```java\n",
    "public class InstanceBlockExample {\n",
    "\n",
    "    {\n",
    "        System.out.println(\"Instance initializer block 1\");\n",
    "    }\n",
    "    \n",
    "    {\n",
    "        System.out.println(\"Instance initializer block 2\");\n",
    "    }\n",
    "    \n",
    "    public InstanceBlockExample() {\n",
    "        System.out.println(\"Class constructor\");\n",
    "    }\n",
    "\n",
    "    public static void main(String[] args) {\n",
    "        InstanceBlockExample iib = new InstanceBlockExample();\n",
    "        System.out.println(\"Main Method\");\n",
    "    }\n",
    "}\n",
    "\n",
    "Instance initializer block 1\n",
    "Instance initializer block 2\n",
    "Class constructor\n",
    "Main Method\n",
    "```\n",
    "\n",
    "\n",
    "> Static initializer blocks always execute before the instance initialization blocks because static blocks run **at the time of class loading**. However, the instance block runs **at the time of instance creation**."
   ]
  },
  {
   "cell_type": "code",
   "execution_count": null,
   "id": "486e656d",
   "metadata": {},
   "outputs": [],
   "source": []
  }
 ],
 "metadata": {
  "kernelspec": {
   "display_name": "Python 3 (ipykernel)",
   "language": "python",
   "name": "python3"
  },
  "language_info": {
   "codemirror_mode": {
    "name": "ipython",
    "version": 3
   },
   "file_extension": ".py",
   "mimetype": "text/x-python",
   "name": "python",
   "nbconvert_exporter": "python",
   "pygments_lexer": "ipython3",
   "version": "3.9.6"
  }
 },
 "nbformat": 4,
 "nbformat_minor": 5
}
