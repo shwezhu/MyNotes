{
 "cells": [
  {
   "cell_type": "markdown",
   "id": "e61472d1",
   "metadata": {},
   "source": [
    "### 参考\n",
    "- 泛型带来的好处: https://juejin.cn/post/6844903917835419661\n",
    "- Wildcards: https://docs.oracle.com/javase/tutorial/java/generics/unboundedWildcards.html"
   ]
  },
  {
   "cell_type": "markdown",
   "id": "38ef82e6",
   "metadata": {},
   "source": [
    "## 泛型带来的好处\n",
    "---\n",
    "\n",
    "再来絮叨一遍, \n",
    "\n",
    "在没有泛型的情况的下，通过对类型 Object 的引用来实现参数的“任意化”，“任意化”带来的缺点是要做显式的强制类型转换，而这种转换是要求开发者对实际参数类型可以预知的情况下进行的。对于强制类型转换错误的情况，**编译器可能不提示错误，在运行的时候才出现异常**，这是本身就是一个安全隐患。\n",
    "\n",
    "那么泛型的好处就是在编译的时候能够检查类型安全，并且所有的强制转换都是自动和隐式的。\n"
   ]
  },
  {
   "cell_type": "markdown",
   "id": "eabb8fcb",
   "metadata": {},
   "source": [
    "## Wildcards `?`\n",
    "----\n",
    "\n",
    "In generic code, the question mark`?`, called the **wildcard**, represents an unknown type. \n",
    "\n",
    "The **unbounded wildcard** type is specified using the wildcard character`?`, for example, `List<?>`. This is called a list of unknown type. \n",
    "\n",
    "Consider the following method, `printList`:\n",
    "\n",
    "```java\n",
    "public static void printList(List<Object> list) {\n",
    "    for (Object elem : list)\n",
    "        System.out.println(elem + \" \");\n",
    "    System.out.println();\n",
    "}\n",
    "```\n",
    "\n",
    "The goal of `printList` is to print a list of any type, but it fails to achieve that goal — it prints only a list of `Object` instances; it cannot print `List<Integer>`, `List<String>`, `List<Double>`, and so on, because they are not subtypes of `List<Object>`. To write a generic printList method, use `List<?>`:\n",
    "\n",
    "```java\n",
    "public static void printList(List<?> list) {\n",
    "    for (Object elem: list)\n",
    "        System.out.print(elem + \" \");\n",
    "    System.out.println();\n",
    "}\n",
    "```\n",
    "\n",
    "\n"
   ]
  },
  {
   "cell_type": "markdown",
   "id": "b6d67e3f",
   "metadata": {},
   "source": [
    "## `?` 和 `T` 的区别\n",
    "----\n",
    "\n",
    "`?`和 `T` 都表示不确定的类型，区别在于我们可以对 `T` 进行操作，但是对`?`不行，比如 ：\n",
    "```java\n",
    "class ArrayList<T> {\n",
    "    \n",
    "}\n",
    "\n",
    "class ArrayList<?> {\n",
    "}\n",
    "\n",
    "// 可以\n",
    "T t = operate();\n",
    "\n",
    "// 不可以\n",
    "? car = operate();\n",
    "```\n",
    "\n",
    "## `Class<T>` vs `Class<?>`\n",
    "---\n",
    "\n",
    "`Class<T>` 在实例化的时候，`T` 要替换成具体类。而`Class<?>` 它是个通配泛型，`?` 可以代表任何类型，所以主要用于声明时的限制情况。\n",
    "\n",
    "```java\n",
    "Class<?> myClass = Employee.class;\n",
    "System.out.println(\"Name: \" + myClass.getName());\n",
    "\n",
    "// 下面就不行\n",
    "Class<T> c = Employee.class;\n",
    "```"
   ]
  },
  {
   "cell_type": "code",
   "execution_count": null,
   "id": "7140dd48",
   "metadata": {},
   "outputs": [],
   "source": []
  }
 ],
 "metadata": {
  "kernelspec": {
   "display_name": "Python 3 (ipykernel)",
   "language": "python",
   "name": "python3"
  },
  "language_info": {
   "codemirror_mode": {
    "name": "ipython",
    "version": 3
   },
   "file_extension": ".py",
   "mimetype": "text/x-python",
   "name": "python",
   "nbconvert_exporter": "python",
   "pygments_lexer": "ipython3",
   "version": "3.9.6"
  }
 },
 "nbformat": 4,
 "nbformat_minor": 5
}
