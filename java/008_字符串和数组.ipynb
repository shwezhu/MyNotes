{
 "cells": [
  {
   "cell_type": "markdown",
   "id": "a97d99a0",
   "metadata": {},
   "source": [
    "数组进行排序的话，可以使用 Arrays 类提供的 `sort()` 方法:\n",
    "\n",
    "- 基本数据类型按照升序排列\n",
    "- 实现了 Comparable 接口的对象按照 compareTo() 的排序\n",
    "\n",
    "```java\n",
    "int[] anArray = new int[] {5, 2, 1, 4, 8};\n",
    "Arrays.sort(anArray);\n",
    "```\n",
    "\n",
    "有时候，我们需要从数组中查找某个具体的元素, 如果数组提前进行了排序，就可以使用二分查找法，这样效率就会更高一些。\n",
    "```java\n",
    "int[] anArray = new int[] {1, 2, 3, 4, 5};\n",
    "int index = Arrays.binarySearch(anArray, 4);\n",
    "```\n",
    "\n",
    "---"
   ]
  },
  {
   "cell_type": "code",
   "execution_count": null,
   "id": "59a25bf6",
   "metadata": {},
   "outputs": [],
   "source": []
  },
  {
   "cell_type": "code",
   "execution_count": null,
   "id": "d637812c",
   "metadata": {},
   "outputs": [],
   "source": []
  },
  {
   "cell_type": "code",
   "execution_count": null,
   "id": "12a6d090",
   "metadata": {},
   "outputs": [],
   "source": []
  }
 ],
 "metadata": {
  "kernelspec": {
   "display_name": "Python 3 (ipykernel)",
   "language": "python",
   "name": "python3"
  },
  "language_info": {
   "codemirror_mode": {
    "name": "ipython",
    "version": 3
   },
   "file_extension": ".py",
   "mimetype": "text/x-python",
   "name": "python",
   "nbconvert_exporter": "python",
   "pygments_lexer": "ipython3",
   "version": "3.9.6"
  }
 },
 "nbformat": 4,
 "nbformat_minor": 5
}
