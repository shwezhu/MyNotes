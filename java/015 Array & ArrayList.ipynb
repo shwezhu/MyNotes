{
 "cells": [
  {
   "cell_type": "markdown",
   "id": "6008bc56",
   "metadata": {},
   "source": [
    "# 1. Array\n",
    "---\n",
    "\n",
    "> The length of an array is established when the array is created. After creation, its length is fixed. 即数组创建之后, size就固定了. 另外数组是对象, 存储在heap.\n",
    "\n",
    "#### Q 1) Can we declare an Array without size?\n",
    "\n",
    "Answer: Yes. We can declare an array without size but before using it needs to be initialized.\n",
    "\n",
    "```\n",
    "// Declare an array first and then initialize it:\n",
    "String[] myStringArray;\n",
    "myStringArray = new String[]{\"a\", \"b\", \"c\"};\n",
    "```\n",
    "\n",
    "#### Q 2) Is Array size fixed in Java?\n",
    "\n",
    "Answer: Yes. Once this size is specified, you cannot change it again.\n",
    "\n",
    "#### Q 3) Is an Array Primitive data type?\n",
    "\n",
    "Answer: No, arrays are not primitive datatypes in Java. An array is a container object that holds the elements of specific data types in contiguous memory locations.\n"
   ]
  },
  {
   "cell_type": "markdown",
   "id": "324a3f31",
   "metadata": {},
   "source": [
    "## 1.1. Copy and Clone Arrays\n",
    "\n",
    "### 1) Manual Copying\n",
    "\n",
    "- 用loop, 一个一个元素的复制\n",
    "- 直接用一个新的variable指向被复制的数组对象(说是variable并不准确, 应该是reference), 这样其实并不是复制, 只是增加了一个只想原来数组对象的reference\n",
    "\n",
    "### 2) clone()\n",
    "\n",
    "When you clone one-dimensional array, it makes a **deep copy** of array elements which is copying the values. On the other hand, when you clone two dimensional or multi-dimensional arrays, a **shallow copy** of elements is made i.e. only references are copied. \n",
    "\n",
    "```java\n",
    "public static void main(String[] args) {\n",
    "    int[] num_Array = {5,10,15,20,25,30};\n",
    "    int[] clone_Array = num_Array.clone();\n",
    "    System.out.println(num_Array == clone_Array);\n",
    "}\n",
    "// false\n",
    "```\n",
    "\n",
    "This is because the cloning of one-dimensional array results in deep copy where in the values are copied to a new array and not merely references.\n",
    "\n",
    "### 3)System.arraycopy() \n",
    "\n",
    "When estimating the performance of `System.arraycopy()`, we need to keep in mind that **it is a native method**. Native methods are implemented in platform-dependent code (typically C) and accessed through JNI calls. \n",
    "\n",
    "Because native methods are already compiled for a specific architecture, we can't precisely estimate the runtime complexity. Moreover, their complexities can differ between platforms. We can be sure that the worst-case scenario is O(N). However, the processor can copy contiguous blocks of memory one block at a time (`memcpy()` in C), so actual results can be better.\n",
    "https://www.baeldung.com/java-system-arraycopy-arrays-copyof-performance\n",
    "\n",
    "> It’s faster. It’s raw C or C++ code compiled down to the machine’s native instructions. This is faster than Java bytecode interpreted in a JVM. Also, Java code performs bounds-checking so that you get a nice little ArrayIndexOutOfBounds error if you screw up. The native C++ code wouldn’t waste CPU cycles on that. https://qr.ae/prJ2Lu\n",
    "\n",
    "Also, it’s not always faster. Marshalling data between the native layer and the Java layer is slooooow. That’s why unless your array is reasonably large (if I recall, at least 30 elements), it’s actually quicker to just write a Java for-loop to perform the copy.\n",
    "\n",
    "\n",
    "测试: https://stackoverflow.com/a/18639042/16317008"
   ]
  },
  {
   "cell_type": "markdown",
   "id": "2948354b",
   "metadata": {},
   "source": [
    "# ArrayList\n",
    "---\n",
    "\n",
    "## `add()` How does ArrayList increase its size?\n",
    "\n",
    "Java checks to ensure that there is enough capacity in the existing array to hold the new object. If not, **a new array of a greater size is created**, the old array is copied to new array using `Arrays.copyOf` and the new array is assigned to the existing array. https://stackoverflow.com/a/25757618/16317008\n"
   ]
  },
  {
   "cell_type": "markdown",
   "id": "3eb86b09",
   "metadata": {},
   "source": [
    "## `set()`\n",
    "\n",
    "```java\n",
    "public E set(int index, E element) {\n",
    "    rangeCheck(index);\n",
    "\n",
    "    E oldValue = elementData(index);\n",
    "    elementData[index] = element;\n",
    "    return oldValue;\n",
    "}\n",
    "```\n",
    "\n",
    "C就不会进行下标检查, 越界了那就是undefined."
   ]
  },
  {
   "cell_type": "markdown",
   "id": "67e82944",
   "metadata": {},
   "source": [
    "## ArrayList 增删改查的时间复杂度\n",
    "\n",
    "- 通过下标（也就是 `get(int index)`）访问一个元素的时间复杂度为 O(1)，因为是直达的，无论数据增大多少倍，耗时都不变。\n",
    "\n",
    "- 默认添加一个元素（调用 `add()` 方法时）的时间复杂度为 O(1)，因为是直接添加到数组末尾的，但需要考虑到数组扩容时消耗的时间。\n",
    "\n",
    "- 删除一个元素（调用 `remove(Object)` 方法时）的时间复杂度为 O(n)，因为要遍历列表，数据量增大几倍，耗时也增大几倍；如果是通过下标删除元素时，要考虑到数组的移动和复制所消耗的时间。\n",
    "\n",
    "- 查找一个未排序的列表时间复杂度为 O(n)（调用 `indexOf()` 或者 `lastIndexOf()` 方法时），因为要遍历列表；查找排序过的列表时间复杂度为 O(log n)，因为可以使用二分查找法，当数据增大 n 倍时，耗时增大 logn 倍（这里的 log 是以 2 为底的，每找一次排除一半的可能）。\n"
   ]
  },
  {
   "cell_type": "markdown",
   "id": "025ddeaa",
   "metadata": {},
   "source": [
    "# 拓展 `oldCapacity >> 1`\n",
    "---\n",
    "\n",
    "读ArrayList源码时, 可以看到扩容的时候有`>>`操作符\n",
    "```java\n",
    "int oldCapacity = elementData.length;\n",
    "int newCapacity = oldCapacity + (oldCapacity >> 1);\n",
    "```\n",
    "\n",
    "这就是把十进制转成二进制, 然后右移一位, 我们知道左移一位其实是*2(对于二进制来说, 反之 ➗2) `9>>1 = 4`\n",
    "\n",
    "比如 `1010` 右移一位就是 `101`, 左移一位就是`10100`. "
   ]
  },
  {
   "cell_type": "code",
   "execution_count": null,
   "id": "b5ab3345",
   "metadata": {},
   "outputs": [],
   "source": []
  }
 ],
 "metadata": {
  "kernelspec": {
   "display_name": "Python 3 (ipykernel)",
   "language": "python",
   "name": "python3"
  },
  "language_info": {
   "codemirror_mode": {
    "name": "ipython",
    "version": 3
   },
   "file_extension": ".py",
   "mimetype": "text/x-python",
   "name": "python",
   "nbconvert_exporter": "python",
   "pygments_lexer": "ipython3",
   "version": "3.9.6"
  }
 },
 "nbformat": 4,
 "nbformat_minor": 5
}
