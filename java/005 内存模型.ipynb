{
 "cells": [
  {
   "cell_type": "markdown",
   "id": "59447fdc",
   "metadata": {},
   "source": [
    "# 2. 内存模型\n",
    "---\n",
    "\n",
    "**内存模型**和**内存结构**, 两个概念容易混, 关于内存模型维基上给的定义是讲多个线程间通过共享数据内存区的交互, 而内存结构说的应该就是JVM的运行时数据区Runtime data area.\n",
    "\n"
   ]
  },
  {
   "cell_type": "code",
   "execution_count": null,
   "id": "25080699",
   "metadata": {},
   "outputs": [],
   "source": []
  },
  {
   "cell_type": "code",
   "execution_count": null,
   "id": "f9b1ce04",
   "metadata": {},
   "outputs": [],
   "source": []
  },
  {
   "cell_type": "code",
   "execution_count": null,
   "id": "f458afc7",
   "metadata": {},
   "outputs": [],
   "source": []
  }
 ],
 "metadata": {
  "kernelspec": {
   "display_name": "Python 3 (ipykernel)",
   "language": "python",
   "name": "python3"
  },
  "language_info": {
   "codemirror_mode": {
    "name": "ipython",
    "version": 3
   },
   "file_extension": ".py",
   "mimetype": "text/x-python",
   "name": "python",
   "nbconvert_exporter": "python",
   "pygments_lexer": "ipython3",
   "version": "3.9.6"
  }
 },
 "nbformat": 4,
 "nbformat_minor": 5
}
