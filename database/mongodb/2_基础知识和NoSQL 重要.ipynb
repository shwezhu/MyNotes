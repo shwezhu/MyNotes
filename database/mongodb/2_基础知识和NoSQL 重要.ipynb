{
 "cells": [
  {
   "cell_type": "markdown",
   "id": "fc21fea2",
   "metadata": {},
   "source": [
    "# NoSQL and Relational Database\n",
    "\n",
    "---\n",
    "\n",
    "MongoDB是NoSQL类型的数据库, 除NoSQL之外还有传统的relational database.  \n",
    "\n",
    "> When people use the term “NoSQL database,” they typically use it to refer to any non-relational database. NoSQL databases are databases that store data in a format other than **relational tables**.\n",
    "\n",
    "所以MongoDB中, 没有table, 而是叫collection. 传统relational database种的一行数据, 在MongoDB中叫document.\n",
    "\n",
    "突然想到MongoDB在创建collection的时候, 没有说要想MySQL创建table那样, 先指定表的列的数据类型,之类的, 看到下面这句话, 才明白NoSQL的真正用意--flexible schemas and scale easily:\n",
    "\n",
    "NoSQL databases emerged in the late 2000s as the cost of storage dramatically decreased(这也间接说明了NoSQL的一个缺点,占用空间比relational database大). As storage costs rapidly decreased, the amount of data that applications needed to store and query increased. This data came in all shapes and sizes — structured, semi-structured, and polymorphic — and defining the schema **in advance** became nearly impossible. NoSQL databases allow developers to store huge amounts of unstructured data, giving them a lot of flexibility.(这也就说明了NoSQL数据库的主要目的增加了查询的速度, 增加了定义数据的灵活性, 不需要每个表的关系都提前定义好, 什么表的连接之类的, 举个例子, 之前的relational数据库, 比如学生, 课程, 两个表, 需要进行设计, 不让列重复, 且查询的时候需要表join, 这就很慢)\n",
    "\n",
    "> 综上NoSQL数据库, 牺牲了空间(现在数据占用空间很少), 成就了灵活性和查询速度. \n",
    "\n",
    "上面有句话说:defining the schema **in advance** became nearly impossible, 看到这才想到为什么MongoDB一直在强调它的Schema Validation, 因为MongoDB没办法像relational数据库一样提前定义好每个表的的每列数据的类型, 举个例子:\n",
    "\n",
    "+ For a `users` collection, ensure that the password field is only stored as a string. This validation prevents users from saving their password as an unexpected data type, like an image.\n",
    "\n",
    "+ For a `sales` collection, ensure that the item field belongs to a list of items that your store sells. This validation prevents a user from accidentally misspelling an item name when entering sales data.\n",
    "\n",
    "+ For a `students` collection, ensure that the gpa field is always a positive number. This validation catches typos during data entry.\n",
    "\n",
    "\n",
    "想要了解更多关于Schema Validation, 到: https://www.mongodb.com/docs/manual/core/schema-validation/\n",
    "\n",
    "## Credit\n",
    "\n",
    "介绍的NoSQL非常好: https://www.mongodb.com/nosql-explained\n",
    "\n",
    "\n",
    "## Types of NoSQL databases\n",
    "\n",
    "**Document databases**: store data in documents similar to JSON (JavaScript Object Notation) objects. 显然, MongoDM就是这种类型的数据库.\n",
    "\n",
    "**Key-value databases** are a simpler type of database where each item contains keys and values.\n",
    "\n",
    "了解更多: https://www.mongodb.com/scale/types-of-nosql-databases"
   ]
  },
  {
   "cell_type": "markdown",
   "id": "454639dd",
   "metadata": {},
   "source": [
    "# MongoDB 基础知识\n",
    "\n",
    "---\n",
    "\n",
    "## Databases and Collections\n",
    "\n",
    "MongoDB stores data records as `documents` (specifically BSON documents) which are gathered together in `collections`. A `database` stores one or more `collections` of `documents`.\n",
    "\n",
    "创建collection很简单,直接插入一个数据(document), 如果collection不存在 就会自动创建了, 创建database也是一样,直接使用`use xxx` 命令, 不存在的话就自动创建了, 这些指令可以在第一节文章里找到.\n",
    "\n",
    "## MongoDB数据类型 BSON Types \n",
    "\n",
    "https://www.mongodb.com/docs/manual/reference/bson-types/"
   ]
  },
  {
   "cell_type": "markdown",
   "id": "4c7a0e47",
   "metadata": {},
   "source": [
    "## Insert Documents\n",
    "\n",
    "插入没什么好说的, 但有一点特殊的说一下, 就是把数据插入到表的时候自动创建`_id`, 如果collection不存在, 就自动创建collection:\n",
    "\n",
    "The following example inserts a new `document` into the inventory `collection`. If the document does not specify an `_id` field, MongoDB adds the `_id` field with an `ObjectId` value to the new `document`. \n"
   ]
  },
  {
   "cell_type": "markdown",
   "id": "3e497841",
   "metadata": {},
   "source": []
  }
 ],
 "metadata": {
  "kernelspec": {
   "display_name": "Python 3 (ipykernel)",
   "language": "python",
   "name": "python3"
  },
  "language_info": {
   "codemirror_mode": {
    "name": "ipython",
    "version": 3
   },
   "file_extension": ".py",
   "mimetype": "text/x-python",
   "name": "python",
   "nbconvert_exporter": "python",
   "pygments_lexer": "ipython3",
   "version": "3.9.6"
  }
 },
 "nbformat": 4,
 "nbformat_minor": 5
}
