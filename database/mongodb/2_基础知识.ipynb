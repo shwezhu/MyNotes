{
 "cells": [
  {
   "cell_type": "markdown",
   "id": "c49990ae",
   "metadata": {},
   "source": [
    "# Databases and Collections\n",
    "\n",
    "---\n",
    "\n",
    "MongoDB stores data records as `documents` (specifically BSON documents) which are gathered together in `collections`. A `database` stores one or more `collections` of `documents`.\n",
    "\n",
    "创建collection很简单,直接插入一个数据(document), 如果collection不存在 就会自动创建了, 创建database也是一样,直接使用`use xxx` 命令, 不存在的话就自动创建了, 这些指令可以在第一节文章里找到."
   ]
  },
  {
   "cell_type": "markdown",
   "id": "ce3a322d",
   "metadata": {},
   "source": [
    "# MongoDB数据类型 BSON Types \n",
    "\n",
    "---\n",
    "\n",
    "https://www.mongodb.com/docs/manual/reference/bson-types/"
   ]
  },
  {
   "cell_type": "markdown",
   "id": "4c7a0e47",
   "metadata": {},
   "source": [
    "# Insert Documents\n",
    "\n",
    "---\n",
    "\n",
    "插入没什么好说的, 但有一点特殊的说一下, 就是把数据插入到表的时候自动创建`_id`, 如果collection不存在, 就自动创建collection:\n",
    "\n",
    "The following example inserts a new `document` into the inventory `collection`. If the document does not specify an `_id` field, MongoDB adds the `_id` field with an `ObjectId` value to the new `document`. \n",
    "\n",
    "```shell\n",
    "# 先选择数据库, 再进行增删改查\n",
    "use greenhouse\n",
    "\n",
    "db.inventory.insertOne(\n",
    "   { item: \"canvas\", qty: 100, tags: [\"cotton\"], size: { h: 28, w: 35.5, uom: \"cm\" } }\n",
    ")\n",
    "\n",
    "# insert\n",
    "var date = new Date(2022, 09, 18, 22, 59);\n",
    "db.temperature.insertOne( {value: 25.6, date: date} );\n",
    "```\n",
    "\n",
    "https://www.mongodb.com/docs/manual/tutorial/insert-documents/"
   ]
  },
  {
   "cell_type": "markdown",
   "id": "3e497841",
   "metadata": {},
   "source": []
  }
 ],
 "metadata": {
  "kernelspec": {
   "display_name": "Python 3 (ipykernel)",
   "language": "python",
   "name": "python3"
  },
  "language_info": {
   "codemirror_mode": {
    "name": "ipython",
    "version": 3
   },
   "file_extension": ".py",
   "mimetype": "text/x-python",
   "name": "python",
   "nbconvert_exporter": "python",
   "pygments_lexer": "ipython3",
   "version": "3.9.6"
  }
 },
 "nbformat": 4,
 "nbformat_minor": 5
}
