{
 "cells": [
  {
   "cell_type": "markdown",
   "id": "63f8e348",
   "metadata": {},
   "source": [
    "# Automatically or Manually\n",
    "---\n",
    "JavaScript automatically allocates memory when objects are created and frees it when they are not used anymore (garbage collection)."
   ]
  },
  {
   "cell_type": "markdown",
   "id": "c090eaa5",
   "metadata": {},
   "source": [
    "# Garbage Collection\n",
    "---\n",
    "\n",
    "## Reference-counting garbage collection\n",
    "\n",
    "The main concept that garbage collection algorithms rely on is the concept of reference. This is the most **naive** garbage collection algorithm. \n",
    "\n",
    "There is a limitation when it comes to **circular references**. Circular references are a common cause of memory leaks.\n",
    "\n",
    "> If you don't know when local variables will be cleared, you should to search `scope in javascript`.\n",
    "\n",
    "## Mark-and-sweep algorithm\n",
    "\n",
    "This algorithm reduces the definition of \"an object is no longer needed\" to \"an object is unreachable\".\n",
    "\n",
    "This algorithm assumes the knowledge of a set of objects called roots. In JavaScript, the root is the global object. **Periodically**(陪瑞啊得扣类), the garbage collector will start from these roots, find all objects that are referenced from these roots, then all objects referenced from these, etc. Starting from the roots, the garbage collector will thus find all reachable objects and collect all non-reachable objects.\n",
    "\n",
    "This algorithm is an improvement over the previous one since an object having zero references is effectively unreachable. The opposite does not hold true as we have seen with circular references.\n",
    "\n",
    "> unreachable doen't mean zero references. "
   ]
  },
  {
   "cell_type": "markdown",
   "id": "c26e6759",
   "metadata": {},
   "source": [
    "# Memory Model\n",
    "---\n",
    "\n",
    "Basic data type: String、Number、Boolean、Null、Undefined、Symbol.\n",
    "\n",
    "Complex data types:\tObject and all types that inherit from object.\n",
    "\n",
    "JS memory space is divided into Stack Memory and Heap Memory, stack memory is stack structure storage Basic data type. And a pointer to heap memory, heap memoryStore complex data types。\n",
    "\n",
    "\n",
    "+ The essence of variable declaration is that the variable name is bound to the stack memory address, not directly to the heap memory.\n",
    "\n",
    "+ The declared basic data type stores the value in stack memory, and the declared complex data type stores the value in heap memory and stores its memory address in the heap as a value in stack memory.\n",
    "\n",
    "+ Const declared constant essentially means that the stack memory address pointed to by the declared variable name cannot be changed, but the corresponding value in the stack can be changed.\n",
    "\n",
    "+ The basic data type assignment is to apply for a new memory area in the stack memory to save the value and bind the memory address it points to to to the original variable.\n",
    "\n",
    "+ Complex data type assignment is to apply for a new memory area in the heap memory to save the value, and take the memory address it points to as the value to apply for a new memory area saving in the stack memory, and bind its memory address in the stack to the variable.\n",
    "\n",
    "\n",
    "https://developpaper.com/comprehensive-analysis-and-summary-of-js-memory-model/\n",
    "\n",
    "https://www.jianshu.com/p/84a8fd5fa0ee"
   ]
  }
 ],
 "metadata": {
  "kernelspec": {
   "display_name": "Python 3 (ipykernel)",
   "language": "python",
   "name": "python3"
  },
  "language_info": {
   "codemirror_mode": {
    "name": "ipython",
    "version": 3
   },
   "file_extension": ".py",
   "mimetype": "text/x-python",
   "name": "python",
   "nbconvert_exporter": "python",
   "pygments_lexer": "ipython3",
   "version": "3.8.9"
  }
 },
 "nbformat": 4,
 "nbformat_minor": 5
}
