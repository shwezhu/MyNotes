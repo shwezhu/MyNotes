{
 "cells": [
  {
   "cell_type": "markdown",
   "id": "56981150",
   "metadata": {},
   "source": [
    "There are many methods to make a http request with `javascript`, e.g., `fetch()`,` JQuery`, `XMLHttpRequest()`. \n",
    "\n",
    "### Javascript\n",
    "\n",
    "---\n",
    "\n",
    "**JavaScript**, as far as I know, is used to control html. To control the element in html, for example. Like hide a `div`, or when a button is clicked, what will happend, all of this are need to be controlled by JavaScript. Html just like a website without soul, the javascript is the soul of a website, it enpowers your website to interact with other ppeople.\n",
    "\n",
    "### JQuery\n",
    "\n",
    "---\n",
    "\n",
    "**JQuery** is implemented by Javascript, JQuery is just a library of JavaScript. JQuery makes me use JavaScript more easily and conveniently. \n",
    "\n",
    "Without JQuery, when I want to control a element of html, I want to hide a `div`, for example:\n",
    "\n",
    "```js\n",
    "const timeArea = document.getElementById(\"time-area\");\n",
    "timeArea.style.visibility = 'hidden';\n",
    "// timeArea.style.visibility = 'visible';\n",
    "```\n",
    "\n",
    "With JQuery:\n",
    "\n",
    "```js\n",
    "$('time-area').hide();\n",
    "```\n",
    "\n",
    "I know, you must have understand the convenience of using JQery.\n",
    "\n",
    "> jQuery is a lightweight, \"write less, do more\", JavaScript library.        \n",
    "The purpose of jQuery is to make it much easier to use JavaScript on your website.        \n",
    "jQuery also simplifies a lot of the complicated things from JavaScript, like AJAX calls and DOM manipulation.    \n",
    "\n",
    "### XMLHttpRequest() and fetch()\n",
    "\n",
    "---\n",
    "\n",
    "**XMLHttpRequest()** and **fetch()**, are both a way to make http request.\n",
    "\n",
    "### Ajax\n",
    "\n",
    "---\n",
    "\n",
    "**Ajax(\"Asynchronous Javascript and XML\")**, is a smart thought to make http request. So `ajax` and `XMLHttpRequest()`are not the same thing. You can use `XMLHttpRequest` to make a ajax http request which is just a asynchronous request. I'm not sure if this analogy is suitable. Keep in mind that `XMLHttpRequest()` is raw object for makeing ajax request. It is lightest performance wise but it is not cross-browser compatible. \n",
    "\n",
    "So what is **JSP**? JSP is totally defferent from those we have talked about above. JSP is a file that empowers us to insert java code in html code. JSP file need to be compiled to Java file(servelt, to be exact) which has many println() to assemble html dynamicly. And last it will converted into static html file sent to client."
   ]
  },
  {
   "cell_type": "code",
   "execution_count": null,
   "id": "a63bf54f",
   "metadata": {},
   "outputs": [],
   "source": []
  }
 ],
 "metadata": {
  "kernelspec": {
   "display_name": "Python 3 (ipykernel)",
   "language": "python",
   "name": "python3"
  },
  "language_info": {
   "codemirror_mode": {
    "name": "ipython",
    "version": 3
   },
   "file_extension": ".py",
   "mimetype": "text/x-python",
   "name": "python",
   "nbconvert_exporter": "python",
   "pygments_lexer": "ipython3",
   "version": "3.8.9"
  }
 },
 "nbformat": 4,
 "nbformat_minor": 5
}
