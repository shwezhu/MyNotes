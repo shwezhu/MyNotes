{
 "cells": [
  {
   "cell_type": "markdown",
   "id": "0b0ecd75",
   "metadata": {},
   "source": [
    "# 关于C/C++编译的一些思考\n",
    "\n",
    "---\n",
    "\n",
    "写个简单的hello world文件,使用下面指令编译\n",
    "\n",
    "```shell\n",
    "clang -Wall -save-temps main.c –o main\n",
    "```\n",
    "\n",
    "编译过程, 预处理 编译 汇编 链接\n",
    "\n",
    "要思考的问题是, 假如cpp包含了很多个头文件, 不去调用里面的函数, 那么最终的可执行文件的size会变大吗?\n",
    "\n",
    "执行完上面的指令发现,`.s`要比`.i`文件小的多,内容上\n",
    "\n",
    "这是为什么呢? 为什么在编译的时候, 编译器会有选择的保存与处理后文件`.i`的信息?\n",
    "\n",
    "编译后的文件(`.s`)是汇编语言, 汇编语言就是很多指令, 比如当你定义了一个变量, 涉及到开拓内存, 那就会有寄存器存储, 那就会有对应的汇编语言. \n",
    "\n",
    "那头文件里声明的各种类和结构体,函数会被翻译成汇编吗(在`.i` -> `.s`的过程)? \n",
    "\n",
    "暂时不需要关注那些翻译, 想想有哪些 信息 需要保存, 先不需要太底层的知识, 这不就是简单推理么.\n",
    "\n",
    "比如调用了 printf 那只用留下来调用系统api的部分(打印的\n",
    "\n",
    "include stdio.h, 却不调用printf, 会保存吗?\n",
    "\n",
    "不会吧(前提是 也不使用stdio里面其他的函数) 使用哪部分就保存哪部分\n",
    "\n",
    "那你不是知道么~\n",
    "\n",
    "\n",
    "如果我实现了个printf，在另外的.c里，然后写个hello world，会发生什么？如果我把printf做到自己生成的.so动态库里，又会发生什么?"
   ]
  },
  {
   "cell_type": "code",
   "execution_count": null,
   "id": "2e483580",
   "metadata": {},
   "outputs": [],
   "source": []
  }
 ],
 "metadata": {
  "kernelspec": {
   "display_name": "Python 3 (ipykernel)",
   "language": "python",
   "name": "python3"
  },
  "language_info": {
   "codemirror_mode": {
    "name": "ipython",
    "version": 3
   },
   "file_extension": ".py",
   "mimetype": "text/x-python",
   "name": "python",
   "nbconvert_exporter": "python",
   "pygments_lexer": "ipython3",
   "version": "3.8.9"
  }
 },
 "nbformat": 4,
 "nbformat_minor": 5
}
