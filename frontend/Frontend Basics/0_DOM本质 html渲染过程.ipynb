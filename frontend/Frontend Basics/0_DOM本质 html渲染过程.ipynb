{
 "cells": [
  {
   "cell_type": "markdown",
   "id": "d2904733",
   "metadata": {},
   "source": [
    "# 一些思考问题\n",
    "\n",
    "---\n",
    "\n",
    "突然想发现一个问题, 为什么使用JS的时候很少导入包呢?\n",
    "\n",
    "1. DOM Interface是一个, 其实也不算, 毕竟DOM不是JS语言的一部分, 但是也没有导入其他包啊, 怎么直接就用的?\n",
    "\n",
    "2. Map, Set, Math算法等, 这都是JS语言实现的, 那为什么也不需要导入包呢? 你看CPP的STL, Java的Util, 使用容器啥的都需要导入. 这样实现的好处在哪呢?\n",
    "\n",
    "3. 再进一步想, HTML/CSS也是一种语言, 那么HTML/CSS有没有编译器呢? \n",
    "\n",
    "## 问题二\n",
    "第二个问题的前半部分的答案已经找到, 原来map,Math, 都是JS的built-in对象:\n",
    "> Built-in objects and functions, including JSON, Math, Array methods, parseInt, decodeURI, etc. [Find More](https://developer.mozilla.org/en-US/docs/Web/JavaScript/Reference/Global_Objects)\n",
    "\n",
    "## 问题一\n",
    "关于第一个问题, 我看到了官方的这句话:\n",
    "\n",
    "You don't have to do anything special to begin using the DOM. You use the API directly in JavaScript from within what is called a script, a program run by a browser. 这就是说不需要额外导入什么包, 拿到js就能用, 给人的感觉好像是DOM嵌入了JS. 但真实是这样吗? 是不是JS engine实现了DOM呢?还是Browser里面的其他程序实现了DOM? 想继续探讨 还需要先看看第三个问题.\n",
    "\n",
    "## 问题三\n",
    "第三个问题, HTML是markup language, 并不是programming language. 所以并不需要Compiler. 看到一句话如下:\n",
    "\n",
    "Unlike programming languages, markup languages are not executed: they are read and rendered instead. 也就是说浏览器里面有个Render去帮我们渲染显示HTML source文件. \n",
    "\n",
    "## 关于浏览器\n",
    "\n",
    "这些问题越思考越是晕, DOM在哪实现的? JS的内置对象是怎么实现的? HTML是怎么被渲染的? 好像都和浏览器有关系, 不如 直接去探索下浏览器的组成.. 只列出几个部分, 怪不得说自己实现一个浏览器是不可能的....\n",
    "\n",
    "1. The rendering engine\n",
    "\n",
    "responsible for displaying requested content. For example if the requested content is HTML, the rendering engine parses HTML and CSS, and displays the parsed content on the screen.\n",
    "\n",
    "2. JavaScript interpreter\n",
    "\n",
    "Used to parse and execute JavaScript code.\n",
    "\n",
    "3. Networking\n",
    "\n",
    "For network calls such as HTTP requests, using different implementations for different platform behind a platform-independent interface.\n",
    "\n",
    "\n",
    "从上面可以看出, 浏览器里有两个大模块：rendering engine（比如 blink，webkit），和 JS 引擎（比如 V8）。前者负责 html 解析和渲染，后者负责执行 JS。 看到这还是有很多疑惑,还是不知道DOM在哪被实现? 接下来就看看网页rendering的过程,希望能从中找到想要的答案. \n",
    "\n",
    "https://www.ques10.com/p/19744/what-are-the-major-components-of-a-web-browser-d-1/?\n"
   ]
  },
  {
   "cell_type": "markdown",
   "id": "638aeb3c",
   "metadata": {},
   "source": [
    "## 网页渲染的过程\n",
    "\n",
    "找到一篇文章, 看着写的超级棒, 先读读(excited)...\n",
    "\n"
   ]
  },
  {
   "cell_type": "markdown",
   "id": "92474de5",
   "metadata": {},
   "source": [
    "# DOM\n",
    "\n",
    "---\n",
    "\n",
    "The Document Object Model (DOM) **connects** web pages **to** scripts or programming languages **by** representing the structure of a document(such as the HTML) in memory. \n",
    "\n",
    "A web page is a document that can be either displayed in the browser window or as the HTML source. In both cases, it is the same document but the Document Object Model (DOM) representation allows it to be manipulated. \n",
    "\n",
    "How to understand this paragraph below:\n",
    "\n",
    "> The DOM is not part of the JavaScript language, but is instead a Web API used to build websites. JavaScript can also be used in other contexts. For example, `Node.js` runs JavaScript programs on a computer, but provides a different set of APIs, and the DOM API is not a core part of the Node.js runtime.\n",
    "\n",
    "\n"
   ]
  },
  {
   "cell_type": "code",
   "execution_count": null,
   "id": "c8580845",
   "metadata": {},
   "outputs": [],
   "source": []
  }
 ],
 "metadata": {
  "kernelspec": {
   "display_name": "Python 3 (ipykernel)",
   "language": "python",
   "name": "python3"
  },
  "language_info": {
   "codemirror_mode": {
    "name": "ipython",
    "version": 3
   },
   "file_extension": ".py",
   "mimetype": "text/x-python",
   "name": "python",
   "nbconvert_exporter": "python",
   "pygments_lexer": "ipython3",
   "version": "3.8.9"
  }
 },
 "nbformat": 4,
 "nbformat_minor": 5
}
