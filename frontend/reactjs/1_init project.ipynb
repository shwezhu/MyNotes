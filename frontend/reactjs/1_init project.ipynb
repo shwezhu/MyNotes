{
 "cells": [
  {
   "cell_type": "markdown",
   "id": "bc1af050",
   "metadata": {},
   "source": [
    "# Project Structure\n",
    "\n",
    "---\n",
    "\n",
    "有两个主要文件夹, `server`, `client`. \n",
    "\n",
    "server文件夹下是关于之前nodejs和expressjs的那一堆文件: `app.js`, `model`, `controller`, `no de_modules`, `package.json`等. \n",
    "\n",
    "client文件夹放的是关于reactjs的文件, 包括`src`, `public`, `node_modules`, `package.json`, `package-lock.json`.\n",
    "\n",
    "以上其中, `node_modules`文件夹不需要加入版本控制, 应该放入 `.gitingnore`文件中."
   ]
  },
  {
   "cell_type": "markdown",
   "id": "48bf90c4",
   "metadata": {},
   "source": [
    "# 创建reactjs项目\n",
    "\n",
    "---\n",
    "\n",
    "在之前的nodejs项目中, 把所有文件拉到server目录下, 然后在项目根目录输入指令`npx create-react-app client`然后项目目录下就有两个文件夹server和client.\n",
    "\n",
    "创建好之后进入client文件夹, \n",
    "\n",
    "- 1. 在`client/package.json`中加入下面语句:\n",
    "\n",
    "3001是你nodejs服务器的端口号(在app.js中指定), 注意**nodejs的端口号不可为3000**, 因为当你在client文件夹下输入`npm start`的时候react默认就是启动的地址就是`localhost:3000`, 所以如果nodejs的端口号为3000, 那就会发生冲突.\n",
    "\n",
    "```js\n",
    "\"proxy\": \"http://localhost:3001\",\n",
    "```\n",
    "启动软件的过程: \n",
    "\n",
    "从终端进入到该项目的server文件夹, 输入`npm start`, 此时启动nodejs server, 监听端口号为3001\n",
    "\n",
    "从终端进入到该项目的client文件夹, 输入`npm start`, 此时启动react自动载入浏览器, 端口号是3000\n",
    "\n",
    "- 2. 把`src`下的文件全部删除(也可以不删), 然后创建一个新的js文件:\n",
    "\n",
    "注意导入module的时候, 应该用require(CommonJS格式), 而不是import(ES6格式), 具体原因可以去`MyNotes/backend/nodejs/require import` 笔记去查看. 如果两种格式混用, 则会编译失败. \n",
    "\n",
    "不要动`public`文件夹下的文件, 否则可能会编译失败.\n",
    "\n",
    "```js\n",
    "// client/index.js\n",
    "const ReactDOM  = require('react-dom/client');\n",
    "\n",
    "// 获得的是html,也就是DOM的root, 在这React创建了一个自己的根React element与DOM的根节点对应\n",
    "const root = ReactDOM.createRoot(document.getElementById('root'));\n",
    "root.render(<h1>Hello, world!</h1>);\n",
    "```\n",
    "\n",
    "- 3. 执行以下指令即可运行react\n",
    "\n",
    "```shell\n",
    "cd client\n",
    "\n",
    "npm start\n",
    "```\n",
    "- 4. 输出结果\n",
    "\n",
    "```\n",
    "Compiling...\n",
    "Compiled successfully!\n",
    "\n",
    "You can now view client in the browser.\n",
    "\n",
    "  Local:            http://localhost:3000\n",
    "  On Your Network:  http://192.168.0.105:3000\n",
    "\n",
    "Note that the development build is not optimized.\n",
    "To create a production build, use npm run build.\n",
    "\n",
    "webpack compiled successfully\n",
    "```"
   ]
  },
  {
   "cell_type": "code",
   "execution_count": null,
   "id": "a6fb55cf",
   "metadata": {},
   "outputs": [],
   "source": []
  }
 ],
 "metadata": {
  "kernelspec": {
   "display_name": "Python 3 (ipykernel)",
   "language": "python",
   "name": "python3"
  },
  "language_info": {
   "codemirror_mode": {
    "name": "ipython",
    "version": 3
   },
   "file_extension": ".py",
   "mimetype": "text/x-python",
   "name": "python",
   "nbconvert_exporter": "python",
   "pygments_lexer": "ipython3",
   "version": "3.9.6"
  }
 },
 "nbformat": 4,
 "nbformat_minor": 5
}
