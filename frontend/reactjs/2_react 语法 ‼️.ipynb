{
 "cells": [
  {
   "cell_type": "markdown",
   "id": "b5837d2e",
   "metadata": {},
   "source": [
    "## 记住JSX的特性, 以及什么是JSX: \n",
    "\n",
    "```js\n",
    "const name = 'Josh Perez';\n",
    "const element = <h1>Hello, {name}</h1>;\n",
    "```\n",
    "\n",
    "`{}`里可以放任何js的表达式, 理解JSX首先不要忘记, 这个文件仍是js文件, 你写的仍是js代码, 所以不要因为觉得里面有html element, 而局限了自己的思维, 你可以写任何逻辑代码. 同时也可以用一个变量来存储(或用函数返回)JSX表达式`<h1>Hello, {name}</h1>`. 所以请记住使用`{}`.\n",
    "\n",
    "---"
   ]
  },
  {
   "cell_type": "markdown",
   "id": "43e47129",
   "metadata": {},
   "source": [
    "\n",
    "## 关于参数传递\n",
    "\n",
    "> 无论自定义component是函数还是类, 传递实参都是下面这种方式\n",
    "\n",
    "```js\n",
    "const root = ReactDOM.createRoot(document.getElementById('root'));\n",
    "root.render(<Welcome age={13} name={'jack'}/>);\n",
    "```\n",
    "\n",
    "- 通过函数\n",
    "\n",
    "其实通过函数并不能算是定义, 其实下面的`Welcome`就是个普通的js函数, 只不过返回的是个JSX expression, JSX expression就是个js对象. \n",
    "\n",
    "给这个函数传递数据, 有两种方法, \n",
    "\n",
    "第一种是通过特殊参数`props`对象, 例子如下:\n",
    "```js\n",
    "const ReactDOM  = require('react-dom/client');\n",
    "\n",
    "function Welcome(props) {\n",
    "    return <h1>Hello, {props.age} {props.name}</h1>;\n",
    "}\n",
    "\n",
    "const root = ReactDOM.createRoot(document.getElementById('root'));\n",
    "root.render(<Welcome age={13} name={'jack'}/>);\n",
    "```\n",
    "\n",
    "第二种传递数据的方法是自定义, 注意形参是个对象, 也就是说必须有`{}`包装, 不然无法render\n",
    "\n",
    "```js\n",
    "// 注意形参age有{}包装\n",
    "function Welcome({age}) {\n",
    "    return <h1>Hello, {age}</h1>;\n",
    "}\n",
    "\n",
    "const root = ReactDOM.createRoot(document.getElementById('root'));\n",
    "root.render(<Welcome age={13}/>);\n",
    "\n",
    "// 多个参数\n",
    "function Welcome({age, name}) {\n",
    "    return <h1>Hello, {age}, {name}</h1>;\n",
    "}\n",
    "\n",
    "const root = ReactDOM.createRoot(document.getElementById('root'));\n",
    "root.render(<Welcome age={13} name={'jack'}/>);\n",
    "```\n",
    "> 对此我更倾向使用第一种方法, 因为和类统一, 在类中访问参数的方法是`this.props.name`, `this.props.age`, 下面有例子\n",
    "\n",
    "- 通过类\n",
    "\n",
    "```js\n",
    "class Welcome extends React.Component {\n",
    "    render() {\n",
    "        return <h1>Hello, world! {this.props.age}</h1>;\n",
    "    }\n",
    "}\n",
    "\n",
    "const root = ReactDOM.createRoot(document.getElementById('root'));\n",
    "root.render(<Welcome age={6}/>);\n",
    "```\n",
    "\n",
    "---"
   ]
  },
  {
   "cell_type": "markdown",
   "id": "028ea78e",
   "metadata": {},
   "source": [
    "\n",
    "## 当一个component需要有自己的状态的时候, 考虑使用类\n",
    "\n",
    "只可以在类的setState改变它的state\n",
    "\n",
    "细节请参考 https://reactjs.org/docs/state-and-lifecycle.html\n",
    "\n",
    "> 注意因为React 16.8加入了hook的概念, 因此函数返回的component也可以有状态了, 具体参考 https://reactjs.org/docs/hooks-state.html\n",
    "\n",
    "**When would I use a Hook?** If you write a function component and realize you need to add some state to it, previously you had to convert it to a class. Now you can use a Hook inside the existing function component. We’re going to do that right now!"
   ]
  },
  {
   "cell_type": "markdown",
   "id": "e386aca7",
   "metadata": {},
   "source": []
  }
 ],
 "metadata": {
  "kernelspec": {
   "display_name": "Python 3 (ipykernel)",
   "language": "python",
   "name": "python3"
  },
  "language_info": {
   "codemirror_mode": {
    "name": "ipython",
    "version": 3
   },
   "file_extension": ".py",
   "mimetype": "text/x-python",
   "name": "python",
   "nbconvert_exporter": "python",
   "pygments_lexer": "ipython3",
   "version": "3.9.6"
  }
 },
 "nbformat": 4,
 "nbformat_minor": 5
}
