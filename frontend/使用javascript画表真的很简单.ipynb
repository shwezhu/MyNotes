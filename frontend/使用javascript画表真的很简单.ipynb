{
 "cells": [
  {
   "cell_type": "markdown",
   "id": "f9947754",
   "metadata": {},
   "source": [
    "第一步安装ChartJS库, 我使用的是ChartJS官方给的CDNJS方法, 因此在head标签下面导入, 点击链接后, IDEA会自动提示下载, 下载后在IDEA左侧External Libraries可以找到. 如果不理解, 可以去`MyNotes/frontend/front basics/html基础`中查看script src是怎么回事. \n",
    "\n",
    "第二步就直接用了, 真的超级简单. \n",
    "\n",
    "```html\n",
    "<!doctype html>\n",
    "<html lang=\"en\">\n",
    "<head>\n",
    "    <meta charset=\"utf-8\">\n",
    "    <title>ChartJS Learning</title>\n",
    "    <script src=\"https://cdnjs.cloudflare.com/ajax/libs/Chart.js/3.9.1/chart.min.js\"></script>\n",
    "</head>\n",
    "\n",
    "<body>\n",
    "<div>\n",
    "    <canvas id=\"myChart\"></canvas>\n",
    "</div>\n",
    "\n",
    "<!--Scripts are loaded synchronously where they are placed-->\n",
    "<script>\n",
    "    const labels = [\n",
    "        'January',\n",
    "        'February',\n",
    "        'March',\n",
    "        'April',\n",
    "        'May',\n",
    "        'June',\n",
    "    ];\n",
    "\n",
    "    const data = {\n",
    "        labels: labels,\n",
    "        datasets: [{\n",
    "            label: 'My First dataset',\n",
    "            backgroundColor: 'rgb(255, 99, 132)',\n",
    "            borderColor: 'rgb(255, 99, 132)',\n",
    "            data: [0, 10, 5, 2, 20, 30, 45],\n",
    "        }]\n",
    "    };\n",
    "\n",
    "    const config = {\n",
    "        type: 'line',\n",
    "        data: data,\n",
    "        options: {}\n",
    "    };\n",
    "\n",
    "    const myChart = new Chart(\n",
    "        document.getElementById('myChart'),\n",
    "        config\n",
    "    );\n",
    "</script>\n",
    "</body>\n",
    "</html>\n",
    "```"
   ]
  },
  {
   "cell_type": "code",
   "execution_count": null,
   "id": "c6e88416",
   "metadata": {},
   "outputs": [],
   "source": []
  }
 ],
 "metadata": {
  "kernelspec": {
   "display_name": "Python 3 (ipykernel)",
   "language": "python",
   "name": "python3"
  },
  "language_info": {
   "codemirror_mode": {
    "name": "ipython",
    "version": 3
   },
   "file_extension": ".py",
   "mimetype": "text/x-python",
   "name": "python",
   "nbconvert_exporter": "python",
   "pygments_lexer": "ipython3",
   "version": "3.9.6"
  }
 },
 "nbformat": 4,
 "nbformat_minor": 5
}
