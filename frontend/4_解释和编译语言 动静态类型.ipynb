{
 "cells": [
  {
   "cell_type": "markdown",
   "id": "36970c06",
   "metadata": {},
   "source": [
    "# Interpreted or Compiled\n",
    "---\n",
    "\n",
    "> Programming languages are for humans to read and understand. The program (source code) **must be** translated into machine language so that the computer can execute the program. The way that this translation occurs depends on whether the programming language is a compiled language or an interpreted language. Instead of translating the source code into machine language **before the executable file is created**, an interpreter converts the source code into machine language **at the same time** the program runs. So you can't say a language doen't have compilation step, because any language needs to be translated to machine code.\n",
    "\n",
    "JavaScript is an interpreted language, not a compiled language. A program such as C++ or Java needs to be compiled before it is run. Instead, **an interpreter in the browser reads over the JavaScript code, interprets each line, and runs it**. More modern browsers use a technology known as `Just-In-Time (JIT) compilation`, which compiles JavaScript to executable bytecode just as it is about to run.\n",
    "\n",
    "\n",
    "Each time an interpreted program is run, the interpreter must convert source code into machine code and also **pull in the runtime libraries**. This conversion process **makes the program run slower** than a comparable program written in a compiled language. But what is often gained in return is that interpreted languages are often **platform independent** because a different interpreter can be used for each different operating system. \n",
    "\n",
    "源代码都是跨平台的, 编译后的代码都不可能跨平台, 就算java也是加了个JVM去处理编译后的代码, 才实现的看上去是跨平台的感觉, c语言需要先编译,这就限制编译后的代码所能运行的平台, 除非每次运行c的程序的时候你都拿到每一台电脑上都去编译一下. 而js是后编译, 所以相当于无论你在哪个电脑运行,你都需要把源代码搬到那个电脑再编译,再运行.(严格说js运行和编译是同时发生的,interpreter编译(翻译)一行js,执行一行) 所以一个是运行的时候软件的速度一个是跨平台,各有不同的需求而已.不分好坏.\n",
    "\n",
    "https://www2.hawaii.edu/~takebaya/ics111/process_of_programming/process_of_programming.html"
   ]
  },
  {
   "cell_type": "markdown",
   "id": "0da2be77",
   "metadata": {},
   "source": [
    "# Dynamically Typed or Static Typed\n",
    "\n",
    "---\n",
    "\n",
    "The inner workings of JavaScript is closer to a `dynamically-typed`, `interpreted language` such as Python or Ruby.\n",
    "\n",
    "A language is dynamically typed if the **type is associated with run-time values**, and not named variables/fields/etc. Dynamically typed languages (where type checking happens at run time) can also be strongly typed. **Note that in dynamically typed languages, values have types, not variables**.\n",
    "\n"
   ]
  },
  {
   "cell_type": "markdown",
   "id": "93a5f54b",
   "metadata": {},
   "source": []
  }
 ],
 "metadata": {
  "kernelspec": {
   "display_name": "Python 3 (ipykernel)",
   "language": "python",
   "name": "python3"
  },
  "language_info": {
   "codemirror_mode": {
    "name": "ipython",
    "version": 3
   },
   "file_extension": ".py",
   "mimetype": "text/x-python",
   "name": "python",
   "nbconvert_exporter": "python",
   "pygments_lexer": "ipython3",
   "version": "3.8.9"
  }
 },
 "nbformat": 4,
 "nbformat_minor": 5
}
