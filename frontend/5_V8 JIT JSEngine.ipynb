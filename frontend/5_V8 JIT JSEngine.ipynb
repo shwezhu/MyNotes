{
 "cells": [
  {
   "cell_type": "markdown",
   "id": "68d3bdee",
   "metadata": {},
   "source": [
    "# JavaScript Engine\n",
    "---\n",
    "\n",
    "> The JavaScript Engine is a program whose responsibility is to **execute JavaScript code**. The first JavaScript engines were **mere interpreters**, but all relevant modern engines use **just-in-time compilation** for improved performance.\n",
    "\n",
    "JavaScript engines are typically developed by web browser vendors, and every major browser has one.\n",
    "\n",
    "+ **V8** – Open-source JavaScript Engine developed by Google for Chrome\n",
    "+ **SpiderMonkey** – The JavaScript Engine powering Mozilla Firefox\n",
    "+ **JavaScriptCore** – Open-source JavaScript Engine developed by Apple for Safari\n",
    "\n",
    "The use of JavaScript engines is not limited to browsers. For example, the **V8 engine is a `core component` of the [Node.js](https://www.webopedia.com/definitions/node-js/)**. V8 is the Javascript engine **inside of** node.js that parses and runs your Javascript. The same V8 engine is used **inside of** Chrome to run javascript in the Chrome browser. Both `chrome browser` and `node.js` have `v8` inside.\n",
    "\n",
    "Since `ECMAScript` is the standardized specification of JavaScript, ECMAScript engine is another name for these engines. ECMAScript is a standard. JavaScript is an implementation of the ECMAScript standard."
   ]
  },
  {
   "cell_type": "markdown",
   "id": "ced98574",
   "metadata": {},
   "source": [
    "# Interpreter and Compilation\n",
    "---\n",
    "\n",
    "JavaScript is a purely interpreted language. The problem with being an interpreted language, however, is that interpreted programming languages are much slower in terms of performance when compared to compiled languages. This represents a problem for modern applications that require fast processing and high performance. Many people still call JavaScript an interpreted programming language but that is no longer the case. Current JavaScript Engine use the concept of **both compilation and interpretation at the same time**, which is known as **Just-in-Time (JIT) compilation**(kang pei lei shen).\n",
    "\n",
    "> The first JavaScript engines were **mere interpreters**, but all relevant modern engines use **just-in-time compilation** for improved performance.\n",
    "\n"
   ]
  },
  {
   "cell_type": "markdown",
   "id": "cebaf451",
   "metadata": {},
   "source": [
    "# How does the JIT compiler work in JS?\n",
    "---\n",
    "The answer to this question varies somewhat between the different JavaScript engines (V8, Chakra, SpiderMonkey, Nitro, etc.) Since V8 is the most popular JavaScript engine, powering Chrome, NodeJS, and Opera, I will focus primarily on it:\n",
    "\n",
    "The V8 JIT compiler is called Ignition, and it compiles the JavaScript source-code to a concise bytecode rather than into machine language. Not only is this compilation faster, but the resulting bytecode is much more compact than machine code, which improves memory efficiency (especially important on mobile devices). This bytecode is then executed by a high-performance interpreter which yields execution speeds close to that of JIT-generated machine code.\n",
    "\n",
    "While Ignition is executing the bytecode, another V8 component, called TurboFan analyses the operations, and identifies code that can be optimized in order to improve overall performance. When it identifies such code, TurboFan generates highly optimized machine code from sections of the bytecode. It then replaces those sections of the bytecode with the optimized machine code so that it’s used from that point on. This means that the execution speed of the JavaScript code currently loaded in V8 gradually improves while it is running. TurboFan does this work in the background, even in other threads, so that Ignition isn’t adversely impacted by it.\n",
    "\n",
    "learn more:https://hacks.mozilla.org/2017/02/a-crash-course-in-just-in-time-jit-compilers/"
   ]
  }
 ],
 "metadata": {
  "kernelspec": {
   "display_name": "Python 3 (ipykernel)",
   "language": "python",
   "name": "python3"
  },
  "language_info": {
   "codemirror_mode": {
    "name": "ipython",
    "version": 3
   },
   "file_extension": ".py",
   "mimetype": "text/x-python",
   "name": "python",
   "nbconvert_exporter": "python",
   "pygments_lexer": "ipython3",
   "version": "3.8.9"
  }
 },
 "nbformat": 4,
 "nbformat_minor": 5
}
