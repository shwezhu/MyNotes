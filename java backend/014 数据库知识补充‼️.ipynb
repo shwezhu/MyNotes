{
 "cells": [
  {
   "cell_type": "markdown",
   "id": "cf61f61f",
   "metadata": {},
   "source": [
    "\n",
    "\n",
    "ALTER TABLE temperature ADD id INT PRIMARY KEY AUTO_INCREMENT;"
   ]
  }
 ],
 "metadata": {
  "kernelspec": {
   "display_name": "Python 3 (ipykernel)",
   "language": "python",
   "name": "python3"
  },
  "language_info": {
   "codemirror_mode": {
    "name": "ipython",
    "version": 3
   },
   "file_extension": ".py",
   "mimetype": "text/x-python",
   "name": "python",
   "nbconvert_exporter": "python",
   "pygments_lexer": "ipython3",
   "version": "3.9.6"
  }
 },
 "nbformat": 4,
 "nbformat_minor": 5
}
