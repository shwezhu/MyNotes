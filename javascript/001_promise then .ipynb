{
 "cells": [
  {
   "cell_type": "markdown",
   "id": "85f8da36",
   "metadata": {},
   "source": [
    "虽然`async/await`比较intuitive, 是有时候一些函数不允许为`async`, 所以就无法使用`await`, 因此Promise就来了. \n",
    "\n",
    "promise的核心就是每个函数**必须且只能**返回一个值(promise), 这个值会作为参数自动传到下一个函数(callback)中, 所以每个函数(除了第一个), 都只能且必须接受一个参数. \n",
    "\n",
    "所以下面的关于fetch的函数, 理解起来就很简单, doSomething()返回了一个值(promise), 这个值通过第二个匿名函数的url(形参)自动传递给fetch, fetch把从服务器获得的数据返回给了下一个then的handler,, 这就是一个promise chain.  \n",
    "```js\n",
    "doSomething()\n",
    "  .then((url) => fetch(url))\n",
    "  .then((res) => res.json())\n",
    "  .then((data) => {\n",
    "    listOfIngredients.push(data);\n",
    "  })\n",
    "  .then(() => {\n",
    "    console.log(listOfIngredients);\n",
    "  });\n",
    "```\n",
    "\n",
    "> with arrow functions, `() => x` is short for `() => { return x; }`\n",
    "\n",
    "---\n",
    "\n",
    "```js\n",
    "doSomething()\n",
    "  .then(function (result) {\n",
    "    return doSomethingElse(result);\n",
    "  })\n",
    "  .then(function (newResult) {\n",
    "    return doThirdThing(newResult);\n",
    "  })\n",
    "  .then(function (finalResult) {\n",
    "    console.log(`Got the final result: ${finalResult}`);\n",
    "  })\n",
    "  .catch(failureCallback);\n",
    "```\n",
    "\n",
    "- The arguments to `then` are optional, and `catch(failureCallback)` is short for `then(null, failureCallback)`. \n",
    "\n",
    "- Each promise object will have a `then` function that can take two arguments, a `success handler` and an `error handler`.\n",
    "\n",
    "- If there's an exception, the browser will look down the chain for `.catch()` handlers.\n",
    "\n",
    "https://stackoverflow.com/a/31453579/16317008\n",
    "\n",
    "https://developer.mozilla.org/en-US/docs/Web/JavaScript/Guide/Using_promises"
   ]
  },
  {
   "cell_type": "markdown",
   "id": "229fffda",
   "metadata": {},
   "source": [
    "---\n",
    "\n",
    "在这想多说一些, 我们在js中发送http请求的时候, 会用的一些Web APIs, 他们并不属于js语言本身, 而是有browser提供. 因此在使用他们的时候我们也不需要导入什么额外的包. \n",
    "\n",
    "- fetch()\n",
    "- XMLHttpRequest()\n",
    "\n",
    "了解更多Web API相关知识: https://developer.mozilla.org/en-US/docs/Learn/JavaScript/Client-side_web_APIs/Introduction \n",
    "\n",
    "查看更多Web APIs: https://developer.mozilla.org/en-US/docs/Web/API"
   ]
  },
  {
   "cell_type": "code",
   "execution_count": null,
   "id": "b37cd277",
   "metadata": {},
   "outputs": [],
   "source": []
  }
 ],
 "metadata": {
  "kernelspec": {
   "display_name": "Python 3 (ipykernel)",
   "language": "python",
   "name": "python3"
  },
  "language_info": {
   "codemirror_mode": {
    "name": "ipython",
    "version": 3
   },
   "file_extension": ".py",
   "mimetype": "text/x-python",
   "name": "python",
   "nbconvert_exporter": "python",
   "pygments_lexer": "ipython3",
   "version": "3.9.6"
  }
 },
 "nbformat": 4,
 "nbformat_minor": 5
}
