{
 "cells": [
  {
   "cell_type": "markdown",
   "id": "e432f819",
   "metadata": {},
   "source": [
    "### `...` in js\n",
    "\n",
    "Syntax:\n",
    "```js\n",
    "myFunction(a, ...iterableObj, b)\n",
    "[1, ...iterableObj, '4', 'five', 6]\n",
    "{ ...obj, key: 'value' }\n",
    "```\n",
    "请参考: https://developer.mozilla.org/en-US/docs/Web/JavaScript/Reference/Operators/Spread_syntax\n",
    "\n",
    "例子:\n",
    "\n",
    "有时候只需要替换对象的一个属性, 如果全部都写下来会占用很多空间, 这时候可以按照下面这样:\n",
    "```js\n",
    "options = {\n",
    "    animationEnabled: true,\n",
    "    exportEnabled: false,\n",
    "    title:{...},\n",
    "    axisY: {...},\n",
    "    axisX: {...},\n",
    "    data: [...]\n",
    "}\n",
    "\n",
    "....\n",
    "\n",
    "const data = [...];\n",
    "// react, useState 要求必须传递整个对象, 因为setOptions做的只是替换,而不是合并\n",
    "setOptions({...options, data: data});\n",
    "```\n"
   ]
  },
  {
   "cell_type": "code",
   "execution_count": null,
   "id": "98f3f390",
   "metadata": {},
   "outputs": [],
   "source": []
  }
 ],
 "metadata": {
  "kernelspec": {
   "display_name": "Python 3 (ipykernel)",
   "language": "python",
   "name": "python3"
  },
  "language_info": {
   "codemirror_mode": {
    "name": "ipython",
    "version": 3
   },
   "file_extension": ".py",
   "mimetype": "text/x-python",
   "name": "python",
   "nbconvert_exporter": "python",
   "pygments_lexer": "ipython3",
   "version": "3.9.6"
  }
 },
 "nbformat": 4,
 "nbformat_minor": 5
}
