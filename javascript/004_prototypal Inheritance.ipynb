{
 "cells": [
  {
   "cell_type": "markdown",
   "id": "98195757",
   "metadata": {},
   "source": [
    "> Javascript is an object-based language, not a class-based language.\n",
    "\n",
    "If you know Java or C++, you should be familiar with the inheritance concept. **In this programming paradigm**, a class is a blueprint for creating objects. If you want a new class to reuse the functionality of an existing class, you can create a new class that extends the existing class. This is called **classical inheritance**.\n",
    "\n",
    "> JavaScript doesn’t use **classical inheritance**. Instead, it uses **prototypal inheritance**.\n",
    "\n",
    "In prototypal inheritance, an object “inherits” properties from another object via the `prototype` linkage.\n",
    "\n",
    "---"
   ]
  },
  {
   "cell_type": "markdown",
   "id": "384d3f6e",
   "metadata": {},
   "source": [
    "## JavaScript prototypal inheritance and `__proto__`\n",
    "\n",
    "在`Mynote/javascript/prototype chain`那一节, 对prototype chain做了个简单的介绍, 其实prototype chain的意义正是代替了传统语言java,cpp这种类的继承机制, 只不过是对象之间的继承, 而不是类之间. \n",
    "\n",
    "```js\n",
    "const person = {\n",
    "    name: 'Jack',\n",
    "    greet: function () {\n",
    "        console.log('hello, from ' + this.name);\n",
    "    }\n",
    "};\n",
    "\n",
    "const student = {\n",
    "    study: function () {\n",
    "        return 'study';\n",
    "    }\n",
    "}\n",
    "student.__proto__ = person;\n",
    "\n",
    "// console.log(student.name); //Jack\n",
    "// console.log(student.age); //error\n",
    "student.name = 'John';\n",
    "student.greet(); //hello, from John\n",
    "\n",
    "console.log(student.__proto__); //{ name: 'Jack', greet: [Function: greet] }\n",
    "console.log(Object.getPrototypeOf(student)); //{ name: 'Jack', greet: [Function: greet] }\n",
    "```\n",
    "\n",
    "官方说`obj.__proto__`不是访问对象prototype属性的标准方法,因为有的browser可能没实现, 所以访问(只读)一般用`Object.getPrototypeOf(student)`这种方式去做, 那我们想赋值给一个对象的prototype要怎么做呢? 答: 使用`Object.create(fatherObject)`去创造一个子对象. 例子(假如对象person还是上面的对象):\n",
    "```js\n",
    "// 创造新的子对象\n",
    "const student = Object.create(person);\n",
    "student.name = 'John';\n",
    "student.study = function () {\n",
    "    console.log('studying');\n",
    "}\n",
    "\n",
    "student.greet(); //hello, from John\n",
    "student.study(); //studying\n",
    "console.log(Object.getPrototypeOf(student)); //{ name: 'Jack', greet: [Function: greet] }\n",
    "```\n",
    "\n",
    "---"
   ]
  },
  {
   "cell_type": "markdown",
   "id": "efd8280c",
   "metadata": {},
   "source": []
  }
 ],
 "metadata": {
  "kernelspec": {
   "display_name": "Python 3 (ipykernel)",
   "language": "python",
   "name": "python3"
  },
  "language_info": {
   "codemirror_mode": {
    "name": "ipython",
    "version": 3
   },
   "file_extension": ".py",
   "mimetype": "text/x-python",
   "name": "python",
   "nbconvert_exporter": "python",
   "pygments_lexer": "ipython3",
   "version": "3.9.6"
  }
 },
 "nbformat": 4,
 "nbformat_minor": 5
}
