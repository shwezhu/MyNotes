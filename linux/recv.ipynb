{
 "cells": [
  {
   "cell_type": "markdown",
   "id": "26da4f0e",
   "metadata": {},
   "source": [
    "# Socket\n",
    "\n",
    "---\n",
    "\n",
    "## recv()\n",
    "\n",
    "---\n",
    "\n",
    "```c\n",
    "#include <sys/socket.h>\n",
    "\n",
    "ssize_t recv(int socket, void *buffer, size_t length, int flags);\n",
    "```\n",
    "\n",
    "### DESCRIPTION\n",
    "\n",
    "**length**\n",
    "\n",
    "For `SOCK_STREAM` socket, this parameter `length` does not really matter, because you are just pulling some of the waiting bytes and you can retrieve more in a next call. Just pick whatever buffer size you can afford.\n",
    "\n",
    "https://stackoverflow.com/a/38858017/16317008\n",
    "\n",
    "**flags**\n",
    "\n",
    "MSG_PEEK    peek at incoming message. The data is treated as unread and the next `recv()` or similar function will still return this data.\n",
    "\n",
    "The `MSG_PEEK` flag causes the receive operation to return data from the beginning of the receive queue without removing that data from the queue. Thus, a subsequent receive call will return the same data.\n",
    "\n",
    "\n",
    "\n",
    "The recv() function shall return the length of the message written to the buffer. For message-based sockets, such as SOCK_DGRAM and SOCK_SEQPACKET, the entire message shall be read in a single operation. If a message is too long to fit in the supplied buffer, and MSG_PEEK is not set in the flags argument, the excess bytes shall be discarded. For stream-based sockets, such as SOCK_STREAM, message boundaries shall be ignored. In this case, data shall be returned to the user as soon as it becomes available, and no data shall be discarded.\n",
    "\n",
    "\n",
    "### RETURN VALUE\n",
    "\n",
    "Upon successful completion, recv() shall return the length of the message in bytes. If no messages are available to be received and the peer has performed an orderly shutdown, recv() shall return 0. Otherwise, -1 shall be returned and errno set to indicate the error.\n",
    "\n",
    "https://pubs.opengroup.org/onlinepubs/007904975/functions/recv.html"
   ]
  }
 ],
 "metadata": {
  "kernelspec": {
   "display_name": "Python 3 (ipykernel)",
   "language": "python",
   "name": "python3"
  },
  "language_info": {
   "codemirror_mode": {
    "name": "ipython",
    "version": 3
   },
   "file_extension": ".py",
   "mimetype": "text/x-python",
   "name": "python",
   "nbconvert_exporter": "python",
   "pygments_lexer": "ipython3",
   "version": "3.8.9"
  }
 },
 "nbformat": 4,
 "nbformat_minor": 5
}
