{
 "cells": [
  {
   "cell_type": "markdown",
   "id": "91d8f7d2",
   "metadata": {},
   "source": [
    "# curl\n",
    "\n",
    "`man curl`:\n",
    "\n",
    "> `-H/--header <header>`        \n",
    "> (HTTP)  Extra header to use when getting a web page. You may specify any number of extra headers. Note that if you should  add  a  custom header that has the same name as one of the internal ones curl would use, your externally set header will be used instead of the internal one.  This  allows  you  to make even trickier stuff than curl would normally do. You should not replace internally set  headers  without knowing  perfectly well what you're doing. Remove an internal header by giving a replacement without content on the  right  side  of  the colon, as in: -H \"Host:\". curl  will  make sure that each header you add/replace get sent with the proper end of line marker, you should thus not  add  that  as  a part  of the header content: do not add newlines or carriage returns they will only mess things up for you. See also the -A/--user-agent and -e/--referer options. This option can be used multiple times to add/replace/remove multi-ple headers.\n",
    "\n",
    "\n",
    "\n",
    "### Example 1: Single Header\n",
    "\n",
    "```bash\n",
    "curl --header \"X-MyHeader: 123\" www.google.com\n",
    "```\n",
    "    \n",
    "### Example 2: Mutliple Headers\n",
    "```bash\n",
    "curl --header \"Accept: text/javascript\" --header \"X-Test: hello\" -v localhost:8080 \n",
    "```\n",
    "You can see the request that curl sent by adding the `-v` option.\n",
    "    \n",
    "https://stackoverflow.com/a/356714/16317008"
   ]
  }
 ],
 "metadata": {
  "kernelspec": {
   "display_name": "Python 3 (ipykernel)",
   "language": "python",
   "name": "python3"
  },
  "language_info": {
   "codemirror_mode": {
    "name": "ipython",
    "version": 3
   },
   "file_extension": ".py",
   "mimetype": "text/x-python",
   "name": "python",
   "nbconvert_exporter": "python",
   "pygments_lexer": "ipython3",
   "version": "3.8.9"
  }
 },
 "nbformat": 4,
 "nbformat_minor": 5
}
