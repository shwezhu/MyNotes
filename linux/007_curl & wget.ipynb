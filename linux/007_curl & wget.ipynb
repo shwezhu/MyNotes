{
 "cells": [
  {
   "cell_type": "markdown",
   "id": "b8615b70",
   "metadata": {},
   "source": [
    "We may wish to send HTTP requests without using a web browser or other interactive app. For this, Linux provides us with two commands: `curl` and `wget`.\n",
    "\n",
    "Both `curl` and `wget` support HTTP, HTTPS, and FTP protocols. So if we want to get a page from a website, say baeldung.com, then we can run them with the web address as the parameter:\n",
    "\n",
    "```zsh\n",
    "wget https://www.baeldung.com/\n",
    "\n",
    "--2019-10-02 22:00:34--  https://www.baeldung.com/\n",
    "Resolving www.baeldung.com (www.baeldung.com)... 2606:4700:30::6812:3e4e, 2606:4700:30::6812:3f4e, 104.18.63.78, ...\n",
    "Connecting to www.baeldung.com (www.baeldung.com)|2606:4700:30::6812:3e4e|:443... connected.\n",
    "HTTP request sent, awaiting response... 200 OK\n",
    "Length: unspecified [text/html]\n",
    "Saving to: ‘index.html’\n",
    "\n",
    "index.html                    [ <=> ] 122.29K  --.-KB/s    in 0.08s   \n",
    "\n",
    "2019-10-02 22:00:35 (1.47 MB/s) - ‘index.html’ saved [125223]\n",
    "```\n",
    "\n",
    "The main difference between them is that `curl` will show the output in the console. On the other hand, `wget` will download it into a file.\n",
    "\n",
    "We can save the data in a file with curl by using the `-o` parameter:\n",
    "\n",
    "```bash\n",
    "curl https://www.baeldung.com/ -o baeldung.txt\n",
    "\n",
    "  % Total    % Received % Xferd  Average Speed   Time    Time     Time  Current\n",
    "                                 Dload  Upload   Total   Spent    Left  Speed\n",
    "100  122k    0  122k    0     0    99k      0 --:--:--  0:00:01 --:--:--   99k\n",
    "```\n",
    "\n",
    "-----\n",
    "\n",
    "e.g., \n",
    "\n",
    "```bash\n",
    "wget -q -O install.sh https://raw.githubusercontent.com/nvm-sh/nvm/v0.39.3/install.sh\n",
    "# 等价于\n",
    "wget -qO install.sh https://raw.githubusercontent.com/nvm-sh/nvm/v0.39.3/install.sh\n",
    "```\n",
    "\n",
    "有时候并不想保存文件, 而是直接用bash命令处理脚本进行安装软件:\n",
    "\n",
    "```\n",
    "wget -qO- https://raw.githubusercontent.com/nvm-sh/nvm/v0.39.3/install.sh | bash\n",
    "```\n",
    "\n",
    "> 第二个`-`: If `-` is used as file, documents will be printed to standard output, disabling link conversion. https://unix.stackexchange.com/a/414657\n",
    "\n"
   ]
  },
  {
   "cell_type": "code",
   "execution_count": null,
   "id": "ed5f7405",
   "metadata": {},
   "outputs": [],
   "source": []
  }
 ],
 "metadata": {
  "kernelspec": {
   "display_name": "Python 3 (ipykernel)",
   "language": "python",
   "name": "python3"
  },
  "language_info": {
   "codemirror_mode": {
    "name": "ipython",
    "version": 3
   },
   "file_extension": ".py",
   "mimetype": "text/x-python",
   "name": "python",
   "nbconvert_exporter": "python",
   "pygments_lexer": "ipython3",
   "version": "3.9.6"
  }
 },
 "nbformat": 4,
 "nbformat_minor": 5
}
