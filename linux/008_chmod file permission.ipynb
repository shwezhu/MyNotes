{
 "cells": [
  {
   "cell_type": "markdown",
   "id": "9d48e1ca",
   "metadata": {},
   "source": [
    "Linux下权限的粒度有 拥有者 、群组 、其它组 三种。每个文件都可以针对三个粒度，设置不同的rwx(读写执行)权限。Linux上通常使用`chmod`命令对文件的权限进行设置和更改。\n",
    "\n",
    "### 数字权限使用格式\n",
    "\n",
    "在这种使用方式中，首先我们需要了解数字如何表示权限。 首先，我们规定 数字 4 、2 和 1表示读、写、执行权限，即 r=4，w=2，x=1 。\n",
    "\n",
    "```\n",
    "rwx = 4 + 2 + 1 = 7\n",
    "rw = 4 + 2 = 6\n",
    "rx = 4 +1 = 5\n",
    "\n",
    "若要同时设置 rwx (可读写运行） 权限则将该权限位 设置 为 4 + 2 + 1 = 7\n",
    "若要同时设置 rw- （可读写不可运行）权限则将该权限位 设置 为 4 + 2 = 6\n",
    "若要同时设置 r-x （可读可运行不可写）权限则将该权限位 设置 为 4 +1 = 5\n",
    "```\n",
    "\n",
    "设置**所有用户**可以读写及执行\n",
    "\n",
    "```\n",
    "chmod 777 file  (等价于  chmod u=rwx,g=rwx,o=rwx file 或  chmod a=rwx file)\n",
    "```\n",
    "\n",
    "设置**拥有者**可读写，其他人不可读写执行\n",
    "\n",
    "```\n",
    "chmod 600 file (等价于  chmod u=rw,g=---,o=--- file 或 chmod u=rw,go-rwx file )\n",
    "```\n",
    "\n",
    "### 十位权限表示\n",
    "\n",
    "```\n",
    "-rw------- (600)    只有拥有者有读写权限。\n",
    "-rw-r--r-- (644)    只有拥有者有读写权限；而属组用户和其他用户只有读权限。\n",
    "-rwx------ (700)    只有拥有者有读、写、执行权限。\n",
    "-rwxr-xr-x (755)    拥有者有读、写、执行权限；而属组用户和其他用户只有读、执行权限。\n",
    "-rwx--x--x (711)    拥有者有读、写、执行权限；而属组用户和其他用户只有执行权限。\n",
    "-rw-rw-rw- (666)    所有用户都有文件读、写权限。\n",
    "-rwxrwxrwx (777)    所有用户都有读、写、执行权限。\n",
    "```\n",
    "\n",
    "```\n",
    "-rw------- =  600\n",
    "-rw-rw-rw- =  666\n",
    "-rwxrwxrwx =  777\n",
    "```"
   ]
  },
  {
   "cell_type": "code",
   "execution_count": null,
   "id": "347ac147",
   "metadata": {},
   "outputs": [],
   "source": []
  }
 ],
 "metadata": {
  "kernelspec": {
   "display_name": "Python 3 (ipykernel)",
   "language": "python",
   "name": "python3"
  },
  "language_info": {
   "codemirror_mode": {
    "name": "ipython",
    "version": 3
   },
   "file_extension": ".py",
   "mimetype": "text/x-python",
   "name": "python",
   "nbconvert_exporter": "python",
   "pygments_lexer": "ipython3",
   "version": "3.9.6"
  }
 },
 "nbformat": 4,
 "nbformat_minor": 5
}
