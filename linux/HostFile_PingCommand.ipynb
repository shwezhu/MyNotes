{
 "cells": [
  {
   "cell_type": "markdown",
   "metadata": {},
   "source": [
    "# Host File and Ping\n",
    "---\n"
   ]
  },
  {
   "cell_type": "markdown",
   "metadata": {},
   "source": [
    "## hosts file\n",
    "---\n",
    "\n",
    "hosts 文件是历史遗留问题。在ARPANET 时期，是没有DNS的，整个互联网上只有数百台主机，那时就是通过hosts 文件来解析域名的。后来Internet 爆发增长，已经不可能再将所有的主机名与ip的对应关系写进hosts 文件里面了，那样速度太慢。后来就出现了DNS（Domain Name System）。同时原来的hosts 文件也保留了下来 。\n",
    "\n",
    "The hosts file has priority over DNS. When you type in the domain name of a web site you want to visit, the domain name must be translated into its corresponding IP Address. The operating system first checks its hosts file for the corresponding domain, and if there is no entry(ip) for the domain, it will query the configured DNS servers to resolve the specified domain name. "
   ]
  },
  {
   "cell_type": "markdown",
   "metadata": {},
   "source": [
    "### How to use the hosts file\n",
    "\n",
    "By default, the system root is C:Windows, so if you are using Windows, your hosts file is most probably: `C:\\Windows\\System32\\drivers\\etc\\hosts`\n",
    "\n",
    "```cpp\n",
    "Linux: /etc/hosts\n",
    "Mac OS X: /private/etc/hosts\n",
    "```\n",
    "\n",
    "Let’s say that you wish to resolve yourdomain.com to the IP address `1.2.3.4`. In this case, you would need to open up the hosts file with a text editor and append the following line:\n",
    "\n",
    "```cpp\n",
    "1.2.3.4 yourdomain.com www.yourdomain.com\n",
    "```\n",
    "\n",
    "This will “tell” your computer to resolve yourdomain.com to 1.2.3.4. Once you do that you may need to **clear your web browser’s cache**, afterward, if you try to reach your domain http://yourdomain.com in a browser it should take you to the site hosted on the server with IP 1.2.3.4."
   ]
  },
  {
   "cell_type": "markdown",
   "metadata": {},
   "source": [
    "### e.g.\n",
    "\n",
    "1. Environment: linux\n",
    "\n",
    "2. Using command `nslookup` to look up IP of a domain name. e.g.,`nslookup www.baidu.com`, then find it's IP `110.242.68.4`.\n",
    "\n",
    "3. Applend `110.242.68.3 google.com www.gooogle.com` to the hosts file which located in `/etc/hosts`.\n",
    "\n",
    "4. clear your web browser’s cache\n",
    "\n",
    "5. type `www.google.com` in your broswer, you'll find the difference.\n",
    "\n",
    "6. type 'ping www.google.com', you'll find the difference.\n"
   ]
  },
  {
   "cell_type": "markdown",
   "metadata": {},
   "source": [
    "### command `ping`\n",
    "ping 命令是基于 ICMP(IP layer) 协议来工作的，ping 命令会发送一份ICMP回显请求报文给目标主机，并等待目标主机返回ICMP回显应答。因为ICMP协议会要求目标主机在收到消息之后，必须返回ICMP应答消息给源主机，如果源主机在一定时间内收到了目标主机的应答，则表明两台主机之间网络是可达的。\n",
    "\n",
    "ICMP协议既不是基于TCP，也不是基于UDP，而是直接基于网络层的IP协议，在整个网络协议栈中属于相当底层的协议了。"
   ]
  },
  {
   "cell_type": "markdown",
   "metadata": {},
   "source": [
    "\n",
    "\n"
   ]
  },
  {
   "cell_type": "markdown",
   "metadata": {},
   "source": []
  }
 ],
 "metadata": {
  "kernelspec": {
   "display_name": "Python 3 (ipykernel)",
   "language": "python",
   "name": "python3"
  },
  "language_info": {
   "codemirror_mode": {
    "name": "ipython",
    "version": 3
   },
   "file_extension": ".py",
   "mimetype": "text/x-python",
   "name": "python",
   "nbconvert_exporter": "python",
   "pygments_lexer": "ipython3",
   "version": "3.8.9"
  }
 },
 "nbformat": 4,
 "nbformat_minor": 4
}
