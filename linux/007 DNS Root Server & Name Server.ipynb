{
 "cells": [
  {
   "cell_type": "markdown",
   "id": "7f9ee854",
   "metadata": {},
   "source": [
    "看DNS快被各种servers搞晕了, 什么root server, name server (NS), DNS server, 真的受不了了, 这都是啥, 怎么一会叫这个一会叫那个???\n",
    "\n",
    "当然首先要知道, 不管是什么server, 他们肯定存的是url到ip地址的map,\n",
    "\n",
    "## 1. Root Server & Name Server\n",
    "----\n",
    "\n",
    "When you enter a website address into your browsers address bar, a DNS server goes to work to find the address that you want to visit. It does this by sending a DNS query to several servers, each of which translates a different part of the domain name you entered. The different servers queried are:\n",
    "\n",
    "- A DNS Resolver: Receives the request to resolve the domain name with the IP address. This server does the grunt work in figuring out where the site you want to go actually resides on the internet.\n",
    "\n",
    "- A Root Server: The root server receives the first request, and returns a result to let the DNS resolver know what the address of the Top Level Domain (TLD) server that stores the information about the site. A top level domain is the equivalent of the `.com` or `.net` portion of the domain name you entered into the address bar.\n",
    "\n",
    "- A TLD Server: The DNS resolver then queries this server, which will return the **Authoritative Name Server** where the site is actually returned.\n",
    "\n",
    "- An Authoritative Name Server: Finally, the DNS resolver queries this server to learn the actual IP address of the website you're trying to deliver.\n",
    "\n",
    "好家伙, 原来他们都是DNS server, 只不过是存储的是不同级别的域名信息, 这里有两个角色, 一个是DNS Resolver一个是DNS Server. DNS Resolver收到一个查询url(`www.example.com`)ip地址的请求, 然后它就最先去请求Root Server查询TLD server的地址(就是com), \n",
    "\n",
    "你可能会想, root server的ip地址在哪查呢? 因为DNS Resolver拿到请求的第一步就是向root server请求下一级也就是TLD server的ip地址. 因为一般root server就那几个, root server的ip地址DNS Resolver就知道, 不用查, 所以看看root server都是什么:\n"
   ]
  },
  {
   "cell_type": "markdown",
   "id": "01a480a3",
   "metadata": {},
   "source": [
    "The **authoritative name servers** that serve the DNS root zone, commonly known as the “root servers”, are a network of hundreds of servers in many countries around the world. They are configured in the DNS root zone as 13 named authorities, as follows. 看到这句话才发现, 原来不管是root server还是TLD server其实都是name server, 只不过用了不同的叫法方便区分. \n",
    "\n",
    "这些就是Root Server了, 他们存的是TLD Server的ip地址哦,\n",
    "\n",
    "```shell\n",
    "a.root-servers.net\t198.41.0.4, 2001:503:ba3e::2:30\tVerisign, Inc.\n",
    "b.root-servers.net\t199.9.14.201, 2001:500:200::b\tUniversity of Southern California,\n",
    "Information Sciences Institute\n",
    "c.root-servers.net\t192.33.4.12, 2001:500:2::c\tCogent Communications\n",
    "d.root-servers.net\t199.7.91.13, 2001:500:2d::d\tUniversity of Maryland\n",
    "e.root-servers.net\t192.203.230.10, 2001:500:a8::e\tNASA (Ames Research Center)\n",
    "f.root-servers.net\t192.5.5.241, 2001:500:2f::f\tInternet Systems Consortium, Inc.\n",
    "g.root-servers.net\t192.112.36.4, 2001:500:12::d0d\tUS Department of Defense (NIC)\n",
    "h.root-servers.net\t198.97.190.53, 2001:500:1::53\tUS Army (Research Lab)\n",
    "i.root-servers.net\t192.36.148.17, 2001:7fe::53\tNetnod\n",
    "j.root-servers.net\t192.58.128.30, 2001:503:c27::2:30\tVerisign, Inc.\n",
    "k.root-servers.net\t193.0.14.129, 2001:7fd::1\tRIPE NCC\n",
    "l.root-servers.net\t199.7.83.42, 2001:500:9f::42\tICANN\n",
    "m.root-servers.net\t202.12.27.33, 2001:dc3::35\tWIDE Project\n",
    "```"
   ]
  },
  {
   "cell_type": "markdown",
   "id": "0930fd12",
   "metadata": {},
   "source": [
    "然后我们的域名可以设置自己的NameServer(即DNS Server), 也就是指定把该域名的`A` Record存在哪个DNS Server, 当然别忘了把VPS的ip绑定到我们的域名其实就是给域名添加个`A` Record的过程, 具体怎么添加, 你可以在上一篇文章里查看, \n"
   ]
  }
 ],
 "metadata": {
  "kernelspec": {
   "display_name": "Python 3 (ipykernel)",
   "language": "python",
   "name": "python3"
  },
  "language_info": {
   "codemirror_mode": {
    "name": "ipython",
    "version": 3
   },
   "file_extension": ".py",
   "mimetype": "text/x-python",
   "name": "python",
   "nbconvert_exporter": "python",
   "pygments_lexer": "ipython3",
   "version": "3.9.6"
  }
 },
 "nbformat": 4,
 "nbformat_minor": 5
}
