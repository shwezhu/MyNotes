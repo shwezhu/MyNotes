{
 "cells": [
  {
   "cell_type": "markdown",
   "id": "449c6373",
   "metadata": {},
   "source": [
    "```c++\n",
    "#include <iostream>\n",
    "class Foo{\n",
    "    int value;\n",
    "public:\n",
    "    Foo() {this->value = 0;}\n",
    "    // Foo: 返回的不是对象本身而是他的复制体, 因为*this就是对象本身\n",
    "    Foo get_copy() {return *this;}\n",
    "    // Foo&: 返回的是这个对象的引用，不是对象的复制体\n",
    "    Foo& get_copy_as_reference() {return *this;}\n",
    "    // this就是对象的指针，返回指针没啥好说的\n",
    "    Foo* get_pointer() {return this;}\n",
    "    void increment() {this->value++;}\n",
    "    void print_value() const {std::cout << this->value << std::endl;}\n",
    "};\n",
    "\n",
    "int main() {\n",
    "    Foo foo;\n",
    "    foo.increment();\n",
    "    foo.print_value();\n",
    "    foo.get_copy().increment();\n",
    "    foo.print_value();\n",
    "    \n",
    "    foo.get_copy_as_reference().increment();\n",
    "    foo.print_value();\n",
    "\n",
    "    foo.get_pointer()->increment();\n",
    "    foo.print_value();\n",
    "    return 0;\n",
    "}\n",
    "```\n",
    "\n",
    "打印:\n",
    "```c++\n",
    "1\n",
    "1\n",
    "2\n",
    "3\n",
    "```\n",
    "\n",
    "https://stackoverflow.com/a/2750322/16317008"
   ]
  },
  {
   "cell_type": "code",
   "execution_count": null,
   "id": "e9b935c8",
   "metadata": {},
   "outputs": [],
   "source": []
  }
 ],
 "metadata": {
  "kernelspec": {
   "display_name": "Python 3 (ipykernel)",
   "language": "python",
   "name": "python3"
  },
  "language_info": {
   "codemirror_mode": {
    "name": "ipython",
    "version": 3
   },
   "file_extension": ".py",
   "mimetype": "text/x-python",
   "name": "python",
   "nbconvert_exporter": "python",
   "pygments_lexer": "ipython3",
   "version": "3.9.6"
  }
 },
 "nbformat": 4,
 "nbformat_minor": 5
}
