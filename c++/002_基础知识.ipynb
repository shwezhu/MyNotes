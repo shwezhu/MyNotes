{
 "cells": [
  {
   "cell_type": "markdown",
   "id": "571b26e3",
   "metadata": {},
   "source": [
    "# You don’t have to know every detail of C++ to write good programs."
   ]
  },
  {
   "cell_type": "markdown",
   "id": "12c49569",
   "metadata": {},
   "source": [
    "### 1. Types 和 Variables本质\n",
    "\n",
    "```c++\n",
    "int a;\n",
    "```\n",
    "\n",
    "- A type defines a set of possible values and a set of operations (for an object). \n",
    "- An object is some memory that holds a value of some type.\n",
    "- A value is a set of bits interpreted according to a type.\n",
    "- A variable is a named object.\n",
    "\n",
    "----"
   ]
  },
  {
   "cell_type": "markdown",
   "id": "b8a65819",
   "metadata": {},
   "source": [
    "### 2. Initialization\n",
    "\n",
    "```c++\n",
    "double d1 = 2.3; // initialize d1 to 2.3\n",
    "double d2 {2.3}; // initialize d2 to 2.3, 推荐使用这种形式的初始化\n",
    "double d3 = {2.3}; // initialize d3 to 2.3 (the = is optional with { ... })\n",
    "complex<double> z = 1;\n",
    "complex<double> z2 {d1,d2}; \n",
    "complex<double> z3 = {d1,d2};\n",
    "vector<int> v {1,2,3,4,5,6};\n",
    "```\n",
    "\n",
    "The `=` form is traditional and dates back to C, but if in doubt, use `{}`. \n",
    "```c++\n",
    "int i1 = 7.8; // i1 becomes 7 (surprise?)\n",
    "int i2 {7.8}; // error: floating-point to integer conversion\n",
    "```\n",
    "上面这个例子也算是C++ weak/unsafe type的例子了, 这也没办法为了兼容C, 还得保留这语法.\n",
    "\n",
    "> Unfortunately, conversions that lose information, narrowing conversions, such as `double` to `int` and `int` to `char`, are allowed and implicitly applied when you use `=` (but not when you use `{}`). The problems caused by implicit narrowing conversions are **a price paid for C compatibility**.\n",
    "\n",
    "---"
   ]
  },
  {
   "cell_type": "markdown",
   "id": "fe313343",
   "metadata": {},
   "source": [
    "### 3. Initialization and Assignment\n",
    "\n",
    "> An assignment of a built-in type is a simple machine copy operation. On the other hand, the task of initialization is to make an uninitialized piece of memory into a valid object. \n",
    "\n",
    "In general, for an assignment to work correctly, the assigned-to object must have a value. For almost all types, the effect of reading from or writing to an uninitialized variable is **undefined**. \n",
    "\n",
    "---"
   ]
  },
  {
   "cell_type": "markdown",
   "id": "9fd52823",
   "metadata": {},
   "source": [
    "### 4. Separate Compilation\n",
    "\n",
    "C++ supports a notion of separate compilation where user code sees only declarations of the types and functions used. The definitions of those types and functions are in separate source files and are **compiled separately**. Such separation can be used to minimize compilation times and to strictly enforce separation of logically distinct parts of a program (thus minimizing the chance of errors).\n",
    "\n",
    "The code in `user.cpp` and `Vector.cpp` shares the Vector interface information presented in `Vector.h`, but the two files are otherwise independent and can be **separately compiled**. Graphically, the program fragments can be represented like this:\n",
    "\n",
    "> A `.cpp` file that is compiled by itself (including the `.h` files it #includes) is called a **translation unit**. A program can consist of many thousand translation units."
   ]
  },
  {
   "cell_type": "code",
   "execution_count": null,
   "id": "124ff86b",
   "metadata": {},
   "outputs": [],
   "source": []
  }
 ],
 "metadata": {
  "kernelspec": {
   "display_name": "Python 3 (ipykernel)",
   "language": "python",
   "name": "python3"
  },
  "language_info": {
   "codemirror_mode": {
    "name": "ipython",
    "version": 3
   },
   "file_extension": ".py",
   "mimetype": "text/x-python",
   "name": "python",
   "nbconvert_exporter": "python",
   "pygments_lexer": "ipython3",
   "version": "3.9.6"
  }
 },
 "nbformat": 4,
 "nbformat_minor": 5
}
