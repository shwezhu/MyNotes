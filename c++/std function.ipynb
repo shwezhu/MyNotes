{
 "cells": [
  {
   "cell_type": "markdown",
   "id": "833b44ba",
   "metadata": {},
   "source": [
    "# std::function\n",
    "\n",
    "---\n",
    "\n",
    "> A function pointer is the address of an actual function defined in C++. An std::function is a wrapper that can hold any type of callable object (objects that can be used like functions).\n",
    "\n",
    "```c++\n",
    "struct FooFunctor\n",
    "{\n",
    "    void operator()(int i) {\n",
    "        std::cout << i;\n",
    "    }\n",
    "};\n",
    "\n",
    "// Since `FooFunctor` defines `operator()`, it can be used as a function\n",
    "FooFunctor func;\n",
    "std::function<void (int)> f(func);\n",
    "```\n",
    "\n",
    "Here, `std::function` allows you to abstract away exactly what kind of callable object it is you are dealing with — you don't know it's FooFunctor, you just know that it returns void and has one int parameter.\n",
    "\n",
    "Alongside std::function, you will also find `std::bind`. These two are very powerful tools when used together:\n",
    "\n",
    "```c++\n",
    "void func(int a, int b) {\n",
    "    // Do something important\n",
    "}\n",
    "\n",
    "// Consider the case when you want one of the parameters of `func` to be fixed\n",
    "// You can used `std::bind` to set a fixed value for a parameter; `bind` will\n",
    "// return a function-like object that you can place inside of `std::function`.\n",
    "std::function<void (int)> f = std::bind(func, _1, 5); \n",
    "```\n",
    "\n",
    "In that example, the function object returned by bind takes the first parameter, _1, and passes it to func as the a parameter, and sets b to be the constant 5."
   ]
  },
  {
   "cell_type": "markdown",
   "id": "d912f0c9",
   "metadata": {},
   "source": [
    "# operator() overloading\n",
    "---\n",
    "\n",
    "One of the primary goal when overloading operator() is to create a functor. A functor acts just like a function, but it has the advantages that it is stateful, meaning it can keep data reflecting its state between calls.\n",
    "\n",
    "```\n",
    "Struct Accumulator\n",
    "{\n",
    "    int counter = 0;\n",
    "    intoperator()(inti) { returncounter += i; }\n",
    "}\n",
    "\n",
    "Accumulator acc;\n",
    "cout << acc(10) << endl; //prints \"10\"cout << acc(20) << endl; //prints \"30\"\n",
    "```\n",
    "\n",
    "\n",
    "https://stackoverflow.com/questions/317450/why-override-operator![image.png](attachment:image.png)"
   ]
  }
 ],
 "metadata": {
  "kernelspec": {
   "display_name": "Python 3 (ipykernel)",
   "language": "python",
   "name": "python3"
  },
  "language_info": {
   "codemirror_mode": {
    "name": "ipython",
    "version": 3
   },
   "file_extension": ".py",
   "mimetype": "text/x-python",
   "name": "python",
   "nbconvert_exporter": "python",
   "pygments_lexer": "ipython3",
   "version": "3.8.9"
  }
 },
 "nbformat": 4,
 "nbformat_minor": 5
}
