{
 "cells": [
  {
   "cell_type": "markdown",
   "id": "e19b1546",
   "metadata": {},
   "source": [
    "> An atom is a bunch of `positively charged protons` with a bunch of `negatively charged electrons` whizzing around them.\n",
    "\n",
    "- electron: negative charged\n",
    "- proton: positive charged\n",
    "- nucleus: central part of an atom\n",
    "\n",
    "---"
   ]
  },
  {
   "cell_type": "markdown",
   "id": "3b5d0aa8",
   "metadata": {},
   "source": []
  }
 ],
 "metadata": {
  "kernelspec": {
   "display_name": "Python 3 (ipykernel)",
   "language": "python",
   "name": "python3"
  },
  "language_info": {
   "codemirror_mode": {
    "name": "ipython",
    "version": 3
   },
   "file_extension": ".py",
   "mimetype": "text/x-python",
   "name": "python",
   "nbconvert_exporter": "python",
   "pygments_lexer": "ipython3",
   "version": "3.9.6"
  }
 },
 "nbformat": 4,
 "nbformat_minor": 5
}
