{
 "cells": [
  {
   "cell_type": "markdown",
   "id": "2f17109e",
   "metadata": {},
   "source": [
    "**Special Relativity** is the fact that in our universe, length and time aren't absolute. \n",
    "\n",
    "How Special Relativity Makes Magnets Work: https://youtu.be/1TKSfAkWWN0\n",
    "\n",
    "MAGNETS: How Do They Work?: https://youtu.be/hFAOXdXZ5TM\n",
    "\n",
    "How does an Antenna work?: https://youtu.be/ZaXm6wau-jc"
   ]
  },
  {
   "cell_type": "markdown",
   "id": "f37d9dd3",
   "metadata": {},
   "source": [
    "### Where do the magnetic fields come from? \n",
    "\n",
    "> We've known for a long time that `electricity` and `magnetism` are really just two sides of the same coin, kind of like mass and energy or time and space, **they can be transformed into one another**. And in fact, a magnetic field is just what an electric field becomes when an electrically charged object starts moving. \n",
    "\n",
    "MAGNETS: How Do They Work?: https://youtu.be/hFAOXdXZ5TM\n",
    "\n",
    "> An atom is a bunch of `positively charged protons` with a bunch of `negatively charged electrons` whizzing around them. The `proton tiny magnets` are about 1000 times weaker than the `electron ones`, so the `nucleus` of the atom has almost no effect on the magnetism of the atom as a whole.\n",
    "\n",
    "- electron: negative charged\n",
    "- proton: positive charged\n",
    "- nucleus: central part of an atom"
   ]
  },
  {
   "cell_type": "code",
   "execution_count": null,
   "id": "3470a65e",
   "metadata": {},
   "outputs": [],
   "source": []
  }
 ],
 "metadata": {
  "kernelspec": {
   "display_name": "Python 3 (ipykernel)",
   "language": "python",
   "name": "python3"
  },
  "language_info": {
   "codemirror_mode": {
    "name": "ipython",
    "version": 3
   },
   "file_extension": ".py",
   "mimetype": "text/x-python",
   "name": "python",
   "nbconvert_exporter": "python",
   "pygments_lexer": "ipython3",
   "version": "3.9.6"
  }
 },
 "nbformat": 4,
 "nbformat_minor": 5
}
