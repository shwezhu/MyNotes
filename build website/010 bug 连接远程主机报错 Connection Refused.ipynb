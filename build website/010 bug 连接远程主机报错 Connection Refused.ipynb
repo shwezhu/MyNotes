{
 "cells": [
  {
   "cell_type": "markdown",
   "id": "cc10ccd7",
   "metadata": {},
   "source": [
    "```\n",
    "ssh root@144.202.12.32\n",
    "ssh: connect to host 144.202.12.32 port 22: Connection refused\n",
    "```\n",
    "\n",
    "查的什么修改mac设置成允许远程连接, 还有修改`/etc/ssh/ssh_config`里的22端口取消注释, 都没用, \n",
    "\n",
    "解决办法, 直接去服务器卸载ssh,然后再重新安装就好了\n",
    "\n",
    "```\n",
    "sudo yum remove openssh-server\n",
    "\n",
    "sudo yum install openssh-server\n",
    "\n",
    "sudo systemctl start sshd\n",
    "\n",
    "sudo service sshd status\n",
    "```"
   ]
  },
  {
   "cell_type": "code",
   "execution_count": null,
   "id": "6fee0cd2",
   "metadata": {},
   "outputs": [],
   "source": []
  }
 ],
 "metadata": {
  "kernelspec": {
   "display_name": "Python 3 (ipykernel)",
   "language": "python",
   "name": "python3"
  },
  "language_info": {
   "codemirror_mode": {
    "name": "ipython",
    "version": 3
   },
   "file_extension": ".py",
   "mimetype": "text/x-python",
   "name": "python",
   "nbconvert_exporter": "python",
   "pygments_lexer": "ipython3",
   "version": "3.9.6"
  }
 },
 "nbformat": 4,
 "nbformat_minor": 5
}
