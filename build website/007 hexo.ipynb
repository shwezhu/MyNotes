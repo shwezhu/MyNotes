{
 "cells": [
  {
   "cell_type": "markdown",
   "id": "d7eecdcb",
   "metadata": {},
   "source": [
    "Installing Hexo is quite easy and only requires the following beforehand:\n",
    "\n",
    "- Node.js (Should be at least Node.js 10.13, recommends 12.0 or higher)\n",
    "- Git\n",
    "\n",
    "## 1. Install Node.js\n",
    "----\n",
    "\n",
    "### 1.1. Install nvm\n",
    "\n",
    "```zsh\n",
    "wget -qO- https://raw.githubusercontent.com/nvm-sh/nvm/v0.39.3/install.sh | bash\n",
    "\n",
    "source ~/.bashrc\n",
    "\n",
    "source ~/.zshrc\n",
    "```\n",
    "\n",
    "`bash` is an sh-compatible command language interpreter that executes commands read from the standard input or from a file.\n",
    "\n",
    "We strongly recommend using a Node version manager like nvm to install `Node.js` and `npm`. We do not recommend using a Node installer, since the Node installation process installs npm in a directory with local permissions and can cause permissions errors when you run npm packages globally.\n",
    "\n",
    "### 1.2. Install node\n",
    "\n",
    "```\n",
    "nvm install node # \"node\" is an alias for the latest version\n",
    "\n",
    "# uninstall, 19.8.1是node的版本\n",
    "nvm uninstall 19.8.1\n",
    "\n",
    "# 尽量使用16.0.0版本的, 不然会出现问题: node: /lib64/libm.so.6: version `GLIBC_2.27' not found (required by node)\n",
    "nvm install 16.0.0\n",
    "```\n",
    "\n",
    "- [install nvm](https://github.com/nvm-sh/nvm)\n",
    "- [Downloading and installing Node.js and npm](https://docs.npmjs.com/downloading-and-installing-node-js-and-npm)"
   ]
  },
  {
   "cell_type": "markdown",
   "id": "a7f15b0a",
   "metadata": {},
   "source": [
    "## 2. Install hexo\n",
    "----\n",
    "\n",
    "```\n",
    "npm install -g hexo-cli\n",
    "```\n",
    "\n",
    "Once installed, you can run Hexo in two ways:\n",
    "\n",
    "1. npx hexo <command>\n",
    "\n",
    "\n",
    "2. Linux users can set relative path of node_modules/ folder:\n",
    "```\n",
    "echo 'PATH=\"$PATH:./node_modules/.bin\"' >> ~/.profile\n",
    "```\n",
    "\n",
    "then run Hexo using, `hexo <command>`\n",
    "\n",
    "- [Documentation | Hexo](https://hexo.io/docs/#What-is-Hexo)"
   ]
  },
  {
   "cell_type": "code",
   "execution_count": null,
   "id": "6912363b",
   "metadata": {},
   "outputs": [],
   "source": []
  }
 ],
 "metadata": {
  "kernelspec": {
   "display_name": "Python 3 (ipykernel)",
   "language": "python",
   "name": "python3"
  },
  "language_info": {
   "codemirror_mode": {
    "name": "ipython",
    "version": 3
   },
   "file_extension": ".py",
   "mimetype": "text/x-python",
   "name": "python",
   "nbconvert_exporter": "python",
   "pygments_lexer": "ipython3",
   "version": "3.9.6"
  }
 },
 "nbformat": 4,
 "nbformat_minor": 5
}
