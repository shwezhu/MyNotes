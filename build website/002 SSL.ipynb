{
 "cells": [
  {
   "cell_type": "markdown",
   "id": "168574a9",
   "metadata": {},
   "source": [
    "# What does an SSL certificate do?\n",
    "----\n",
    "\n",
    "An **SSL** certificate (more accurately called a **TLS** certificate), is necessary for a website to have **HTTPS encryption**.\n",
    "\n",
    "HTTPS creates an encrypted connection between a user's browser and the web server they are communicating with, protecting the communications from being intercepted. **SSL certificates** are necessary for establishing this encrypted connection. \n",
    "\n",
    "An **SSL certificate** contains the website's **public key**, the domain name it's issued for, the issuing certificate authority's digital signature, and other important information. It's used for authenticating an origin server's identity, which helps prevent on-path attacks, domain spoofing, and other methods attackers use to impersonate a website and trick users.\n"
   ]
  },
  {
   "cell_type": "markdown",
   "id": "1d2da321",
   "metadata": {},
   "source": [
    "# How does a website obtain an SSL certificate?\n",
    "----\n",
    "\n",
    "For an SSL certificate to be valid, domains need to obtain it from a **certificate authority** (CA). A CA is an outside organization, a trusted third party, that generates and gives out SSL certificates. The CA will also digitally sign the certificate with their own private key, allowing client devices to verify it. Most, but not all, CAs will charge a fee for issuing an SSL certificate.\n",
    "\n",
    "Once the certificate is issued, it needs to be installed and activated on the website's origin server. Web hosting services can usually handle this for website operators. Once it's activated on the origin server, the website will be able to load over HTTPS and all traffic to and from the website will be encrypted and secure."
   ]
  },
  {
   "cell_type": "code",
   "execution_count": null,
   "id": "8b26ef15",
   "metadata": {},
   "outputs": [],
   "source": []
  }
 ],
 "metadata": {
  "kernelspec": {
   "display_name": "Python 3 (ipykernel)",
   "language": "python",
   "name": "python3"
  },
  "language_info": {
   "codemirror_mode": {
    "name": "ipython",
    "version": 3
   },
   "file_extension": ".py",
   "mimetype": "text/x-python",
   "name": "python",
   "nbconvert_exporter": "python",
   "pygments_lexer": "ipython3",
   "version": "3.9.6"
  }
 },
 "nbformat": 4,
 "nbformat_minor": 5
}
