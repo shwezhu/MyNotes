{
 "cells": [
  {
   "cell_type": "markdown",
   "id": "199c426b",
   "metadata": {},
   "source": [
    "So, you’ve decided to start a site – after buying a domain name you need to find a **hosting provider** that can supply you with server space. There are many types of **hosting services** available, made to support different types of sites, so it can get overwhelming. No need to worry, because we’ll talk about the two most popular types of web hosting to suit your needs — **shared hosting** vs **VPS service**. \n",
    "\n",
    "## 1. Shared Hosting\n",
    "---\n",
    "\n",
    "In **shared hosting**, your site will share the same resources, such as `CPU`, `disk space`, and `memory` with other users who are on the same shared hosting server. Therefore, unfortunately, your site might have limited bandwidth and will get slow when there’s a lot of traffic crowding websites on the same server as you are. But **shared hosting** is the cheapest website hosting option of all. \n",
    "\n",
    "With **shared hosting**, your site might be affected when there’s an error on another site. Also, if other sites eat up too much of the shared bandwidth, your website might get slowed down. This is especially crucial if your site hits high traffic numbers.\n",
    "\n",
    "举一个你容易明白的例子就是你电脑D盘安装的软件文件夹，每一个软件的文件夹对应一个网站，所有的网站都在你D盘。共享型虚拟主机会共同使用服务器的资源，例如CPU、硬盘、内存还有宽带。\n",
    "\n",
    "共享型虚拟主机的优势是价格便宜，劣势是性能差（一般都是成百上千个网站在一台服务器上），安全性差（就像你装的某个软件带有病毒，整个电脑都会中毒。和你一个服务器的某一个网站中毒后，你的网站也有可能被感染。）\n",
    "\n",
    "独享虚拟主机(DEDICATED WEB HOSTING)不要被独享二字欺骗了，实际上和共享虚拟主机区别不大，只不过给你分配了一个独立的IP（相当于给你创建了一个快捷方式，共享型虚拟主机是共享一个IP，你找软件，必须打开D盘，然后打开软件文件夹），共享IP和独享IP性能上没什么区别，只不过独享IP对网站SEO有好处。然后正常的商家对独享虚拟主机的服务器数量会控制的少一点，然后性能就会相对共享虚拟主机好一点。\n",
    "\n",
    "- [Shared Hosting vs VPS: Which One Should You Choose?](https://www.hostinger.com/tutorials/shared-hosting-vs-vps-hosting)\n",
    "\n",
    "- [#建站#新手问题 虚拟主机和VPS的区别 – 奶爸建站笔记](https://blog.naibabiji.com/tutorial/xu-ni-zhu-ji-he-vps-de-qu-bie.html)"
   ]
  },
  {
   "cell_type": "markdown",
   "id": "66900c59",
   "metadata": {},
   "source": [
    "## 2. VPS\n",
    "---\n",
    "\n",
    "VPS是最近几年比较流行的建站空间，如果你在电脑上使用过虚拟机，那么就很容易明白它和虚拟主机的区别，虚拟主机是电脑上一个一个单独的文件夹，而VPS是独立出来的一块空间，虽然同一台服务器上也会有很多VPS，但是你不会因为别人的VPS中毒而中毒。\n",
    "\n",
    "同时VPS的CPU、硬盘、内存这些资源都是你一个人独享的（带宽有些是共享），简单来说就是VPS性能更好、可定制性更高，但是上手门槛比虚拟主机高。\n",
    "\n",
    "国内阿里云的云服务器ECS和腾讯云的云服务器 CVM实际上也是VPS。"
   ]
  },
  {
   "cell_type": "code",
   "execution_count": null,
   "id": "1c597a2e",
   "metadata": {},
   "outputs": [],
   "source": []
  }
 ],
 "metadata": {
  "kernelspec": {
   "display_name": "Python 3 (ipykernel)",
   "language": "python",
   "name": "python3"
  },
  "language_info": {
   "codemirror_mode": {
    "name": "ipython",
    "version": 3
   },
   "file_extension": ".py",
   "mimetype": "text/x-python",
   "name": "python",
   "nbconvert_exporter": "python",
   "pygments_lexer": "ipython3",
   "version": "3.9.6"
  }
 },
 "nbformat": 4,
 "nbformat_minor": 5
}
