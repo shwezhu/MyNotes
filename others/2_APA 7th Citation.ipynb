{
 "cells": [
  {
   "cell_type": "markdown",
   "id": "181ef1a1",
   "metadata": {},
   "source": [
    "# APA 7th Citation\n",
    "\n",
    "---\n",
    "\n",
    "## In-text Citation\n",
    "\n",
    "- **Parenthetical Citation**\n",
    "\n",
    "Format: `(lastname, year, p/pp. number)`, **总结一条规则, 所有标点符号后都要跟空格**\n",
    "\n",
    "\n",
    "For quotations that are on one page, type \"p.\" before the page number. For quotations that start on one page and end on another page, use \"pp.\" instead.\n",
    "\n",
    "> Quote, one page: \"Sometimes I feel quite CERTAIN there's a JERTAIN in the CURTAIN\" (Seuss, 1974, p. 4).\n",
    "\n",
    "> Quote, two pages:  \"The quick brown fox jumped over the lazy dog\" (Seuss, 2007, pp. 7-8).\n",
    "\n",
    "如果你的文章里引用的两个文章的作者的lastname相同, 在lastname前加上firstname的首字母和点, 如下:\n",
    "\n",
    "> \"The quick brown fox jumped over the lazy dog\" (D. Seuss, 2007, pp. 7-8).\n",
    "\n",
    "> (A. Smith, 2020; B. Smith, 2019)\n",
    "\n",
    "> Alexandra Smith (2020) and Brian Smith (2019) provided ...\n",
    "\n",
    "- **Narrative Citation**\n",
    "\n",
    "Format: `Lastname (year)` 在句尾加上页数(如果有).\n",
    "\n",
    "> Instead, **Grady (2019) suggest** that \"when children are read storybooks that represent characters from ethnic or racial groups other than their own, [they] may receive a wider array of emotion learning opportunities than when they are read storybooks with characters that represent only their own race or ethnicity\" (p. 215).---\n",
    "\n",
    "---\n",
    "\n",
    "两个作者:\n",
    "\n",
    "> Instead, **Walker and Allen (2004) suggest** that \"when children are read storybooks that represent characters from ethnic or racial groups other than their own, [they] may receive a wider array of emotion learning opportunities than when they are read storybooks with characters that represent only their own race or ethnicity\" (p. 215).\n",
    "\n",
    "> One study found that ethnicities of protagonists in children's fiction correlated with differences in types of emotions displayed by those characters (Walker & Allen, 2004).\n",
    "\n",
    "超过两个作者:\n",
    "\n",
    "> Instead, **Grady et al. (2019) suggest** that \"when children are read storybooks that represent characters from ethnic or racial groups other than their own, [they] may receive a wider array of emotion learning opportunities than when they are read storybooks with characters that represent only their own race or ethnicity\" (p. 215).\n",
    "\n",
    "> One study found that ethnicities of protagonists in children's fiction correlated with differences in types of emotions displayed by those characters (Grady et al., 2019).\n",
    "\n",
    "如果没有作者信息, 就写文章的title:\n",
    "\n",
    "> (\"Understanding the Sensory Memory,\" 2018)      \n",
    "(Anonymous, 2020)\n",
    "\n",
    "关于页数:\n",
    "\n",
    "> (Smith, 2020, p. 10)      \n",
    "(Smith, 2020, pp. 10–12)       \n",
    "(Smith, 2020, paras. 2–3)     \n",
    "(Smith, 2020, Table 1)    \n",
    "(Smith, 2020, Chapter 3)     \n",
    "(Smith, 2020, Part 2)    \n",
    "\n",
    "\n",
    "\n",
    "\n",
    "Credit:\n",
    "\n",
    "https://libguides.sjfc.edu/citations/apa/intext\n",
    "\n",
    "https://aut.ac.nz.libguides.com/APA7th/in-text"
   ]
  },
  {
   "cell_type": "markdown",
   "id": "e11d7054",
   "metadata": {},
   "source": [
    "## Reference Citation\n"
   ]
  },
  {
   "cell_type": "code",
   "execution_count": null,
   "id": "da3f33f0",
   "metadata": {},
   "outputs": [],
   "source": []
  }
 ],
 "metadata": {
  "kernelspec": {
   "display_name": "Python 3 (ipykernel)",
   "language": "python",
   "name": "python3"
  },
  "language_info": {
   "codemirror_mode": {
    "name": "ipython",
    "version": 3
   },
   "file_extension": ".py",
   "mimetype": "text/x-python",
   "name": "python",
   "nbconvert_exporter": "python",
   "pygments_lexer": "ipython3",
   "version": "3.9.6"
  }
 },
 "nbformat": 4,
 "nbformat_minor": 5
}
