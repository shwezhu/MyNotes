{
 "cells": [
  {
   "cell_type": "markdown",
   "id": "8955aea6",
   "metadata": {},
   "source": [
    "### 1. Clash全局代理原理\n",
    "---\n",
    "Clash的全局代理：意思是代表作为翻墙软件本身所接管的这个所有的流量我全部转发到代理服务器。但是有些软件不遵循操作系统的代理规则，根本就不把通信流量交给翻墙软件接管(所以有些软件需要手动设置https proxy后才能翻墙`https://171.0.0.1:7890`)，所以打开全局代理也没用。比较有代表性是一系列的UWP应用、就是你在win商店下载的这些软件这都是UWP应用。还有应用程序商店本身。还包括比如说还有很多的游戏流量的通信协议是 TCP/UDP, 很多翻墙软件也不接管这类流量，所以也就无法加速。但大部分遵循系统代理的应用比如在浏览器看网页看YouTube，这些都可以代理。\n",
    "\n",
    "真正意义上的全局代理：\n",
    "有些翻墙软件比较厉害，能在硬件上模拟出一个虚拟网卡，从而接管所有出口流量，另一种方法路由器翻墙(把翻墙软件装在路由器上)。"
   ]
  },
  {
   "cell_type": "markdown",
   "id": "d1a4c177",
   "metadata": {},
   "source": [
    "### 2. 混杂模式\n",
    "---\n",
    "混杂模式（promiscuous mode）是电脑网络中的术语。是指一台机器的网卡能够接收所有经过它的数据流，而不论其目的地址是否是它。\n",
    "\n",
    "在Windows操作系统和Linux操作系统中都有使用混杂模式的抓包工具，比如著名的开源软件Wireshark。同时这个模式也被网络黑客利用来作为网络数据窃听的入口。"
   ]
  },
  {
   "cell_type": "markdown",
   "id": "4be3a18a",
   "metadata": {},
   "source": []
  }
 ],
 "metadata": {
  "kernelspec": {
   "display_name": "Python 3 (ipykernel)",
   "language": "python",
   "name": "python3"
  },
  "language_info": {
   "codemirror_mode": {
    "name": "ipython",
    "version": 3
   },
   "file_extension": ".py",
   "mimetype": "text/x-python",
   "name": "python",
   "nbconvert_exporter": "python",
   "pygments_lexer": "ipython3",
   "version": "3.10.1"
  }
 },
 "nbformat": 4,
 "nbformat_minor": 5
}
