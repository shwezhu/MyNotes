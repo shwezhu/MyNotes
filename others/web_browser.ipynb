{
 "cells": [
  {
   "cell_type": "markdown",
   "metadata": {},
   "source": [
    "# .\n",
    "---\n",
    "\n",
    "\n",
    "\n",
    "## RFC\n",
    "---\n",
    "In the computer network engineering and design realm, a Request for Comments (RFC) is a `memorandum` published by the Internet Engineering Task Force (IETF) describing methods, behaviors, research, or innovations applicable to the working of the Internet, along with Internet-connected systems.\n",
    "\n",
    "Through the organization known as the Internet Society, designers, engineers, and computer scientists can publish papers or discourses in the form of an RFC, either for `peer review` or simply to share new concepts, information, or (occasionally) engineering humor. Peer review is an important process of `subjecting` your work, research, or personal ideas to the scrutiny of others who are usually considered to be experts in the same field. The **IETF** will then **adopt** some of the **proposals** published as RFCs **as “Internet Standards.”**        \n",
    "\n",
    "#### history\n",
    "The beginning of the RFC format and process occurred in `1969` as part of the original `ARPANET project`, which was a `wide-area experimental network` connecting hosts and terminal servers together. Procedures were set up to regulate the allocation of addresses, and to create voluntary standards for the network. The authors of the first RFCs actually used typewriters to create their work and passed hard copies among the ARPA researchers.\n",
    "\n",
    "Unlike the modern RFCs, many of the `early RFCs` were `actual` requests for comments. The RFC left questions open and was written in a less formal style. This less formal style is now typical of Internet Draft documents, the `precursor step` before being `approved` as an RFC.\n",
    "\n",
    "The RFCs turned out to provide a convenient, useful vehicle for documentation and distribution of the research performed by the developers of the Internet, and `ended up` becoming the `official record` of the `Internet's design decisions`, architecture, and `technical standards`. Although they remained named \"Request For Comments,” `by consensus` they are the Internet documents of record, and often include very detailed technical information.\n",
    "\n",
    "Now, working groups of the **IETF  do  most of the work** on **standardization** of Internet protocols **as they go through proposed standard**, draft standard, and actual standard phases. \n"
   ]
  },
  {
   "cell_type": "markdown",
   "metadata": {},
   "source": [
    "## World Wide Web\n",
    "---\n",
    "\n",
    "The **World Wide Web (WWW)**, commonly known as the Web, **is** an **information system** where documents and other web resources are identified by Uniform Resource Locators (URLs, such as https://example.com/), which may be interlinked by hyperlinks, and are accessible over the Internet.\n",
    "\n",
    "The **resources of the Web** are transferred via the Hypertext Transfer Protocol (`HTTP`), may be **accessed by** users by a software application called a **web browser**, and are **published by** a software application called a **web server**. \n",
    "\n",
    "A `web resource` is any identifiable resource (digital, physical, or abstract) present on or connected to the World Wide Web. Resources are identified using Uniform Resource Identifiers.\n",
    "\n"
   ]
  },
  {
   "cell_type": "markdown",
   "metadata": {},
   "source": [
    "## World Wide Web Consortium\n",
    "---\n",
    "The World Wide Web Consortium (**W3C) is** the main international standards **organization** for the World Wide Web.\n",
    "\n",
    "The organization tries to foster compatibility and agreement among industry members in the adoption of new standards defined by the W3C. Incompatible versions of HTML are offered by different vendors, causing inconsistency in how web pages are displayed. The **consortium** tries to **get** all those **vendors** to **implement** a set of core principles and **components** that are **chosen by the consortium**.\n",
    "\n",
    "#### IE History\n",
    "IE caused web developers a lot of pain, however, because many bugs applied exclusively to IE and because it sometimes lagged behind in implementing `new features after the W3C standardized them`."
   ]
  },
  {
   "cell_type": "markdown",
   "metadata": {},
   "source": [
    "## The Sorry(遗憾的) Legacy of Internet Explorer\n",
    "---\n",
    "\n",
    "INTERNET EXPLORER SOON will be a thing of the past. Microsoft will stop supporting Internet Explorer on most operating systems, its **biggest step yet toward phasing out** one of the most **contentious** pieces of software ever written. \n",
    "\n",
    "Microsoft has been distancing itself from the Internet Explorer brand since March. \n",
    "\n",
    "It will not create new security patches for the older versions, leaving anyone who doesn't upgrade vulnerable to new hacks or attacks. 它不会为旧版本创建新的安全补丁，让任何不升级的人都容易受到新的黑客攻击或攻击。\n",
    "\n",
    "That could be a huge hassle for organizations that use custom-built(定制) applications that run correctly only on older browsers. But it could be a **boon** to web developers and designers still trying to find ways to make websites work good on older browsers.  \n",
    "\n",
    "Newer web browser still have their **quirks**, and sites might look different from one browser to the next. But these differences are small compared to how Internet Explorer **mangled** web pages in the late 1990s and early 2000s.\n",
    "\n",
    "By insisting on following its own path with IE rather than follow generally accepted standards, Microsoft **dictated(主宰)** web design by years. Keeping too many old browsers in circulation contributed to that mess. Thankfully, the time has come to move on. 保持太多旧浏览器的流通导致了这种混乱。\n",
    "\n"
   ]
  },
  {
   "cell_type": "markdown",
   "metadata": {},
   "source": [
    "### The Bad Old Days\n",
    "\n",
    "Because Internet Explorer didn't stick to the guidelines established by World Wide Web Consortium the organization that establishes standards for web technologies, it often would display web pages in ways that made them look entirely different from other browsers, such as Netscape, Opera or, later, Firefox. \n",
    "\n",
    "Desperate designers **cobbled together(拼凑)** ways of making sites work across multiple browsers, but a complex layout sometimes required numerous **workarounds**. And Internet Explorer 6 **was notorious for** **security vulnerabilities(安全漏洞)** that Microsoft was sometimes slow to **patch**. Internet Explorer 6 因安全漏洞而臭名昭著，Microsoft 有时修补这些漏洞的速度很慢。\n",
    "\n",
    "But if it was so bad, why was it so widely used? Most people blame Microsoft's practice of **pre-installing** Internet Explorer with Windows starting in 1997, which **contributed** to a **lengthy** `antitrust suit`. 这导致了漫长的反垄断诉讼。\n",
    "\n",
    "Since many users didn't know other browsers existed and `PC vendors(PC供应商)` had **bulk licensing agreements** that prevented them from selling computers with alternates pre-installed, Microsoft effectively **muscled out** the competition. 微软有效地在竞争中脱颖而出。\n",
    "\n"
   ]
  },
  {
   "cell_type": "markdown",
   "metadata": {},
   "source": [
    "But that's not the whole story. Microsoft still bundles Internet Explorer with Windows, yet by most measures it has fallen behind Google Chrome as the world's most widely used browser. \n",
    "\n",
    "Not until Internet Explorer 8 landed in 2009 did Microsoft offer a browser that passed standards test Acid2, a widely used measure of how well browsers complied with the standards of the day, and the company lagged in adopting other standards, such as the 3D graphics technology WebGL. By the time Microsoft caught up to the rest of the browser market, the damage to Internet Explorer's reputation had already been done.\n",
    "\n",
    "With most of the old versions of Internet Explorer dead and buried, Microsoft hopes it can finally move beyond the sorry legacy of its early versions. Edge is a fresh start, with a new name, a new code base and a new boss. Microsoft can't undo the the damage it did, but it can end the madness."
   ]
  },
  {
   "cell_type": "markdown",
   "metadata": {},
   "source": [
    "## Internet Explorer History\n",
    "---\n",
    "\n",
    "At its peak in 2004, Microsoft’s Internet Explorer (IE) accounted for an estimated 95 percent of the browser market. As Firefox and Chrome grew more popular, it became increasingly important for web developers to build websites with cross-browser compatibility in mind.\n",
    "\n",
    "IE caused web developers a lot of pain, however, because many bugs applied exclusively to IE and because it sometimes lagged behind in implementing new features after the W3C standardized them.\n",
    "\n",
    "IE was so popular that it maintained a persistent `market share` even after Microsoft themselves moved on from it with `Edge`. Microsoft services will drop support in 2021, and Windows will start to automatically launch certain websites in Edge when users try to open them in IE. They are `aggressively` pushing to get people off of IE.\n",
    "\n",
    "While IE is very close to becoming a `relic` of internet history, some people have claimed that `Safari` is the new IE. \n",
    "\n"
   ]
  },
  {
   "cell_type": "markdown",
   "metadata": {},
   "source": [
    "Being the next IE `implies` having a market share that is large enough for many developers to worry about. On `desktop`, Chrome is the clear leader, with about 68 percent of the market. Safari is second with about 10 percent. That’s a fairly large population on its own, but the bigger reason developers have to pay attention to Safari is because of its mobile version on iOS and iPadOS.\n",
    "\n",
    "The vast majority of iPhone users use Safari. But it’s also important to know that Safari’s engine, `WebKit`, is the only browser engine allowed on iOS. Even Chrome and Firefox for iOS have to use WebKit `under the hood` to `comply with` Apple’s App Store review guidelines:\n",
    "\n",
    "> Apps that browse the web must use the appropriate WebKit framework and WebKit Javascript.\n",
    "\n",
    "So any web developer who cares about iPhone and iPad users absolutely has to care about Safari.\n",
    "\n",
    "Nevertheless, the overall situation is much better than the past one with IE. Safari is still only about 19 percent of the total browser market. That’s nowhere near IE’s former level of monopoly-like dominance. 这远不及 IE 以前的垄断般的支配地位。\n",
    "\n",
    "Unless a website has a `disproportionately large` iOS and iPadOS user base, any issues with Safari are unlikely to be as severe in impact as issues that were unique to IE in its heyday.\n",
    "\n",
    "“This bug affects 95 percent of our users” is simply not as alarming as “this bug affects 19 percent of our users.” “这个错误影响了我们 95% 的用户”并不像“这个错误影响我们 19% 的用户”那么令人担忧。\n",
    "\n",
    "Apple may not always adopt W3C standards, but the impact should not be as severe as when IE was slow to do so for more critical standards.\n",
    "\n",
    "Mozilla’s 2020 MDN Browser Compatibility Report gives us `some insight` into the community’s opinions. For the survey question of “What browsers/platforms cause the most issues?”, mobile Safari and desktop Safari `come right after` IE.\n",
    "\n",
    "We also have reason to believe that Safari tends to `be buggier` than other modern browsers because of Bootstrap’s wall of browser bugs. Safari has the most listed issues, and this is probably a good estimation of the `overall situation` since Bootstrap has so many generally useful components.\n",
    "\n"
   ]
  },
  {
   "cell_type": "markdown",
   "metadata": {},
   "source": [
    "**Relatively speaking, Safari does cause more pain than other modern browsers. But as long as there is competition, there will always be one browser that tends to be worse for development than others. The gap between Safari and the other browsers is not nearly as bad as it was for IE, and the gap is so much smaller that I don’t think it’s fair to call Safari the next IE at this point.**\n"
   ]
  },
  {
   "cell_type": "markdown",
   "metadata": {},
   "source": [
    "## Conclusion\n",
    "---\n",
    "\n",
    "On the surface, the situation with Safari seems similar to our old situation with IE, but there are crucial differences that make it hard to `justify` referring to Safari as the next IE. Even if Safari is slower than the other browsers at fixing bugs and implementing features, at least we can expect those changes to make it to end users much faster than they did for IE users.\n",
    "\n",
    "The pain of dealing with Safari-specific issues is not in the same `realm` as what web developers had to deal with in supporting IE users. There will inevitably be some degree of difficulty in maintaining `cross-browser compatibility`, but the challenge is much easier now, especially because resources like `Can I use` and `MDN` make incompatibilities easy to know about ahead of time.\n",
    "\n",
    "Luckily for us, no browser is truly taking up IE’s mantle. I don’t blame any developers who complain about Safari, but there’s a `categorical difference` in developing for Safari now versus developing for IE in the past. 但是现在为 Safari 开发与过去为 IE 开发存在绝对差异。I, `for one 一方面`, am thankful for that. "
   ]
  },
  {
   "cell_type": "markdown",
   "metadata": {},
   "source": [
    "\n"
   ]
  }
 ],
 "metadata": {
  "kernelspec": {
   "display_name": "Python 3",
   "language": "python",
   "name": "python3"
  },
  "language_info": {
   "codemirror_mode": {
    "name": "ipython",
    "version": 3
   },
   "file_extension": ".py",
   "mimetype": "text/x-python",
   "name": "python",
   "nbconvert_exporter": "python",
   "pygments_lexer": "ipython3",
   "version": "3.8.10"
  }
 },
 "nbformat": 4,
 "nbformat_minor": 4
}
