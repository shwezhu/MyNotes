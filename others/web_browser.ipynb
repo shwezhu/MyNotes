{
 "cells": [
  {
   "cell_type": "markdown",
   "metadata": {},
   "source": [
    "# .\n",
    "---\n",
    "\n",
    "\n",
    "\n",
    "## RFC\n",
    "---\n",
    "In the computer network engineering and design realm, a Request for Comments (RFC) is a `memorandum` published by the Internet Engineering Task Force (IETF) describing methods, behaviors, research, or innovations applicable to the working of the Internet, along with Internet-connected systems.\n",
    "\n",
    "Through the organization known as the Internet Society, designers, engineers, and computer scientists can publish papers or discourses in the form of an RFC, either for `peer review` or simply to share new concepts, information, or (occasionally) engineering humor. Peer review is an important process of `subjecting` your work, research, or personal ideas to the scrutiny of others who are usually considered to be experts in the same field. The **IETF** will then **adopt** some of the **proposals** published as RFCs **as “Internet Standards.”**        \n",
    "\n",
    "#### history\n",
    "The beginning of the RFC format and process occurred in `1969` as part of the original `ARPANET project`, which was a `wide-area experimental network` connecting hosts and terminal servers together. Procedures were set up to regulate the allocation of addresses, and to create voluntary standards for the network. The authors of the first RFCs actually used typewriters to create their work and passed hard copies among the ARPA researchers.\n",
    "\n",
    "Unlike the modern RFCs, many of the `early RFCs` were `actual` requests for comments. The RFC left questions open and was written in a less formal style. This less formal style is now typical of Internet Draft documents, the `precursor step` before being `approved` as an RFC.\n",
    "\n",
    "The RFCs turned out to provide a convenient, useful vehicle for documentation and distribution of the research performed by the developers of the Internet, and `ended up` becoming the `official record` of the `Internet's design decisions`, architecture, and `technical standards`. Although they remained named \"Request For Comments,” `by consensus` they are the Internet documents of record, and often include very detailed technical information.\n",
    "\n",
    "Now, working groups of the **IETF  do  most of the work** on **standardization** of Internet protocols **as they go through proposed standard**, draft standard, and actual standard phases. \n"
   ]
  },
  {
   "cell_type": "markdown",
   "metadata": {},
   "source": [
    "## World Wide Web\n",
    "---\n",
    "\n",
    "The **World Wide Web (WWW)**, commonly known as the Web, **is** an **information system** where documents and other web resources are identified by Uniform Resource Locators (URLs, such as https://example.com/), which may be interlinked by hyperlinks, and are accessible over the Internet.\n",
    "\n",
    "The **resources of the Web** are transferred via the Hypertext Transfer Protocol (`HTTP`), may be **accessed by** users by a software application called a **web browser**, and are **published by** a software application called a **web server**. \n",
    "\n",
    "A `web resource` is any identifiable resource (digital, physical, or abstract) present on or connected to the World Wide Web. Resources are identified using Uniform Resource Identifiers.\n",
    "\n"
   ]
  },
  {
   "cell_type": "markdown",
   "metadata": {},
   "source": [
    "### World Wide Web Consortium\n",
    "---\n",
    "\n",
    "The World Wide Web Consortium (**W3C) is** the main international standards **organization** for the World Wide Web.\n",
    "\n",
    "The organization tries to foster compatibility and agreement among industry members in the adoption of new standards defined by the W3C. Incompatible versions of HTML are offered by different vendors, causing inconsistency in how web pages are displayed. The **consortium** tries to **get** all those **vendors** to **implement** a set of core principles and **components** that are **chosen by the consortium**.\n",
    "\n",
    "#### IE History\n",
    "IE caused web developers a lot of pain, however, because many bugs applied exclusively to IE and because it sometimes lagged behind in implementing `new features after the W3C standardized them`."
   ]
  },
  {
   "cell_type": "markdown",
   "metadata": {},
   "source": [
    "## Internet Explorer History\n",
    "---\n",
    "\n",
    "At its peak in 2004, Microsoft’s Internet Explorer (IE) accounted for an estimated 95 percent of the browser market. As Firefox and Chrome grew more popular, it became increasingly important for web developers to build websites with cross-browser compatibility in mind.\n",
    "\n",
    "IE caused web developers a lot of pain, however, because many bugs applied exclusively to IE and because it sometimes lagged behind in implementing new features after the W3C standardized them.\n",
    "\n",
    "IE was so popular that it maintained a persistent `market share` even after Microsoft themselves moved on from it with `Edge`. Microsoft services will drop support in 2021, and Windows will start to automatically launch certain websites in Edge when users try to open them in IE. They are `aggressively` pushing to get people off of IE.\n",
    "\n",
    "While IE is very close to becoming a `relic` of internet history, some people have claimed that `Safari` is the new IE. \n",
    "\n"
   ]
  }
 ],
 "metadata": {
  "kernelspec": {
   "display_name": "Python 3",
   "language": "python",
   "name": "python3"
  },
  "language_info": {
   "codemirror_mode": {
    "name": "ipython",
    "version": 3
   },
   "file_extension": ".py",
   "mimetype": "text/x-python",
   "name": "python",
   "nbconvert_exporter": "python",
   "pygments_lexer": "ipython3",
   "version": "3.8.10"
  }
 },
 "nbformat": 4,
 "nbformat_minor": 4
}
