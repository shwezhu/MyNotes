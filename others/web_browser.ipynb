{
 "cells": [
  {
   "cell_type": "markdown",
   "metadata": {},
   "source": [
    "# .\n",
    "---\n",
    "\n",
    "\n",
    "\n",
    "## RFC\n",
    "---\n",
    "In the computer network engineering and design realm, a Request for Comments (RFC) is a `memorandum` published by the Internet Engineering Task Force (IETF) describing methods, behaviors, research, or innovations applicable to the working of the Internet, along with Internet-connected systems.\n",
    "\n",
    "Through the organization known as the Internet Society, designers, engineers, and computer scientists can publish papers or discourses in the form of an RFC, either for `peer review` or simply to share new concepts, information, or (occasionally) engineering humor. Peer review is an important process of `subjecting` your work, research, or personal ideas to the scrutiny of others who are usually considered to be experts in the same field. The **IETF** will then **adopt** some of the **proposals** published as RFCs **as “Internet Standards.”**        \n",
    "\n",
    "#### history\n",
    "The beginning of the RFC format and process occurred in `1969` as part of the original `ARPANET project`, which was a `wide-area experimental network` connecting hosts and terminal servers together. Procedures were set up to regulate the allocation of addresses, and to create voluntary standards for the network. The authors of the first RFCs actually used typewriters to create their work and passed hard copies among the ARPA researchers.\n",
    "\n",
    "Unlike the modern RFCs, many of the `early RFCs` were `actual` requests for comments. The RFC left questions open and was written in a less formal style. This less formal style is now typical of Internet Draft documents, the `precursor step` before being `approved` as an RFC.\n",
    "\n",
    "The RFCs turned out to provide a convenient, useful vehicle for documentation and distribution of the research performed by the developers of the Internet, and `ended up` becoming the `official record` of the `Internet's design decisions`, architecture, and `technical standards`. Although they remained named \"Request For Comments,” `by consensus` they are the Internet documents of record, and often include very detailed technical information.\n",
    "\n",
    "Now, working groups of the **IETF  do  most of the work** on **standardization** of Internet protocols **as they go through proposed standard**, draft standard, and actual standard phases. \n"
   ]
  },
  {
   "cell_type": "markdown",
   "metadata": {},
   "source": [
    "## World Wide Web\n",
    "---\n",
    "\n",
    "The **World Wide Web (WWW)**, commonly known as the Web, **is** an **information system** where documents and other web resources are identified by Uniform Resource Locators (URLs, such as https://example.com/), which may be interlinked by hyperlinks, and are accessible over the Internet.\n",
    "\n",
    "The **resources of the Web** are transferred via the Hypertext Transfer Protocol (`HTTP`), may be **accessed by** users by a software application called a **web browser**, and are **published by** a software application called a **web server**. \n",
    "\n",
    "A `web resource` is any identifiable resource (digital, physical, or abstract) present on or connected to the World Wide Web. Resources are identified using Uniform Resource Identifiers.\n",
    "\n"
   ]
  },
  {
   "cell_type": "markdown",
   "metadata": {},
   "source": [
    "## World Wide Web Consortium\n",
    "---\n",
    "The World Wide Web Consortium (**W3C) is** the main international standards **organization** for the World Wide Web.\n",
    "\n",
    "The organization tries to foster compatibility and agreement among industry members in the adoption of new standards defined by the W3C. Incompatible versions of HTML are offered by different vendors, causing inconsistency in how web pages are displayed. The **consortium** tries to **get** all those **vendors** to **implement** a set of core principles and **components** that are **chosen by the consortium**.\n",
    "\n",
    "#### IE History\n",
    "IE caused web developers a lot of pain, however, because many bugs applied exclusively to IE and because it sometimes lagged behind in implementing `new features after the W3C standardized them`."
   ]
  },
  {
   "cell_type": "markdown",
   "metadata": {},
   "source": [
    "## The Sorry(遗憾的) Legacy of Internet Explorer\n",
    "---\n",
    "\n",
    "INTERNET EXPLORER SOON will be a thing of the past. Microsoft will stop supporting Internet Explorer on most operating systems, its **biggest step yet toward phasing out** one of the most **contentious** pieces of software ever written. \n",
    "\n",
    "Microsoft has been distancing itself from the Internet Explorer brand since March. \n",
    "\n",
    "It will not create new security patches for the older versions, leaving anyone who doesn't upgrade vulnerable to new hacks or attacks. 它不会为旧版本创建新的安全补丁，让任何不升级的人都容易受到新的黑客攻击或攻击。\n",
    "\n",
    "That could be a huge hassle for organizations that use custom-built(定制) applications that run correctly only on older browsers. But it could be a **boon** to web developers and designers still trying to find ways to make websites work good on older browsers.  \n",
    "\n",
    "Newer web browser still have their **quirks**, and sites might look different from one browser to the next. But these differences are small compared to how Internet Explorer **mangled** web pages in the late 1990s and early 2000s.\n",
    "\n",
    "By insisting on following its own path with IE rather than follow generally accepted standards, Microsoft **dictated(主宰)** web design by years. Keeping too many old browsers in circulation contributed to that mess. Thankfully, the time has come to move on. 保持太多旧浏览器的流通导致了这种混乱。\n",
    "\n"
   ]
  },
  {
   "cell_type": "markdown",
   "metadata": {},
   "source": [
    "### The Bad Old Days\n",
    "\n",
    "Because Internet Explorer didn't stick to the guidelines established by World Wide Web Consortium the organization that establishes standards for web technologies, it often would display web pages in ways that made them look entirely different from other browsers, such as Netscape, Opera or, later, Firefox. \n",
    "\n",
    "Desperate designers **cobbled together(拼凑)** ways of making sites work across multiple browsers, but a complex layout sometimes required numerous **workarounds**. And Internet Explorer 6 **was notorious for** **security vulnerabilities(安全漏洞)** that Microsoft was sometimes slow to **patch**. Internet Explorer 6 因安全漏洞而臭名昭著，Microsoft 有时修补这些漏洞的速度很慢。\n",
    "\n",
    "But if it was so bad, why was it so widely used? Most people blame Microsoft's practice of **pre-installing** Internet Explorer with Windows starting in 1997, which **contributed** to a **lengthy** `antitrust suit`. 这导致了漫长的反垄断诉讼。\n",
    "\n",
    "Since many users didn't know other browsers existed and `PC vendors(PC供应商)` had **bulk licensing agreements** that prevented them from selling computers with alternates pre-installed, Microsoft effectively **muscled out** the competition. 微软有效地在竞争中脱颖而出。\n",
    "\n"
   ]
  },
  {
   "cell_type": "markdown",
   "metadata": {},
   "source": []
  },
  {
   "cell_type": "markdown",
   "metadata": {},
   "source": [
    "## Internet Explorer History\n",
    "---\n",
    "\n",
    "At its peak in 2004, Microsoft’s Internet Explorer (IE) accounted for an estimated 95 percent of the browser market. As Firefox and Chrome grew more popular, it became increasingly important for web developers to build websites with cross-browser compatibility in mind.\n",
    "\n",
    "IE caused web developers a lot of pain, however, because many bugs applied exclusively to IE and because it sometimes lagged behind in implementing new features after the W3C standardized them.\n",
    "\n",
    "IE was so popular that it maintained a persistent `market share` even after Microsoft themselves moved on from it with `Edge`. Microsoft services will drop support in 2021, and Windows will start to automatically launch certain websites in Edge when users try to open them in IE. They are `aggressively` pushing to get people off of IE.\n",
    "\n",
    "While IE is very close to becoming a `relic` of internet history, some people have claimed that `Safari` is the new IE. \n",
    "\n"
   ]
  },
  {
   "cell_type": "markdown",
   "metadata": {},
   "source": [
    "\n"
   ]
  }
 ],
 "metadata": {
  "kernelspec": {
   "display_name": "Python 3",
   "language": "python",
   "name": "python3"
  },
  "language_info": {
   "codemirror_mode": {
    "name": "ipython",
    "version": 3
   },
   "file_extension": ".py",
   "mimetype": "text/x-python",
   "name": "python",
   "nbconvert_exporter": "python",
   "pygments_lexer": "ipython3",
   "version": "3.8.10"
  }
 },
 "nbformat": 4,
 "nbformat_minor": 4
}
