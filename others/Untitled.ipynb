{
 "cells": [
  {
   "cell_type": "markdown",
   "metadata": {},
   "source": [
    "# Privacy and social media\n",
    "---\n",
    "\n",
    "Using social media has lots of advantages, for example, It is a easy way to make new friends and keep in touch. However, coin has two sides, there are some risks with meeting people online if you don’t already know them or haven’t met them in person. \n",
    "\n",
    "## Threats to Privacy on Social Media\n",
    "\n",
    "### 1. Phishing Attempts\n",
    "\n",
    "Phishing is one of the most common ways criminals attempt to gain access to sensitive personal information. Often in the form of an email, a text message, or a phone call, a phishing attack presents itself as a message from a legitimate organization. These messages trick people into sharing sensitive data, including passwords, banking information, or credit card details. Phishing attacks often pose as social media platforms. In August 2019, a massive phishing campaign targeted Instagram users by posing as a two-factor authentication system, prompting users to log in to a false Instagram page.\n",
    "\n",
    "### 2. Malware Sharing\n",
    "Malware (malicious software) is designed to gain access to computers and the data they contain. Once malware has infiltrated a user’s computer, it can be used to steal sensitive information (spyware), extort money (ransomware), or profit from forced advertising (adware). Social media platforms are an ideal delivery system for malware distributors. Once an account has been compromised (often by obtaining passwords through a phishing attack), cybercriminals can take over that account to distribute malware to all of the user’s friends or contacts.\n",
    "\n",
    "\n",
    "## some simple ways to protect your privacy\n",
    "\n",
    "### 1. Stop giving away your personal information\n",
    "\n",
    "When talking and sharing information online with people you don’t know or trust, keep in mind that once a message, photo or video is shared, there is no control over where it goes. \n",
    "\n",
    "Not sharing the password, setting your profile to private and not accepting friend requests from random people are good standard practices.\n",
    "\n",
    "\n",
    "### 2. Check your mobile app permissions\n",
    "\n",
    "It’s a good idea to go to the permissions settings for each app which you’ve downloaded and opt out of any you’re uncomfortable with. Do this with new apps and for any you already have. This is a good way to against Malware Sharing.\n"
   ]
  }
 ],
 "metadata": {
  "kernelspec": {
   "display_name": "Python 3",
   "language": "python",
   "name": "python3"
  },
  "language_info": {
   "codemirror_mode": {
    "name": "ipython",
    "version": 3
   },
   "file_extension": ".py",
   "mimetype": "text/x-python",
   "name": "python",
   "nbconvert_exporter": "python",
   "pygments_lexer": "ipython3",
   "version": "3.8.10"
  }
 },
 "nbformat": 4,
 "nbformat_minor": 4
}
