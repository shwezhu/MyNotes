{
 "cells": [
  {
   "cell_type": "markdown",
   "metadata": {},
   "source": [
    "# Introduce\n",
    "---\n",
    "As an international student, you want to find the top **undergraduate program**(本科课程) or the best **graduate program** that fits your needs. \n",
    "\n",
    "UNDERGRADUATE PROGRAMS LEAD TO ASSOCIATE'S AND BACHELOR'S DEGREES AND GRADUATE PROGRAMS LEAD TO MASTER'S AND DOCTORAL DEGREES.\n"
   ]
  },
  {
   "cell_type": "markdown",
   "metadata": {},
   "source": [
    "## 1. College and University\n",
    "---\n",
    "\n",
    "**Universities** are public or private institutions that offer both undergraduate and graduate degrees.\n",
    "\n",
    "**Colleges** are normally private and feature fewer students, smaller campuses, and fewer program offerings than universities.\n",
    "\n",
    "+ Colleges and universities primarily differ in program offerings and degree types.\n",
    "\n",
    "\n",
    "+ \"University\" refers to larger institutions offering both undergraduate and graduate programs.\n",
    "\n",
    "\n",
    "+ \"College\" refers to community colleges, technical schools, and liberal arts colleges.\n",
    "\n",
    "\n",
    "Students who want to get their general education credits out of the way can enroll at a community college before transferring to a four-year university.\n",
    "\n",
    "### Community Colleges\n",
    "\n",
    "Also referred to as junior colleges, community colleges are two-year schools that primarily award associate degrees and certificates. \n",
    "\n",
    "Students often complete their general education requirements at a local community college and then transfer to a four-year university to begin pursuing their bachelor's degree.\n",
    "\n",
    "Many community colleges, such as Hutchinson Community College and Ridgewater College, maintain nationally recognized accreditation and program pathways to facilitate the transition from college to university.\n",
    "\n",
    "### Liberal Arts Colleges\n",
    "\n",
    "Rather than specializing in one academic area, liberal arts colleges provide a diverse education to students consisting of subjects like the humanities, mathematics, and the creative arts. These colleges don't prepare you for a specific job — rather, they provide you with transferable skills needed to secure positions across a number of industries.\n",
    "\n",
    "Williams College and Swarthmore College require students to take multiple courses in the humanities, natural sciences, and social sciences. Their curricula include studies in economics, biology, and English literature.\n",
    "\n",
    "### Technical and Vocational Colleges\n",
    "\n",
    "Technical and vocational colleges — also known as trade schools — are two-year colleges that provide specialized training for specific career fields. These institutions are known for their intensive programs, smaller campuses, and less expensive tuition rates.\n",
    "\n",
    "Trade schools do not typically require general education courses and instead focus entirely on developing skills and knowledge needed for a particular trade. Though both technical colleges and vocational colleges boast similar skills-focused curricula, technical college graduates often receive `associate degrees`, whereas vocational graduates primarily earn certificates of completion.\n",
    "\n",
    "The majority of trade schools are private, for-profit institutions, but some technical schools, like Western Technical College in Wisconsin, maintain affiliations with community colleges, making them public schools."
   ]
  },
  {
   "cell_type": "markdown",
   "metadata": {},
   "source": [
    "## 2. Types of degrees\n",
    "---\n",
    "\n",
    "Undergraduate studies offer two general degree types: \n",
    "\n",
    "**Associate degree**    \n",
    "An associate degree is the first level of higher education, usually offered by `community colleges` or `technical schools`. This degree allows students to study general education subjects in addition to a few specific courses in disciplines related to their professional goals. You can enter the workforce in a variety of fields or continue studying at a four-year college or university after completing this degree type. The most common associate degrees are an `Associate of Arts`, an `Associate of Science` or an `Associate of Applied Science`. \n",
    "\n",
    "**Bachelor's degree**    \n",
    "A bachelor’s degree is the second level of higher education, offered by four-year colleges and universities. Though general education courses are required, students focus their studies by choosing a major in a particular subject related to their career goals. A bachelor’s degree is the most common type of college degree, and it can prepare you to enter the workforce in an entry-level position or to continue studying at the graduate level. Common types of bachelor’s degrees include a `Bachelor of Arts`, a `Bachelor of Science`, a `Bachelor of Fine Arts` and a `Bachelor of Applied Science`.\n",
    "\n",
    "\n",
    "Graduate studies fall into two general categories, but the second category is further divided:\n",
    "\n",
    "**Master's degree**    \n",
    "A master’s degree is focused on a specific area of research and is usually career-specific. It can enable you to enter the workforce at an advanced level or to pursue a doctoral degree. The most common master’s degrees include a `Master of Arts`, a `Master of Science`, a `Master of Business Administration` and a `Master of Fine Arts`.\n",
    "\n",
    "**Doctoral degree**    \n",
    "A doctoral degree is the most advanced degree you can earn. Graduates with these degrees are experts in their fields. An academic doctoral degree is a Doctor of Philosophy or Ph.D. These degrees focus primarily on research in a specific field, and the people who earn them often become professors or researchers.\n",
    "\n",
    "**Professional degree**    \n",
    "A professional degree is also a doctoral degree, but one that is required for certain careers. Common professional doctorates include a Juris Doctor to practice law, a Doctor of Medicine to become a physician, a Doctor of Education for educational leadership roles and a Doctor of Pharmacy to work in the pharmaceutical industry.\n",
    "\n"
   ]
  },
  {
   "cell_type": "markdown",
   "metadata": {},
   "source": [
    "## 3. MEng and MASC? Know the Differences\n",
    "---\n",
    "\n",
    "Once you have finished a bachelor’s degree in science, you can choose from amongst various postgraduate courses depending on the science course that you have studied in your bachelor’s degree. You may pursue either Master of Science (`M.Sc`) or the Master of Engineering (`M.Eng`) from abroad.\n",
    "\n",
    "`MASc` refers to the master’s of applied science, it is **esearch and thesis-based program** where you have five courses and a thesis to fulfill the academic requirement. The admission process has a lot of competition. The advantage is that you develop real superior skills in your specialty which helps in pursuing your Ph.D.\n",
    "\n",
    "\n",
    "`MEng` is the Master’s of Engineering which is a more **course-based program** with little or no research. It is less focused and exposes the students to new ideas and information on multiple topics. You will have to do 10 courses or 9 courses and a project to fulfill the academic requirement. Its easier to get admitted and complete such a course.\n",
    "\n",
    "\n",
    "`MSc` and `MASc` in engineeing are the same thing, just varies school to school on which version they use.\n"
   ]
  },
  {
   "cell_type": "markdown",
   "metadata": {},
   "source": [
    "Programs -> Programs and courses -> Master of Engineering Electrical and Computer Engineering\n",
    "\n"
   ]
  }
 ],
 "metadata": {
  "kernelspec": {
   "display_name": "Python 3",
   "language": "python",
   "name": "python3"
  },
  "language_info": {
   "codemirror_mode": {
    "name": "ipython",
    "version": 3
   },
   "file_extension": ".py",
   "mimetype": "text/x-python",
   "name": "python",
   "nbconvert_exporter": "python",
   "pygments_lexer": "ipython3",
   "version": "3.8.10"
  }
 },
 "nbformat": 4,
 "nbformat_minor": 4
}
