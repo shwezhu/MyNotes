{
 "cells": [
  {
   "cell_type": "markdown",
   "id": "c84ee8ac",
   "metadata": {},
   "source": [
    "# My Design of REST API\n",
    "\n",
    "---"
   ]
  },
  {
   "cell_type": "markdown",
   "id": "734e9e49",
   "metadata": {},
   "source": [
    "只适合客户端主动fetch数据，主动push数据。如果想实时控制客户端或客户端与客户端之间数据交互，应该使用MQTT协议。\n",
    "\n",
    "```c\n",
    "char* request = \"GET http://127.0.0.1:8080/temperature?num=10&date=20220828\";\n",
    "\n",
    "Method: GET\n",
    "Root Endpoint: http://172.0.0.1:8080\n",
    "Path: /greenhouse_1/temperature\n",
    "Query Parameters: num=10&date=20220828\n",
    "```\n",
    "\n",
    "\n",
    "```bash\n",
    "# send LF in command line\n",
    "curl --header $'Accept: text\\njavascript' --header \"X-Test: hello\" -v http://127.0.0.1:8080 \n",
    "\n",
    "# send multipl headers using curl\n",
    "curl --header \"Accept: text/javascript\" --header \"X-Test: hello\" -v localhost:8080\n",
    "\n",
    "curl -X GET -H \"sql: select * from temperature\" http://127.0.0.1:8080\n",
    "# if errors occurs in windows, use this:\n",
    "remove-item alias:\\curl\n",
    "```\n",
    "\n",
    "\n",
    "https://www.smashingmagazine.com/2018/01/understanding-using-rest-api/\n",
    "\n",
    "https://docs.github.com/en/rest/repos"
   ]
  }
 ],
 "metadata": {
  "kernelspec": {
   "display_name": "Python 3 (ipykernel)",
   "language": "python",
   "name": "python3"
  },
  "language_info": {
   "codemirror_mode": {
    "name": "ipython",
    "version": 3
   },
   "file_extension": ".py",
   "mimetype": "text/x-python",
   "name": "python",
   "nbconvert_exporter": "python",
   "pygments_lexer": "ipython3",
   "version": "3.9.6"
  }
 },
 "nbformat": 4,
 "nbformat_minor": 5
}
