{
 "cells": [
  {
   "cell_type": "markdown",
   "id": "107bf043",
   "metadata": {},
   "source": [
    "# How to Create Modules in Node.js?\n",
    "\n",
    "---\n",
    "\n",
    "In Node.js, each file is treated as a separate module. \n",
    "\n",
    "#### app.js\n",
    "```js\n",
    "// read -> execute -> return the `exports` object\n",
    "const hello = require('./hello.js');\n",
    "const Cat = require('./cat');\n",
    "\n",
    "hello.name = 'Jack';\n",
    "hello.sayHi();\n",
    "hello.setName('Machine');\n",
    "hello.sayHi();\n",
    "\n",
    "\n",
    "const cat = new Cat('kitten', 1);\n",
    "console.log(cat.getName());\n",
    "```\n",
    "\n",
    "#### cat.js\n",
    "```js\n",
    "module.exports = class Cat {\n",
    "    constructor(name, age) {\n",
    "        // this === current object\n",
    "        this.name = name;\n",
    "        this.age = age;\n",
    "    }\n",
    "\n",
    "    getName() {\n",
    "        return this.name;\n",
    "    }\n",
    "}\n",
    "```\n",
    "\n",
    "#### hello.js\n",
    "```js\n",
    "let name;\n",
    "\n",
    "exports.setName = function (name) {\n",
    "    // console.log(this === window);\n",
    "    this.name = name;\n",
    "}\n",
    "\n",
    "exports.sayHi = function () {\n",
    "    console.log(`hello, my friend ${this.name}`);\n",
    "}\n",
    "```"
   ]
  },
  {
   "cell_type": "markdown",
   "id": "efb388a8",
   "metadata": {},
   "source": [
    "# require() function\n",
    "---\n",
    "Node.js follows the CommonJS module system, and the **built-in `require()` function** is the easiest way to include modules that exist in separate files. The basic functionality of `require()` is that it reads a JavaScript file, executes the file, and then proceeds to return the `exports` object.\n",
    "\n",
    "\n",
    "The rules of where `require()` finds the files can be a little complex, but a simple rule of thumb is that if the file doesn't start with `./` or `/`, then it is either considered a `core module` (and the local Node.js path is checked), or a dependency in the local `node_modules` folder. \n",
    "\n",
    "https://nodejs.org/en/knowledge/getting-started/what-is-require/"
   ]
  },
  {
   "cell_type": "code",
   "execution_count": null,
   "id": "fd812cd9",
   "metadata": {},
   "outputs": [],
   "source": []
  }
 ],
 "metadata": {
  "kernelspec": {
   "display_name": "Python 3 (ipykernel)",
   "language": "python",
   "name": "python3"
  },
  "language_info": {
   "codemirror_mode": {
    "name": "ipython",
    "version": 3
   },
   "file_extension": ".py",
   "mimetype": "text/x-python",
   "name": "python",
   "nbconvert_exporter": "python",
   "pygments_lexer": "ipython3",
   "version": "3.9.6"
  }
 },
 "nbformat": 4,
 "nbformat_minor": 5
}
