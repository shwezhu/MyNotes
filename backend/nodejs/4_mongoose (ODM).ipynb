{
 "cells": [
  {
   "cell_type": "markdown",
   "id": "91312f1d",
   "metadata": {},
   "source": [
    "关于MongoDB的基础知识,请一定要先去`MyNotes/database/mongodb`下去看看基础知识, 介绍了很多概念, 比如NoSQL等...\n",
    "\n",
    "Mongoose is a Object Data Modeling (ODM) library for MongoDB distributed as an npm package. \n",
    "\n",
    "# Mongoose Schema and Model\n",
    "---\n",
    "\n",
    "With Mongoose, you would define a `Schema` object in your application code that maps to a `collection` in your MongoDB database. collection是MongoDB里的概念, 一个Schema object对应一个collection. \n",
    "\n",
    "**The `Schema` object defines the structure of the `documents` in your `collection`. Then, you need to create a `Model` object out of the `schema`. The `model` is used to interact with the `collection`.**\n",
    "\n",
    "For example, let's say we're building a blog and want to represent a blog post. We would first define a `schema` and then create an accompanying Mongoose `model`:\n",
    "\n",
    "```js\n",
    "const blog = new Schema({\n",
    "   title: String,\n",
    "   slug: String,\n",
    "   published: Boolean,\n",
    "   content: String,\n",
    "   tags: [String],\n",
    "   comments: [{\n",
    "       user: String,\n",
    "       content: String,\n",
    "       votes: Number\n",
    "   }]\n",
    "});\n",
    "\n",
    "\n",
    "const Blog = mongoose.model('Blog', blog);\n",
    "```\n",
    "\n",
    "关于这个model函数, 有必要说一下:\n",
    "\n",
    "```js\n",
    "mongoose.model(<Collectionname>, <CollectionSchema>)\n",
    "\n",
    "Collection name: It is the name of the collection.\n",
    "Collection Schema: It is the schema of the collection.\n",
    "```"
   ]
  },
  {
   "cell_type": "markdown",
   "id": "c1357702",
   "metadata": {},
   "source": [
    "# Executing Operations on MongoDB with Mongoose\n",
    "\n",
    "---\n",
    "\n",
    "Once we have a Mongoose model defined, we could run queries for fetching,updating, and deleting data against a MongoDB collection that alignswith the Mongoose model. With the above model, we could do things like:\n",
    "\n",
    "```js\n",
    "// 显然article是Blog的一个instance\n",
    "// Create a new blog post\n",
    "const article = new Blog({\n",
    "   title: 'Awesome Post!',\n",
    "   slug: 'awesome-post',\n",
    "   published: true,\n",
    "   content: 'This is the best post ever',\n",
    "   tags: ['featured', 'announcement'],\n",
    "});\n",
    " \n",
    "// Insert the article in our MongoDB database\n",
    "article.save();\n",
    " \n",
    "// Find a single blog post\n",
    "Blog.findOne({}, (err, post) => {\n",
    "   console.log(post);\n",
    "});\n",
    "\n",
    "```\n",
    "\n",
    "\n",
    "## 更多Mongoose的教程\n",
    "\n",
    "https://www.mongodb.com/developer/languages/javascript/mongoose-versus-nodejs-driver/\n",
    "\n",
    "https://mongoosejs.com/docs/"
   ]
  },
  {
   "cell_type": "code",
   "execution_count": null,
   "id": "19f1266f",
   "metadata": {},
   "outputs": [],
   "source": []
  }
 ],
 "metadata": {
  "kernelspec": {
   "display_name": "Python 3 (ipykernel)",
   "language": "python",
   "name": "python3"
  },
  "language_info": {
   "codemirror_mode": {
    "name": "ipython",
    "version": 3
   },
   "file_extension": ".py",
   "mimetype": "text/x-python",
   "name": "python",
   "nbconvert_exporter": "python",
   "pygments_lexer": "ipython3",
   "version": "3.9.6"
  }
 },
 "nbformat": 4,
 "nbformat_minor": 5
}
