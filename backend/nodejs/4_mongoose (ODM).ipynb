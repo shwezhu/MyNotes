{
 "cells": [
  {
   "cell_type": "markdown",
   "id": "5967659d",
   "metadata": {},
   "source": [
    "关于MongoDB的基础知识,请一定要先去`MyNotes/database/mongodb`下去看看基础知识, 介绍了很多概念, 比如NoSQL等...\n",
    "\n",
    "\n",
    "\n",
    "\n",
    "Mongoose is a Object Data Modeling (ODM) library for MongoDB distributed as an npm package. "
   ]
  },
  {
   "cell_type": "markdown",
   "id": "41b8abe7",
   "metadata": {},
   "source": []
  }
 ],
 "metadata": {
  "kernelspec": {
   "display_name": "Python 3 (ipykernel)",
   "language": "python",
   "name": "python3"
  },
  "language_info": {
   "codemirror_mode": {
    "name": "ipython",
    "version": 3
   },
   "file_extension": ".py",
   "mimetype": "text/x-python",
   "name": "python",
   "nbconvert_exporter": "python",
   "pygments_lexer": "ipython3",
   "version": "3.9.6"
  }
 },
 "nbformat": 4,
 "nbformat_minor": 5
}
