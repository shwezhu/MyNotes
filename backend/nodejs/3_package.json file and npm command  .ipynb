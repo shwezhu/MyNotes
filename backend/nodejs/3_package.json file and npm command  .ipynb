{
 "cells": [
  {
   "cell_type": "markdown",
   "id": "417ac2b2",
   "metadata": {},
   "source": [
    "# Init NodeJS Project\n",
    "\n",
    "---\n",
    "\n",
    "```shell\n",
    "npm init\n",
    "```\n",
    "\n",
    "输入后, 会问一些问题, init指令完成后自动创建一个文件`package.json`. \n",
    "\n"
   ]
  }
 ],
 "metadata": {
  "kernelspec": {
   "display_name": "Python 3 (ipykernel)",
   "language": "python",
   "name": "python3"
  },
  "language_info": {
   "codemirror_mode": {
    "name": "ipython",
    "version": 3
   },
   "file_extension": ".py",
   "mimetype": "text/x-python",
   "name": "python",
   "nbconvert_exporter": "python",
   "pygments_lexer": "ipython3",
   "version": "3.9.6"
  }
 },
 "nbformat": 4,
 "nbformat_minor": 5
}
