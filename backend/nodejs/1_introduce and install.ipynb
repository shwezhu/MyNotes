{
 "cells": [
  {
   "cell_type": "markdown",
   "id": "c7e6dd94",
   "metadata": {},
   "source": [
    "# Node. js \n",
    "\n",
    "---\n",
    "\n",
    "NodeJS 不是语言, 是Javascript的运行环境, 所以就不能像研究语言那样的顺序去研究它了, 而是研究它是个啥:\n",
    "\n",
    "> Node. js is not a programming language. Rather, it's a `runtime environment` that's used to run JavaScript outside the browser. For example on the `server` or in the `command line`.\n",
    "\n",
    "突然想到之前学JS的时候记的一段话, 介绍JS engine的:\n",
    "\n",
    "> The use of JavaScript engines is not limited to browsers. For example, the **V8 engine is a `core component` of the [Node.js](https://www.webopedia.com/definitions/node-js/)**. V8 is the Javascript engine **inside of** node.js that parses and runs your Javascript. The same V8 engine is used **inside of** Chrome to run javascript in the Chrome browser. Both `chrome browser` and `node.js` have `v8` inside.\n",
    "\n",
    "emmm, 当时没看太懂, 但自己知道是因为对环境语言本身的理解不够, 现在再看, 总结的不错, 哈哈哈哈\n",
    "\n",
    "所以接下来要查查怎么安装这个环境, 找到了, 装个pkg, 就像是装个软件一样\n",
    "\n",
    "https://www.w3schools.com/nodejs/nodejs_get_started.asp"
   ]
  },
  {
   "cell_type": "markdown",
   "id": "d39a7eba",
   "metadata": {},
   "source": [
    "## Install\n",
    "emm, 安装的时候,显示了这个, 看来是当作类似命令行的形式用nodejs去执行javascript源文件:\n",
    "\n",
    "This package will install:\n",
    "\n",
    "\t•\tNode.js v16.17.0 to /usr/local/bin/node\n",
    "    \n",
    "\t•\tnpm v8.15.0 to /usr/local/bin/npm\n",
    "    \n",
    "安装完成后, 输入npm --version, node --version测试一下. \n",
    "    \n",
    "那我想用IDEA直接运行呢? 去Jetbrains官网看看去:\n",
    "\n",
    "Required plugins: JavaScript and TypeScript, Node.js (only for developing Node.js applications) The plugins are available only in IntelliJ IDEA Ultimate, where they are enabled by default.(IntelliJ IDEA integrates with Node.js ).\n",
    "\n",
    "这个和官方说的就有点出入, 还是得先安装NodeJS, 然后写了代码才能找到路径去运行, 有点像编译器的感觉, 得先装gcc然后告诉clion路径.\n",
    "\n",
    "https://www.jetbrains.com/help/idea/developing-node-js-applications.html"
   ]
  },
  {
   "cell_type": "markdown",
   "id": "9346972a",
   "metadata": {},
   "source": [
    "## nmp\n",
    "\n",
    "npm这个程序很重要,是package manager, 类似pip, NodeJS的核心之一就是Module, 各个模块放在一块, 如http的库, 什么ftp的库, 用啥就装啥... 而npm就是干这个的. \n",
    "\n",
    "找到了, 官网的介绍关于NodeJS的dependencies内容\n",
    "\n",
    "> Node.js is all about modularity, and with that comes the need for a quality package manager; for this purpose, npm was made. With npm comes the largest selection of community-created packages of any programming ecosystem, which makes building Node.js apps quick and easy.\n",
    "\n",
    "https://nodejs.org/en/docs/meta/topics/dependencies/"
   ]
  },
  {
   "cell_type": "markdown",
   "id": "ba3a6c41",
   "metadata": {},
   "source": [
    "## 深入了解\n",
    "\n",
    "A Node.js app runs in a `single process`, without creating a new thread for every request. Node.js provides a set of asynchronous I/O primitives in its standard library that prevent JavaScript code from blocking and generally, libraries in Node.js are written using non-blocking paradigms, making blocking behavior the exception rather than the norm.\n",
    "\n",
    "更深入的了解NodeJS, 到这个链接:\n",
    "\n",
    "https://nodejs.dev/en/learn/"
   ]
  }
 ],
 "metadata": {
  "kernelspec": {
   "display_name": "Python 3 (ipykernel)",
   "language": "python",
   "name": "python3"
  },
  "language_info": {
   "codemirror_mode": {
    "name": "ipython",
    "version": 3
   },
   "file_extension": ".py",
   "mimetype": "text/x-python",
   "name": "python",
   "nbconvert_exporter": "python",
   "pygments_lexer": "ipython3",
   "version": "3.9.6"
  }
 },
 "nbformat": 4,
 "nbformat_minor": 5
}
