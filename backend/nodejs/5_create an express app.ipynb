{
 "cells": [
  {
   "cell_type": "markdown",
   "id": "1375edcd",
   "metadata": {},
   "source": [
    "如果按照顺序看完前面的章节, 现在已经清楚什么是`package.json` `package-lock.json` `node_modules` `app.js`这几个文件, 还清楚了`express`只是个module, 如何使用`npm`安装modules, 并且理解了`nodejs`只是javascript的一个runtime environment, modules在nodejs的重要意义. \n",
    "\n",
    "下面我们就开始学习nodejs里面的express module, 在IDEA创建了express项目后, 出现了一大堆文件夹, 所以第一步要弄明白这些文件和文件夹都是用来放什么代码的, 其中根目录除了上面提到的四个文件之外, 还有几个重要的文件夹, 分别是 `views`, `routes`, `controllers`, `models`, `services`, `views`里面存的应该是html网页之类的东西, 而`routes`就是简单的导航, 把不同的url(rest api)导航到文件`controllers`下的js文件里面的不同的处理函数(delete, get, post...)中. 所以`routes`里面存的只是简单的导航, 而真正的逻辑, 如何把数据存到数据库, 如何返回数据, 都存在了`controllers`下面, 而`services`文件夹, 就是用来放连接数据库的代码, 如何query, orm相关的代码. 而`models`就是放每个数据库实体的代码, 就是orm, 比如一个猫, 有年龄, 名字吗体重, 就像是个类, 这也就是所谓的建立模型. \n",
    "\n",
    "下面这篇文章介绍的不错,如何organize structure of express apps, 可以去看看:\n",
    "\n",
    "https://blog.logrocket.com/organizing-express-js-project-structure-better-productivity/\n",
    "\n",
    "这里有个例子代码, 结合实际项目去看结构, 体会最深刻, 其实随便找个exress的项目基本都是这个结构, 只不过细节方面有的分类的比较好:\n",
    "\n",
    "https://github.com/adrianhajdin/project_mern_memories"
   ]
  },
  {
   "cell_type": "markdown",
   "id": "adb62dac",
   "metadata": {},
   "source": [
    "# Create An Express App\n",
    "\n",
    "---\n",
    "\n",
    "文章名虽然是Create An Express App, 但要清楚express只是一个module. \n",
    "\n",
    "[Building a REST API with Node and Express](https://stackabuse.com/building-a-rest-api-with-node-and-express/)\n",
    "\n",
    "\n",
    "## 1. 安装MongoDB\n",
    "\n",
    "关于如何安装使用MongoDB, 在`MyNotes/database/`文件夹中有记录.\n"
   ]
  },
  {
   "cell_type": "markdown",
   "id": "ad400a3a",
   "metadata": {},
   "source": [
    "## 2.  连接MongoDB\n",
    "\n"
   ]
  },
  {
   "cell_type": "code",
   "execution_count": null,
   "id": "d432e43b",
   "metadata": {},
   "outputs": [],
   "source": []
  }
 ],
 "metadata": {
  "kernelspec": {
   "display_name": "Python 3 (ipykernel)",
   "language": "python",
   "name": "python3"
  },
  "language_info": {
   "codemirror_mode": {
    "name": "ipython",
    "version": 3
   },
   "file_extension": ".py",
   "mimetype": "text/x-python",
   "name": "python",
   "nbconvert_exporter": "python",
   "pygments_lexer": "ipython3",
   "version": "3.9.6"
  }
 },
 "nbformat": 4,
 "nbformat_minor": 5
}
